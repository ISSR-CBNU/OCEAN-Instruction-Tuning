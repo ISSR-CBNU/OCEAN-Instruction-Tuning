{
 "cells": [
  {
   "cell_type": "markdown",
   "id": "c3fe1488",
   "metadata": {},
   "source": [
    "## 로그인 및 모델 관련 정보 명시\n"
   ]
  },
  {
   "cell_type": "code",
   "execution_count": null,
   "id": "9829493f",
   "metadata": {},
   "outputs": [
    {
     "name": "stderr",
     "output_type": "stream",
     "text": [
      "c:\\Users\\user\\anaconda3\\envs\\ocean\\Lib\\site-packages\\tqdm\\auto.py:21: TqdmWarning: IProgress not found. Please update jupyter and ipywidgets. See https://ipywidgets.readthedocs.io/en/stable/user_install.html\n",
      "  from .autonotebook import tqdm as notebook_tqdm\n"
     ]
    }
   ],
   "source": [
    "from huggingface_hub import login\n",
    "\n",
    "HF_TOKEN = \"\" # 실행 전 토큰 입력\n",
    "RANDOM_STATE = 42\n",
    "BASE_MODEL_ID = \"klue/roberta-base\"\n",
    "TUNED_MODEL_PATH = \"./koRoBERTa_base-checkpoint16000\"\n",
    "\n",
    "login(HF_TOKEN)"
   ]
  },
  {
   "cell_type": "markdown",
   "id": "e93a03d6",
   "metadata": {},
   "source": [
    "## 모델과 토크나이저 생성"
   ]
  },
  {
   "cell_type": "code",
   "execution_count": 2,
   "id": "8dfb8192",
   "metadata": {},
   "outputs": [
    {
     "name": "stderr",
     "output_type": "stream",
     "text": [
      "Some weights of RobertaForSequenceClassification were not initialized from the model checkpoint at ./koRoBERTa_base-checkpoint16000 and are newly initialized: ['classifier.dense.bias', 'classifier.dense.weight', 'classifier.out_proj.bias', 'classifier.out_proj.weight']\n",
      "You should probably TRAIN this model on a down-stream task to be able to use it for predictions and inference.\n"
     ]
    }
   ],
   "source": [
    "from transformers import AutoTokenizer, RobertaForSequenceClassification, AutoConfig\n",
    "\n",
    "# 모델 설정 로드\n",
    "config = AutoConfig.from_pretrained(\n",
    "    f\"{TUNED_MODEL_PATH}/config.json\",\n",
    "    local_files_only=True\n",
    ")\n",
    "\n",
    "# 시퀀스 분류 모델로 변경 (5개 OCEAN 점수 예측)\n",
    "# 원본 RoBERTa를 시퀀스 분류 모델로 변경\n",
    "config.num_labels = 5  # OCEAN 5가지 차원\n",
    "config.problem_type = \"regression\"  # 회귀 문제로 설정\n",
    "\n",
    "# 시퀀스 분류 모델 로드\n",
    "model = RobertaForSequenceClassification.from_pretrained( # 회귀에도 사용됨\n",
    "    TUNED_MODEL_PATH,\n",
    "    config=config,\n",
    "    local_files_only=True\n",
    ")\n",
    " \n",
    "# 토크나이저 로드\n",
    "tokenizer = AutoTokenizer.from_pretrained(BASE_MODEL_ID)\n",
    "tokenizer.pad_token = tokenizer.eos_token # padding 명시"
   ]
  },
  {
   "cell_type": "markdown",
   "id": "da27cea7",
   "metadata": {},
   "source": [
    "## 데이터셋 불러오기"
   ]
  },
  {
   "cell_type": "code",
   "execution_count": null,
   "id": "379285b4",
   "metadata": {},
   "outputs": [
    {
     "name": "stdout",
     "output_type": "stream",
     "text": [
      "Dataset({\n",
      "    features: ['text', 'OCEAN'],\n",
      "    num_rows: 11307\n",
      "})\n"
     ]
    }
   ],
   "source": [
    "import pandas as pd\n",
    "from datasets import Dataset\n",
    "\n",
    "csv_file_path = \"./dataset/instruction_tuning_data.csv\"\n",
    "df = pd.read_csv(csv_file_path)\n",
    "\n",
    "dataset_hf = Dataset.from_pandas(df)\n",
    "print(dataset_hf)"
   ]
  },
  {
   "cell_type": "markdown",
   "id": "f8299d90",
   "metadata": {},
   "source": [
    "## OCEAN -> 숫자 배열"
   ]
  },
  {
   "cell_type": "code",
   "execution_count": 4,
   "id": "8fddd648",
   "metadata": {},
   "outputs": [],
   "source": [
    "def parse_ocean_scores(ocean_str):\n",
    "    try:\n",
    "        clean_str = ocean_str.strip('[]').strip()\n",
    "        if ',' in clean_str:\n",
    "            scores = [float(x.strip()) for x in clean_str.split(',')]\n",
    "        else:\n",
    "            scores = [float(x) for x in clean_str.split()]\n",
    "        \n",
    "        # 정확히 5개 점수인지 확인\n",
    "        if len(scores) != 5:\n",
    "            print(f\"경고: 예상치 못한 OCEAN 점수 형식: {ocean_str}, 결과: {scores}\")\n",
    "            # 부족한 경우 0으로 채움\n",
    "            while len(scores) < 5:\n",
    "                scores.append(0.0)\n",
    "            # 넘치는 경우 자름\n",
    "            scores = scores[:5]\n",
    "        \n",
    "        return scores\n",
    "    except Exception as e:\n",
    "        print(f\"OCEAN 점수 파싱 오류: {e}, 입력: {ocean_str}\")\n",
    "        return [0.0, 0.0, 0.0, 0.0, 0.0]  # 오류 시 기본값 반환\n"
   ]
  },
  {
   "cell_type": "markdown",
   "id": "167e3672",
   "metadata": {},
   "source": [
    "## 데이터셋 토큰화"
   ]
  },
  {
   "cell_type": "code",
   "execution_count": 5,
   "id": "0e52b267",
   "metadata": {},
   "outputs": [],
   "source": [
    "def tokenize_and_prepare(examples):\n",
    "    result = tokenizer(\n",
    "        examples[\"text\"],\n",
    "        padding=\"max_length\",\n",
    "        truncation=True,\n",
    "        max_length=512,\n",
    "        return_tensors=None  # batch 처리를 위해 None으로 설정\n",
    "    )\n",
    "    \n",
    "    labels = []\n",
    "    for ocean_str in examples[\"OCEAN\"]:\n",
    "        scores = parse_ocean_scores(ocean_str)\n",
    "        labels.append(scores)\n",
    "    \n",
    "    result[\"labels\"] = labels\n",
    "    \n",
    "    return result"
   ]
  },
  {
   "cell_type": "markdown",
   "id": "c2380856",
   "metadata": {},
   "source": [
    "## 데이터셋에 변환 함수 적용 및 스플릿"
   ]
  },
  {
   "cell_type": "code",
   "execution_count": 6,
   "id": "6ea608d4",
   "metadata": {},
   "outputs": [
    {
     "name": "stderr",
     "output_type": "stream",
     "text": [
      "Map: 100%|██████████| 11307/11307 [00:02<00:00, 5574.88 examples/s]\n"
     ]
    }
   ],
   "source": [
    "processed_dataset = dataset_hf.map(\n",
    "    tokenize_and_prepare,\n",
    "    batched=True,\n",
    "    remove_columns=dataset_hf.column_names\n",
    ")\n",
    "\n",
    "train_test_split = processed_dataset.train_test_split(test_size=0.2, seed=RANDOM_STATE)\n",
    "train_dataset = train_test_split['train']\n",
    "temp_dataset = train_test_split['test']\n",
    "\n",
    "valid_test_split = temp_dataset.train_test_split(test_size=0.5, seed=RANDOM_STATE)\n",
    "eval_dataset = valid_test_split['train']\n",
    "test_dataset = valid_test_split['test']"
   ]
  },
  {
   "cell_type": "code",
   "execution_count": 7,
   "id": "67d07a35",
   "metadata": {},
   "outputs": [
    {
     "name": "stdout",
     "output_type": "stream",
     "text": [
      "학습 데이터셋 크기: 9045\n",
      "검증 데이터셋 크기: 1131\n",
      "테스트 데이터셋 크기: 1131\n"
     ]
    }
   ],
   "source": [
    "print(f\"학습 데이터셋 크기: {len(train_dataset)}\")\n",
    "print(f\"검증 데이터셋 크기: {len(eval_dataset)}\")\n",
    "print(f\"테스트 데이터셋 크기: {len(test_dataset)}\")"
   ]
  },
  {
   "cell_type": "markdown",
   "id": "eef7cf4e",
   "metadata": {},
   "source": [
    "## 모델 학습"
   ]
  },
  {
   "cell_type": "code",
   "execution_count": 8,
   "id": "35910f6a",
   "metadata": {},
   "outputs": [
    {
     "name": "stdout",
     "output_type": "stream",
     "text": [
      "trainable params: 4,428,293 || all params: 115,050,250 || trainable%: 3.8490\n",
      "학습 가능한 파라미터: None\n"
     ]
    },
    {
     "name": "stderr",
     "output_type": "stream",
     "text": [
      "c:\\Users\\user\\anaconda3\\envs\\ocean\\Lib\\site-packages\\transformers\\training_args.py:1568: FutureWarning: `evaluation_strategy` is deprecated and will be removed in version 4.46 of 🤗 Transformers. Use `eval_strategy` instead\n",
      "  warnings.warn(\n",
      "C:\\Users\\user\\AppData\\Local\\Temp\\ipykernel_31624\\1729033331.py:69: FutureWarning: `tokenizer` is deprecated and will be removed in version 5.0.0 for `Trainer.__init__`. Use `processing_class` instead.\n",
      "  trainer = Trainer(\n"
     ]
    },
    {
     "name": "stdout",
     "output_type": "stream",
     "text": [
      "학습 시작...\n"
     ]
    },
    {
     "name": "stderr",
     "output_type": "stream",
     "text": [
      "  1%|          | 2261/226100 [12:30<22:31:27,  2.76it/s]"
     ]
    },
    {
     "name": "stdout",
     "output_type": "stream",
     "text": [
      "{'loss': 0.0599, 'grad_norm': 3.405261278152466, 'learning_rate': 2e-05, 'epoch': 1.0}\n"
     ]
    },
    {
     "name": "stderr",
     "output_type": "stream",
     "text": [
      "                                                        \n",
      "  1%|          | 2261/226100 [12:36<22:31:27,  2.76it/s]"
     ]
    },
    {
     "name": "stdout",
     "output_type": "stream",
     "text": [
      "{'eval_loss': 0.024051839485764503, 'eval_mse': 0.024051839485764503, 'eval_mae': 0.12924432754516602, 'eval_accuracy_like': 0.870755672454834, 'eval_openness_acc': 0.8712230920791626, 'eval_conscientiousness_acc': 0.8835494518280029, 'eval_extraversion_acc': 0.8678182363510132, 'eval_agreeableness_acc': 0.8751952648162842, 'eval_neuroticism_acc': 0.8559926152229309, 'eval_openness_mae': 0.1287768930196762, 'eval_conscientiousness_mae': 0.11645057052373886, 'eval_extraversion_mae': 0.1321817934513092, 'eval_agreeableness_mae': 0.12480471283197403, 'eval_neuroticism_mae': 0.1440073847770691, 'eval_runtime': 6.058, 'eval_samples_per_second': 186.696, 'eval_steps_per_second': 23.44, 'epoch': 1.0}\n"
     ]
    },
    {
     "name": "stderr",
     "output_type": "stream",
     "text": [
      "  2%|▏         | 4522/226100 [25:06<19:21:14,  3.18it/s] "
     ]
    },
    {
     "name": "stdout",
     "output_type": "stream",
     "text": [
      "{'loss': 0.0277, 'grad_norm': 3.0957677364349365, 'learning_rate': 3.99734630694383e-05, 'epoch': 2.0}\n"
     ]
    },
    {
     "name": "stderr",
     "output_type": "stream",
     "text": [
      "                                                        \n",
      "  2%|▏         | 4522/226100 [25:11<19:21:14,  3.18it/s]"
     ]
    },
    {
     "name": "stdout",
     "output_type": "stream",
     "text": [
      "{'eval_loss': 0.02398531883955002, 'eval_mse': 0.02398531697690487, 'eval_mae': 0.12771517038345337, 'eval_accuracy_like': 0.8722848296165466, 'eval_openness_acc': 0.87218177318573, 'eval_conscientiousness_acc': 0.8878456950187683, 'eval_extraversion_acc': 0.8692828416824341, 'eval_agreeableness_acc': 0.880011796951294, 'eval_neuroticism_acc': 0.8521021604537964, 'eval_openness_mae': 0.1278182417154312, 'eval_conscientiousness_mae': 0.11215431243181229, 'eval_extraversion_mae': 0.13071712851524353, 'eval_agreeableness_mae': 0.11998821049928665, 'eval_neuroticism_mae': 0.147897869348526, 'eval_runtime': 5.9077, 'eval_samples_per_second': 191.446, 'eval_steps_per_second': 24.037, 'epoch': 2.0}\n"
     ]
    },
    {
     "name": "stderr",
     "output_type": "stream",
     "text": [
      "  3%|▎         | 6783/226100 [37:42<19:24:22,  3.14it/s] "
     ]
    },
    {
     "name": "stdout",
     "output_type": "stream",
     "text": [
      "{'loss': 0.0267, 'grad_norm': 4.005758285522461, 'learning_rate': 5.9964617425917736e-05, 'epoch': 3.0}\n"
     ]
    },
    {
     "name": "stderr",
     "output_type": "stream",
     "text": [
      "                                                        \n",
      "  3%|▎         | 6784/226100 [37:49<131:50:55,  2.16s/it]"
     ]
    },
    {
     "name": "stdout",
     "output_type": "stream",
     "text": [
      "{'eval_loss': 0.023524245247244835, 'eval_mse': 0.023524245247244835, 'eval_mae': 0.12885485589504242, 'eval_accuracy_like': 0.8711451292037964, 'eval_openness_acc': 0.8719807267189026, 'eval_conscientiousness_acc': 0.8870340585708618, 'eval_extraversion_acc': 0.8652752637863159, 'eval_agreeableness_acc': 0.876105546951294, 'eval_neuroticism_acc': 0.8553304076194763, 'eval_openness_mae': 0.1280192881822586, 'eval_conscientiousness_mae': 0.11296594142913818, 'eval_extraversion_mae': 0.13472475111484528, 'eval_agreeableness_mae': 0.12389443069696426, 'eval_neuroticism_mae': 0.14466960728168488, 'eval_runtime': 6.0386, 'eval_samples_per_second': 187.295, 'eval_steps_per_second': 23.515, 'epoch': 3.0}\n"
     ]
    },
    {
     "name": "stderr",
     "output_type": "stream",
     "text": [
      "  4%|▍         | 9045/226100 [50:20<20:44:18,  2.91it/s] "
     ]
    },
    {
     "name": "stdout",
     "output_type": "stream",
     "text": [
      "{'loss': 0.0263, 'grad_norm': 1.9115771055221558, 'learning_rate': 7.99734630694383e-05, 'epoch': 4.0}\n"
     ]
    },
    {
     "name": "stderr",
     "output_type": "stream",
     "text": [
      "                                                        \n",
      "  4%|▍         | 9045/226100 [50:26<20:44:18,  2.91it/s]"
     ]
    },
    {
     "name": "stdout",
     "output_type": "stream",
     "text": [
      "{'eval_loss': 0.024442186579108238, 'eval_mse': 0.024442186579108238, 'eval_mae': 0.1300174593925476, 'eval_accuracy_like': 0.8699825406074524, 'eval_openness_acc': 0.8686916828155518, 'eval_conscientiousness_acc': 0.889886736869812, 'eval_extraversion_acc': 0.8696610927581787, 'eval_agreeableness_acc': 0.880595326423645, 'eval_neuroticism_acc': 0.8410779237747192, 'eval_openness_mae': 0.13130833208560944, 'eval_conscientiousness_mae': 0.11011325567960739, 'eval_extraversion_mae': 0.13033893704414368, 'eval_agreeableness_mae': 0.11940465122461319, 'eval_neuroticism_mae': 0.15892207622528076, 'eval_runtime': 5.8973, 'eval_samples_per_second': 191.784, 'eval_steps_per_second': 24.079, 'epoch': 4.0}\n"
     ]
    },
    {
     "name": "stderr",
     "output_type": "stream",
     "text": [
      "  5%|▌         | 11306/226100 [1:03:05<20:58:10,  2.85it/s]"
     ]
    },
    {
     "name": "stdout",
     "output_type": "stream",
     "text": [
      "{'loss': 0.026, 'grad_norm': 2.061069965362549, 'learning_rate': 9.997346306943832e-05, 'epoch': 5.0}\n"
     ]
    },
    {
     "name": "stderr",
     "output_type": "stream",
     "text": [
      "                                                           \n",
      "  5%|▌         | 11306/226100 [1:03:11<20:58:10,  2.85it/s]"
     ]
    },
    {
     "name": "stdout",
     "output_type": "stream",
     "text": [
      "{'eval_loss': 0.02475963905453682, 'eval_mse': 0.02475963719189167, 'eval_mae': 0.1293671727180481, 'eval_accuracy_like': 0.8706328272819519, 'eval_openness_acc': 0.8732844591140747, 'eval_conscientiousness_acc': 0.8772004842758179, 'eval_extraversion_acc': 0.863176703453064, 'eval_agreeableness_acc': 0.8770838379859924, 'eval_neuroticism_acc': 0.8624188899993896, 'eval_openness_mae': 0.1267155408859253, 'eval_conscientiousness_mae': 0.12279952317476273, 'eval_extraversion_mae': 0.13682331144809723, 'eval_agreeableness_mae': 0.12291618436574936, 'eval_neuroticism_mae': 0.13758111000061035, 'eval_runtime': 5.8496, 'eval_samples_per_second': 193.345, 'eval_steps_per_second': 24.275, 'epoch': 5.0}\n"
     ]
    },
    {
     "name": "stderr",
     "output_type": "stream",
     "text": [
      "  6%|▌         | 13567/226100 [1:15:41<19:51:08,  2.97it/s] "
     ]
    },
    {
     "name": "stdout",
     "output_type": "stream",
     "text": [
      "{'loss': 0.0254, 'grad_norm': 2.6824750900268555, 'learning_rate': 0.00011996461742591773, 'epoch': 6.0}\n"
     ]
    },
    {
     "name": "stderr",
     "output_type": "stream",
     "text": [
      "                                                           \n",
      "  6%|▌         | 13567/226100 [1:15:47<19:51:08,  2.97it/s]"
     ]
    },
    {
     "name": "stdout",
     "output_type": "stream",
     "text": [
      "{'eval_loss': 0.024526476860046387, 'eval_mse': 0.024526474997401237, 'eval_mae': 0.12906916439533234, 'eval_accuracy_like': 0.8709308505058289, 'eval_openness_acc': 0.857351541519165, 'eval_conscientiousness_acc': 0.8884249329566956, 'eval_extraversion_acc': 0.8707520961761475, 'eval_agreeableness_acc': 0.8811566233634949, 'eval_neuroticism_acc': 0.8569691181182861, 'eval_openness_mae': 0.14264842867851257, 'eval_conscientiousness_mae': 0.11157508194446564, 'eval_extraversion_mae': 0.12924788892269135, 'eval_agreeableness_mae': 0.11884339898824692, 'eval_neuroticism_mae': 0.14303091168403625, 'eval_runtime': 5.8391, 'eval_samples_per_second': 193.696, 'eval_steps_per_second': 24.319, 'epoch': 6.0}\n"
     ]
    },
    {
     "name": "stderr",
     "output_type": "stream",
     "text": [
      "  7%|▋         | 15828/226100 [1:28:20<20:02:31,  2.91it/s] "
     ]
    },
    {
     "name": "stdout",
     "output_type": "stream",
     "text": [
      "{'loss': 0.0246, 'grad_norm': 1.5255364179611206, 'learning_rate': 0.00013996461742591773, 'epoch': 7.0}\n"
     ]
    },
    {
     "name": "stderr",
     "output_type": "stream",
     "text": [
      "                                                           \n",
      "  7%|▋         | 15828/226100 [1:28:26<20:02:31,  2.91it/s]"
     ]
    },
    {
     "name": "stdout",
     "output_type": "stream",
     "text": [
      "{'eval_loss': 0.02361406572163105, 'eval_mse': 0.02361406572163105, 'eval_mae': 0.1282886415719986, 'eval_accuracy_like': 0.8717113733291626, 'eval_openness_acc': 0.8732038736343384, 'eval_conscientiousness_acc': 0.8799880146980286, 'eval_extraversion_acc': 0.8717043399810791, 'eval_agreeableness_acc': 0.8798283934593201, 'eval_neuroticism_acc': 0.8538322448730469, 'eval_openness_mae': 0.12679611146450043, 'eval_conscientiousness_mae': 0.12001197040081024, 'eval_extraversion_mae': 0.1282956749200821, 'eval_agreeableness_mae': 0.12017158418893814, 'eval_neuroticism_mae': 0.14616774022579193, 'eval_runtime': 5.7998, 'eval_samples_per_second': 195.006, 'eval_steps_per_second': 24.484, 'epoch': 7.0}\n"
     ]
    },
    {
     "name": "stderr",
     "output_type": "stream",
     "text": [
      "  8%|▊         | 18090/226100 [1:40:57<20:05:05,  2.88it/s] "
     ]
    },
    {
     "name": "stdout",
     "output_type": "stream",
     "text": [
      "{'loss': 0.024, 'grad_norm': 0.8695892691612244, 'learning_rate': 0.00015996461742591775, 'epoch': 8.0}\n"
     ]
    },
    {
     "name": "stderr",
     "output_type": "stream",
     "text": [
      "                                                           \n",
      "  8%|▊         | 18090/226100 [1:41:03<20:05:05,  2.88it/s]"
     ]
    },
    {
     "name": "stdout",
     "output_type": "stream",
     "text": [
      "{'eval_loss': 0.023689258843660355, 'eval_mse': 0.023689256981015205, 'eval_mae': 0.12710247933864594, 'eval_accuracy_like': 0.8728975057601929, 'eval_openness_acc': 0.873127818107605, 'eval_conscientiousness_acc': 0.8891240358352661, 'eval_extraversion_acc': 0.8671726584434509, 'eval_agreeableness_acc': 0.8771926164627075, 'eval_neuroticism_acc': 0.8578706979751587, 'eval_openness_mae': 0.1268721967935562, 'eval_conscientiousness_mae': 0.11087594926357269, 'eval_extraversion_mae': 0.13282734155654907, 'eval_agreeableness_mae': 0.12280740588903427, 'eval_neuroticism_mae': 0.14212928712368011, 'eval_runtime': 5.823, 'eval_samples_per_second': 194.229, 'eval_steps_per_second': 24.386, 'epoch': 8.0}\n"
     ]
    },
    {
     "name": "stderr",
     "output_type": "stream",
     "text": [
      "  9%|▉         | 20351/226100 [1:53:29<18:11:47,  3.14it/s] "
     ]
    },
    {
     "name": "stdout",
     "output_type": "stream",
     "text": [
      "{'loss': 0.0234, 'grad_norm': 1.699510097503662, 'learning_rate': 0.0001799469261388766, 'epoch': 9.0}\n"
     ]
    },
    {
     "name": "stderr",
     "output_type": "stream",
     "text": [
      "                                                           \n",
      "  9%|▉         | 20351/226100 [1:53:35<18:11:47,  3.14it/s]"
     ]
    },
    {
     "name": "stdout",
     "output_type": "stream",
     "text": [
      "{'eval_loss': 0.023939818143844604, 'eval_mse': 0.023939818143844604, 'eval_mae': 0.12826958298683167, 'eval_accuracy_like': 0.8717304468154907, 'eval_openness_acc': 0.8692260980606079, 'eval_conscientiousness_acc': 0.8865544199943542, 'eval_extraversion_acc': 0.8720637559890747, 'eval_agreeableness_acc': 0.8809865713119507, 'eval_neuroticism_acc': 0.8498215079307556, 'eval_openness_mae': 0.1307738721370697, 'eval_conscientiousness_mae': 0.11344557255506516, 'eval_extraversion_mae': 0.1279362589120865, 'eval_agreeableness_mae': 0.11901341378688812, 'eval_neuroticism_mae': 0.15017850697040558, 'eval_runtime': 5.9428, 'eval_samples_per_second': 190.315, 'eval_steps_per_second': 23.894, 'epoch': 9.0}\n"
     ]
    },
    {
     "name": "stderr",
     "output_type": "stream",
     "text": [
      " 10%|█         | 22612/226100 [2:06:02<19:53:12,  2.84it/s] "
     ]
    },
    {
     "name": "stdout",
     "output_type": "stream",
     "text": [
      "{'loss': 0.0227, 'grad_norm': 0.8851110339164734, 'learning_rate': 0.00019993808049535605, 'epoch': 10.0}\n"
     ]
    },
    {
     "name": "stderr",
     "output_type": "stream",
     "text": [
      "                                                           \n",
      " 10%|█         | 22612/226100 [2:06:08<19:53:12,  2.84it/s]"
     ]
    },
    {
     "name": "stdout",
     "output_type": "stream",
     "text": [
      "{'eval_loss': 0.022953292354941368, 'eval_mse': 0.022953292354941368, 'eval_mae': 0.12487294524908066, 'eval_accuracy_like': 0.8751270771026611, 'eval_openness_acc': 0.8734385967254639, 'eval_conscientiousness_acc': 0.8878495693206787, 'eval_extraversion_acc': 0.872382402420044, 'eval_agreeableness_acc': 0.8817257285118103, 'eval_neuroticism_acc': 0.8602391481399536, 'eval_openness_mae': 0.12656137347221375, 'eval_conscientiousness_mae': 0.11215042322874069, 'eval_extraversion_mae': 0.12761756777763367, 'eval_agreeableness_mae': 0.1182742491364479, 'eval_neuroticism_mae': 0.13976088166236877, 'eval_runtime': 5.8917, 'eval_samples_per_second': 191.964, 'eval_steps_per_second': 24.102, 'epoch': 10.0}\n"
     ]
    },
    {
     "name": "stderr",
     "output_type": "stream",
     "text": [
      " 11%|█         | 24873/226100 [2:18:36<18:08:46,  3.08it/s] "
     ]
    },
    {
     "name": "stdout",
     "output_type": "stream",
     "text": [
      "{'loss': 0.0216, 'grad_norm': 2.1592462062835693, 'learning_rate': 0.00019778465772273823, 'epoch': 11.0}\n"
     ]
    },
    {
     "name": "stderr",
     "output_type": "stream",
     "text": [
      "                                                           \n",
      " 11%|█         | 24873/226100 [2:18:42<18:08:46,  3.08it/s]"
     ]
    },
    {
     "name": "stdout",
     "output_type": "stream",
     "text": [
      "{'eval_loss': 0.025016821920871735, 'eval_mse': 0.025016821920871735, 'eval_mae': 0.12967942655086517, 'eval_accuracy_like': 0.8703205585479736, 'eval_openness_acc': 0.872748076915741, 'eval_conscientiousness_acc': 0.8781164288520813, 'eval_extraversion_acc': 0.871426522731781, 'eval_agreeableness_acc': 0.875842273235321, 'eval_neuroticism_acc': 0.853469729423523, 'eval_openness_mae': 0.12725192308425903, 'eval_conscientiousness_mae': 0.12188359349966049, 'eval_extraversion_mae': 0.1285734921693802, 'eval_agreeableness_mae': 0.12415770441293716, 'eval_neuroticism_mae': 0.14653027057647705, 'eval_runtime': 5.9241, 'eval_samples_per_second': 190.916, 'eval_steps_per_second': 23.97, 'epoch': 11.0}\n"
     ]
    },
    {
     "name": "stderr",
     "output_type": "stream",
     "text": [
      " 12%|█▏        | 27135/226100 [2:31:17<18:34:24,  2.98it/s] "
     ]
    },
    {
     "name": "stdout",
     "output_type": "stream",
     "text": [
      "{'loss': 0.0205, 'grad_norm': 1.6330554485321045, 'learning_rate': 0.00019556145265123593, 'epoch': 12.0}\n"
     ]
    },
    {
     "name": "stderr",
     "output_type": "stream",
     "text": [
      "                                                           \n",
      " 12%|█▏        | 27135/226100 [2:31:22<18:34:24,  2.98it/s]"
     ]
    },
    {
     "name": "stdout",
     "output_type": "stream",
     "text": [
      "{'eval_loss': 0.0243216659873724, 'eval_mse': 0.024321667850017548, 'eval_mae': 0.12697656452655792, 'eval_accuracy_like': 0.8730234503746033, 'eval_openness_acc': 0.8688635230064392, 'eval_conscientiousness_acc': 0.8869122266769409, 'eval_extraversion_acc': 0.8715079426765442, 'eval_agreeableness_acc': 0.8797345161437988, 'eval_neuroticism_acc': 0.8580992817878723, 'eval_openness_mae': 0.1311364620923996, 'eval_conscientiousness_mae': 0.11308778822422028, 'eval_extraversion_mae': 0.1284920573234558, 'eval_agreeableness_mae': 0.12026551365852356, 'eval_neuroticism_mae': 0.14190071821212769, 'eval_runtime': 5.9176, 'eval_samples_per_second': 191.123, 'eval_steps_per_second': 23.996, 'epoch': 12.0}\n"
     ]
    },
    {
     "name": "stderr",
     "output_type": "stream",
     "text": [
      " 13%|█▎        | 29396/226100 [2:43:33<18:15:54,  2.99it/s] "
     ]
    },
    {
     "name": "stdout",
     "output_type": "stream",
     "text": [
      "{'loss': 0.0192, 'grad_norm': 1.5130417346954346, 'learning_rate': 0.0001933402132782938, 'epoch': 13.0}\n"
     ]
    },
    {
     "name": "stderr",
     "output_type": "stream",
     "text": [
      "                                                           \n",
      " 13%|█▎        | 29396/226100 [2:43:39<18:15:54,  2.99it/s]"
     ]
    },
    {
     "name": "stdout",
     "output_type": "stream",
     "text": [
      "{'eval_loss': 0.02376316860318184, 'eval_mse': 0.02376316860318184, 'eval_mae': 0.12587110698223114, 'eval_accuracy_like': 0.8741288781166077, 'eval_openness_acc': 0.8746336698532104, 'eval_conscientiousness_acc': 0.8848931789398193, 'eval_extraversion_acc': 0.8717218041419983, 'eval_agreeableness_acc': 0.8809317350387573, 'eval_neuroticism_acc': 0.858464241027832, 'eval_openness_mae': 0.12536634504795074, 'eval_conscientiousness_mae': 0.11510682851076126, 'eval_extraversion_mae': 0.12827818095684052, 'eval_agreeableness_mae': 0.11906824260950089, 'eval_neuroticism_mae': 0.14153572916984558, 'eval_runtime': 5.8685, 'eval_samples_per_second': 192.725, 'eval_steps_per_second': 24.197, 'epoch': 13.0}\n"
     ]
    },
    {
     "name": "stderr",
     "output_type": "stream",
     "text": [
      " 14%|█▍        | 31657/226100 [2:55:28<16:40:42,  3.24it/s] "
     ]
    },
    {
     "name": "stdout",
     "output_type": "stream",
     "text": [
      "{'loss': 0.0181, 'grad_norm': 1.999680995941162, 'learning_rate': 0.00019111897390535162, 'epoch': 14.0}\n"
     ]
    },
    {
     "name": "stderr",
     "output_type": "stream",
     "text": [
      "                                                           \n",
      " 14%|█▍        | 31657/226100 [2:55:34<16:40:42,  3.24it/s]"
     ]
    },
    {
     "name": "stdout",
     "output_type": "stream",
     "text": [
      "{'eval_loss': 0.02495492622256279, 'eval_mse': 0.02495492808520794, 'eval_mae': 0.125911146402359, 'eval_accuracy_like': 0.8740888833999634, 'eval_openness_acc': 0.8722537159919739, 'eval_conscientiousness_acc': 0.8871923685073853, 'eval_extraversion_acc': 0.8720755577087402, 'eval_agreeableness_acc': 0.8800561428070068, 'eval_neuroticism_acc': 0.8588667511940002, 'eval_openness_mae': 0.12774628400802612, 'eval_conscientiousness_mae': 0.11280760914087296, 'eval_extraversion_mae': 0.12792445719242096, 'eval_agreeableness_mae': 0.11994384974241257, 'eval_neuroticism_mae': 0.14113324880599976, 'eval_runtime': 5.7991, 'eval_samples_per_second': 195.03, 'eval_steps_per_second': 24.486, 'epoch': 14.0}\n"
     ]
    },
    {
     "name": "stderr",
     "output_type": "stream",
     "text": [
      " 15%|█▌        | 33918/226100 [3:07:34<17:01:08,  3.14it/s] "
     ]
    },
    {
     "name": "stdout",
     "output_type": "stream",
     "text": [
      "{'loss': 0.0171, 'grad_norm': 2.0657691955566406, 'learning_rate': 0.00018889773453240947, 'epoch': 15.0}\n"
     ]
    },
    {
     "name": "stderr",
     "output_type": "stream",
     "text": [
      "                                                           \n",
      " 15%|█▌        | 33918/226100 [3:07:40<17:01:08,  3.14it/s]"
     ]
    },
    {
     "name": "stdout",
     "output_type": "stream",
     "text": [
      "{'eval_loss': 0.025263013318181038, 'eval_mse': 0.025263013318181038, 'eval_mae': 0.12874965369701385, 'eval_accuracy_like': 0.871250331401825, 'eval_openness_acc': 0.8712139129638672, 'eval_conscientiousness_acc': 0.8827909827232361, 'eval_extraversion_acc': 0.8686648607254028, 'eval_agreeableness_acc': 0.8763731718063354, 'eval_neuroticism_acc': 0.8572092056274414, 'eval_openness_mae': 0.1287861168384552, 'eval_conscientiousness_mae': 0.11720901727676392, 'eval_extraversion_mae': 0.13133515417575836, 'eval_agreeableness_mae': 0.12362681329250336, 'eval_neuroticism_mae': 0.14279082417488098, 'eval_runtime': 5.895, 'eval_samples_per_second': 191.858, 'eval_steps_per_second': 24.088, 'epoch': 15.0}\n"
     ]
    },
    {
     "name": "stderr",
     "output_type": "stream",
     "text": [
      " 16%|█▌        | 36180/226100 [3:19:33<17:10:48,  3.07it/s] "
     ]
    },
    {
     "name": "stdout",
     "output_type": "stream",
     "text": [
      "{'loss': 0.0163, 'grad_norm': 1.8444225788116455, 'learning_rate': 0.00018667452946090717, 'epoch': 16.0}\n"
     ]
    },
    {
     "name": "stderr",
     "output_type": "stream",
     "text": [
      "                                                           \n",
      " 16%|█▌        | 36180/226100 [3:19:39<17:10:48,  3.07it/s]"
     ]
    },
    {
     "name": "stdout",
     "output_type": "stream",
     "text": [
      "{'eval_loss': 0.025940679013729095, 'eval_mse': 0.025940680876374245, 'eval_mae': 0.1305702030658722, 'eval_accuracy_like': 0.8694298267364502, 'eval_openness_acc': 0.8712366223335266, 'eval_conscientiousness_acc': 0.8808865547180176, 'eval_extraversion_acc': 0.8635998368263245, 'eval_agreeableness_acc': 0.8714966773986816, 'eval_neuroticism_acc': 0.8599295616149902, 'eval_openness_mae': 0.1287633776664734, 'eval_conscientiousness_mae': 0.11911346763372421, 'eval_extraversion_mae': 0.13640014827251434, 'eval_agreeableness_mae': 0.12850333750247955, 'eval_neuroticism_mae': 0.14007040858268738, 'eval_runtime': 5.8366, 'eval_samples_per_second': 193.777, 'eval_steps_per_second': 24.329, 'epoch': 16.0}\n"
     ]
    },
    {
     "name": "stderr",
     "output_type": "stream",
     "text": [
      " 17%|█▋        | 38441/226100 [3:31:33<16:44:05,  3.11it/s] "
     ]
    },
    {
     "name": "stdout",
     "output_type": "stream",
     "text": [
      "{'loss': 0.0155, 'grad_norm': 1.7546690702438354, 'learning_rate': 0.00018445329008796502, 'epoch': 17.0}\n"
     ]
    },
    {
     "name": "stderr",
     "output_type": "stream",
     "text": [
      "                                                           \n",
      " 17%|█▋        | 38441/226100 [3:31:39<16:44:05,  3.11it/s]"
     ]
    },
    {
     "name": "stdout",
     "output_type": "stream",
     "text": [
      "{'eval_loss': 0.026132183149456978, 'eval_mse': 0.026132183149456978, 'eval_mae': 0.12986944615840912, 'eval_accuracy_like': 0.8701305389404297, 'eval_openness_acc': 0.85884690284729, 'eval_conscientiousness_acc': 0.8874321579933167, 'eval_extraversion_acc': 0.8622009754180908, 'eval_agreeableness_acc': 0.8797661066055298, 'eval_neuroticism_acc': 0.8624069690704346, 'eval_openness_mae': 0.14115311205387115, 'eval_conscientiousness_mae': 0.11256782710552216, 'eval_extraversion_mae': 0.1377989947795868, 'eval_agreeableness_mae': 0.12023388594388962, 'eval_neuroticism_mae': 0.13759304583072662, 'eval_runtime': 5.855, 'eval_samples_per_second': 193.167, 'eval_steps_per_second': 24.253, 'epoch': 17.0}\n"
     ]
    },
    {
     "name": "stderr",
     "output_type": "stream",
     "text": [
      " 18%|█▊        | 40702/226100 [3:43:32<16:23:00,  3.14it/s] "
     ]
    },
    {
     "name": "stdout",
     "output_type": "stream",
     "text": [
      "{'loss': 0.0146, 'grad_norm': 2.0410430431365967, 'learning_rate': 0.00018223205071502284, 'epoch': 18.0}\n"
     ]
    },
    {
     "name": "stderr",
     "output_type": "stream",
     "text": [
      "                                                           \n",
      " 18%|█▊        | 40702/226100 [3:43:38<16:23:00,  3.14it/s]"
     ]
    },
    {
     "name": "stdout",
     "output_type": "stream",
     "text": [
      "{'eval_loss': 0.02573329769074917, 'eval_mse': 0.02573329582810402, 'eval_mae': 0.12783166766166687, 'eval_accuracy_like': 0.8721683025360107, 'eval_openness_acc': 0.8680341839790344, 'eval_conscientiousness_acc': 0.8818759322166443, 'eval_extraversion_acc': 0.8719080686569214, 'eval_agreeableness_acc': 0.8795985579490662, 'eval_neuroticism_acc': 0.8594252467155457, 'eval_openness_mae': 0.13196580111980438, 'eval_conscientiousness_mae': 0.11812404543161392, 'eval_extraversion_mae': 0.1280919313430786, 'eval_agreeableness_mae': 0.12040144950151443, 'eval_neuroticism_mae': 0.14057476818561554, 'eval_runtime': 5.8885, 'eval_samples_per_second': 192.068, 'eval_steps_per_second': 24.115, 'epoch': 18.0}\n"
     ]
    },
    {
     "name": "stderr",
     "output_type": "stream",
     "text": [
      " 19%|█▉        | 42963/226100 [3:55:31<16:53:01,  3.01it/s] "
     ]
    },
    {
     "name": "stdout",
     "output_type": "stream",
     "text": [
      "{'loss': 0.014, 'grad_norm': 1.5816731452941895, 'learning_rate': 0.00018000982849280064, 'epoch': 19.0}\n"
     ]
    },
    {
     "name": "stderr",
     "output_type": "stream",
     "text": [
      "                                                           \n",
      " 19%|█▉        | 42963/226100 [3:55:37<16:53:01,  3.01it/s]"
     ]
    },
    {
     "name": "stdout",
     "output_type": "stream",
     "text": [
      "{'eval_loss': 0.026512598618865013, 'eval_mse': 0.026512598618865013, 'eval_mae': 0.12996836006641388, 'eval_accuracy_like': 0.8700316548347473, 'eval_openness_acc': 0.8672407865524292, 'eval_conscientiousness_acc': 0.8865103125572205, 'eval_extraversion_acc': 0.8676030039787292, 'eval_agreeableness_acc': 0.8770117163658142, 'eval_neuroticism_acc': 0.8517926931381226, 'eval_openness_mae': 0.1327592432498932, 'eval_conscientiousness_mae': 0.11348966509103775, 'eval_extraversion_mae': 0.13239699602127075, 'eval_agreeableness_mae': 0.1229882687330246, 'eval_neuroticism_mae': 0.14820727705955505, 'eval_runtime': 5.9137, 'eval_samples_per_second': 191.251, 'eval_steps_per_second': 24.012, 'epoch': 19.0}\n"
     ]
    },
    {
     "name": "stderr",
     "output_type": "stream",
     "text": [
      " 20%|██        | 45225/226100 [4:07:42<15:29:46,  3.24it/s] "
     ]
    },
    {
     "name": "stdout",
     "output_type": "stream",
     "text": [
      "{'loss': 0.0133, 'grad_norm': 1.7237188816070557, 'learning_rate': 0.00017778760627057842, 'epoch': 20.0}\n"
     ]
    },
    {
     "name": "stderr",
     "output_type": "stream",
     "text": [
      "                                                           \n",
      " 20%|██        | 45225/226100 [4:07:48<15:29:46,  3.24it/s]"
     ]
    },
    {
     "name": "stdout",
     "output_type": "stream",
     "text": [
      "{'eval_loss': 0.026740750297904015, 'eval_mse': 0.026740748435258865, 'eval_mae': 0.13049136102199554, 'eval_accuracy_like': 0.8695086240768433, 'eval_openness_acc': 0.8585134744644165, 'eval_conscientiousness_acc': 0.889057993888855, 'eval_extraversion_acc': 0.8673529028892517, 'eval_agreeableness_acc': 0.8747082948684692, 'eval_neuroticism_acc': 0.8579108715057373, 'eval_openness_mae': 0.1414864957332611, 'eval_conscientiousness_mae': 0.11094202846288681, 'eval_extraversion_mae': 0.1326470971107483, 'eval_agreeableness_mae': 0.12529170513153076, 'eval_neuroticism_mae': 0.14208915829658508, 'eval_runtime': 5.8119, 'eval_samples_per_second': 194.6, 'eval_steps_per_second': 24.433, 'epoch': 20.0}\n"
     ]
    },
    {
     "name": "stderr",
     "output_type": "stream",
     "text": [
      " 21%|██        | 47486/226100 [4:19:44<15:55:44,  3.11it/s] "
     ]
    },
    {
     "name": "stdout",
     "output_type": "stream",
     "text": [
      "{'loss': 0.0127, 'grad_norm': 1.4235186576843262, 'learning_rate': 0.00017556636689763626, 'epoch': 21.0}\n"
     ]
    },
    {
     "name": "stderr",
     "output_type": "stream",
     "text": [
      "                                                           \n",
      " 21%|██        | 47486/226100 [4:19:50<15:55:44,  3.11it/s]"
     ]
    },
    {
     "name": "stdout",
     "output_type": "stream",
     "text": [
      "{'eval_loss': 0.026369541883468628, 'eval_mse': 0.02636954002082348, 'eval_mae': 0.12913252413272858, 'eval_accuracy_like': 0.8708674907684326, 'eval_openness_acc': 0.8643255233764648, 'eval_conscientiousness_acc': 0.8841558694839478, 'eval_extraversion_acc': 0.8698037266731262, 'eval_agreeableness_acc': 0.8785633444786072, 'eval_neuroticism_acc': 0.8574893474578857, 'eval_openness_mae': 0.13567449152469635, 'eval_conscientiousness_mae': 0.11584412306547165, 'eval_extraversion_mae': 0.13019628822803497, 'eval_agreeableness_mae': 0.12143663316965103, 'eval_neuroticism_mae': 0.14251066744327545, 'eval_runtime': 5.8354, 'eval_samples_per_second': 193.816, 'eval_steps_per_second': 24.334, 'epoch': 21.0}\n"
     ]
    },
    {
     "name": "stderr",
     "output_type": "stream",
     "text": [
      " 22%|██▏       | 49747/226100 [4:31:43<14:46:36,  3.32it/s] "
     ]
    },
    {
     "name": "stdout",
     "output_type": "stream",
     "text": [
      "{'loss': 0.0121, 'grad_norm': 1.2639373540878296, 'learning_rate': 0.0001733451275246941, 'epoch': 22.0}\n"
     ]
    },
    {
     "name": "stderr",
     "output_type": "stream",
     "text": [
      "                                                           \n",
      " 22%|██▏       | 49747/226100 [4:31:49<14:46:36,  3.32it/s]"
     ]
    },
    {
     "name": "stdout",
     "output_type": "stream",
     "text": [
      "{'eval_loss': 0.02733726054430008, 'eval_mse': 0.02733726054430008, 'eval_mae': 0.13117940723896027, 'eval_accuracy_like': 0.8688206076622009, 'eval_openness_acc': 0.8647722601890564, 'eval_conscientiousness_acc': 0.8877527117729187, 'eval_extraversion_acc': 0.8695873022079468, 'eval_agreeableness_acc': 0.8758080005645752, 'eval_neuroticism_acc': 0.8461828231811523, 'eval_openness_mae': 0.1352277398109436, 'eval_conscientiousness_mae': 0.1122472956776619, 'eval_extraversion_mae': 0.13041268289089203, 'eval_agreeableness_mae': 0.1241919994354248, 'eval_neuroticism_mae': 0.15381716191768646, 'eval_runtime': 5.9074, 'eval_samples_per_second': 191.455, 'eval_steps_per_second': 24.038, 'epoch': 22.0}\n"
     ]
    },
    {
     "name": "stderr",
     "output_type": "stream",
     "text": [
      " 23%|██▎       | 52008/226100 [4:43:45<14:16:51,  3.39it/s] "
     ]
    },
    {
     "name": "stdout",
     "output_type": "stream",
     "text": [
      "{'loss': 0.0116, 'grad_norm': 1.4090582132339478, 'learning_rate': 0.00017112388815175193, 'epoch': 23.0}\n"
     ]
    },
    {
     "name": "stderr",
     "output_type": "stream",
     "text": [
      "                                                           \n",
      " 23%|██▎       | 52008/226100 [4:43:51<14:16:51,  3.39it/s]"
     ]
    },
    {
     "name": "stdout",
     "output_type": "stream",
     "text": [
      "{'eval_loss': 0.02635716088116169, 'eval_mse': 0.02635716088116169, 'eval_mae': 0.12854883074760437, 'eval_accuracy_like': 0.8714511394500732, 'eval_openness_acc': 0.8658500909805298, 'eval_conscientiousness_acc': 0.8875687122344971, 'eval_extraversion_acc': 0.871395468711853, 'eval_agreeableness_acc': 0.8750924468040466, 'eval_neuroticism_acc': 0.8573493957519531, 'eval_openness_mae': 0.13414987921714783, 'eval_conscientiousness_mae': 0.11243129521608353, 'eval_extraversion_mae': 0.12860456109046936, 'eval_agreeableness_mae': 0.12490754574537277, 'eval_neuroticism_mae': 0.1426505744457245, 'eval_runtime': 5.948, 'eval_samples_per_second': 190.147, 'eval_steps_per_second': 23.874, 'epoch': 23.0}\n"
     ]
    },
    {
     "name": "stderr",
     "output_type": "stream",
     "text": [
      " 24%|██▍       | 54270/226100 [4:55:46<14:57:12,  3.19it/s] "
     ]
    },
    {
     "name": "stdout",
     "output_type": "stream",
     "text": [
      "{'loss': 0.0111, 'grad_norm': 2.255674362182617, 'learning_rate': 0.00016890166592952973, 'epoch': 24.0}\n"
     ]
    },
    {
     "name": "stderr",
     "output_type": "stream",
     "text": [
      "                                                           \n",
      " 24%|██▍       | 54270/226100 [4:55:52<14:57:12,  3.19it/s]"
     ]
    },
    {
     "name": "stdout",
     "output_type": "stream",
     "text": [
      "{'eval_loss': 0.0290975384414196, 'eval_mse': 0.029097536578774452, 'eval_mae': 0.13464204967021942, 'eval_accuracy_like': 0.8653579354286194, 'eval_openness_acc': 0.8612459301948547, 'eval_conscientiousness_acc': 0.8833763599395752, 'eval_extraversion_acc': 0.8686471581459045, 'eval_agreeableness_acc': 0.8595882654190063, 'eval_neuroticism_acc': 0.85393226146698, 'eval_openness_mae': 0.13875408470630646, 'eval_conscientiousness_mae': 0.116623654961586, 'eval_extraversion_mae': 0.13135284185409546, 'eval_agreeableness_mae': 0.14041171967983246, 'eval_neuroticism_mae': 0.14606772363185883, 'eval_runtime': 6.0517, 'eval_samples_per_second': 186.891, 'eval_steps_per_second': 23.465, 'epoch': 24.0}\n"
     ]
    },
    {
     "name": "stderr",
     "output_type": "stream",
     "text": [
      " 25%|██▌       | 56531/226100 [5:07:52<15:03:44,  3.13it/s] "
     ]
    },
    {
     "name": "stdout",
     "output_type": "stream",
     "text": [
      "{'loss': 0.0106, 'grad_norm': 1.14083993434906, 'learning_rate': 0.00016668042655658755, 'epoch': 25.0}\n"
     ]
    },
    {
     "name": "stderr",
     "output_type": "stream",
     "text": [
      "                                                           \n",
      " 25%|██▌       | 56531/226100 [5:07:58<15:03:44,  3.13it/s]"
     ]
    },
    {
     "name": "stdout",
     "output_type": "stream",
     "text": [
      "{'eval_loss': 0.027149753645062447, 'eval_mse': 0.027149751782417297, 'eval_mae': 0.13022872805595398, 'eval_accuracy_like': 0.8697712421417236, 'eval_openness_acc': 0.8567022085189819, 'eval_conscientiousness_acc': 0.8869425058364868, 'eval_extraversion_acc': 0.8712935447692871, 'eval_agreeableness_acc': 0.8758629560470581, 'eval_neuroticism_acc': 0.8580554127693176, 'eval_openness_mae': 0.14329780638217926, 'eval_conscientiousness_mae': 0.1130574643611908, 'eval_extraversion_mae': 0.1287064254283905, 'eval_agreeableness_mae': 0.1241370365023613, 'eval_neuroticism_mae': 0.14194460213184357, 'eval_runtime': 5.8989, 'eval_samples_per_second': 191.73, 'eval_steps_per_second': 24.072, 'epoch': 25.0}\n"
     ]
    },
    {
     "name": "stderr",
     "output_type": "stream",
     "text": [
      " 26%|██▌       | 58792/226100 [5:19:56<15:11:17,  3.06it/s] "
     ]
    },
    {
     "name": "stdout",
     "output_type": "stream",
     "text": [
      "{'loss': 0.0101, 'grad_norm': 2.0613694190979004, 'learning_rate': 0.00016446017003292546, 'epoch': 26.0}\n"
     ]
    },
    {
     "name": "stderr",
     "output_type": "stream",
     "text": [
      "                                                           \n",
      " 26%|██▌       | 58792/226100 [5:20:02<15:11:17,  3.06it/s]"
     ]
    },
    {
     "name": "stdout",
     "output_type": "stream",
     "text": [
      "{'eval_loss': 0.02714955247938633, 'eval_mse': 0.02714955247938633, 'eval_mae': 0.13107413053512573, 'eval_accuracy_like': 0.8689258694648743, 'eval_openness_acc': 0.8644104599952698, 'eval_conscientiousness_acc': 0.8876574635505676, 'eval_extraversion_acc': 0.8581032752990723, 'eval_agreeableness_acc': 0.8795021772384644, 'eval_neuroticism_acc': 0.8549562692642212, 'eval_openness_mae': 0.13558952510356903, 'eval_conscientiousness_mae': 0.11234252899885178, 'eval_extraversion_mae': 0.14189669489860535, 'eval_agreeableness_mae': 0.12049782276153564, 'eval_neuroticism_mae': 0.1450437307357788, 'eval_runtime': 5.8213, 'eval_samples_per_second': 194.285, 'eval_steps_per_second': 24.393, 'epoch': 26.0}\n"
     ]
    },
    {
     "name": "stderr",
     "output_type": "stream",
     "text": [
      " 27%|██▋       | 61053/226100 [5:31:59<14:50:02,  3.09it/s]"
     ]
    },
    {
     "name": "stdout",
     "output_type": "stream",
     "text": [
      "{'loss': 0.0098, 'grad_norm': 1.5845985412597656, 'learning_rate': 0.00016223794781070324, 'epoch': 27.0}\n"
     ]
    },
    {
     "name": "stderr",
     "output_type": "stream",
     "text": [
      "                                                           \n",
      " 27%|██▋       | 61053/226100 [5:32:05<14:50:02,  3.09it/s]"
     ]
    },
    {
     "name": "stdout",
     "output_type": "stream",
     "text": [
      "{'eval_loss': 0.027110982686281204, 'eval_mse': 0.027110982686281204, 'eval_mae': 0.13003692030906677, 'eval_accuracy_like': 0.8699630498886108, 'eval_openness_acc': 0.8638348579406738, 'eval_conscientiousness_acc': 0.8852105736732483, 'eval_extraversion_acc': 0.8678848743438721, 'eval_agreeableness_acc': 0.8755608797073364, 'eval_neuroticism_acc': 0.857324481010437, 'eval_openness_mae': 0.13616514205932617, 'eval_conscientiousness_mae': 0.11478941142559052, 'eval_extraversion_mae': 0.13211511075496674, 'eval_agreeableness_mae': 0.12443912029266357, 'eval_neuroticism_mae': 0.142675518989563, 'eval_runtime': 5.8823, 'eval_samples_per_second': 192.27, 'eval_steps_per_second': 24.14, 'epoch': 27.0}\n"
     ]
    },
    {
     "name": "stderr",
     "output_type": "stream",
     "text": [
      " 28%|██▊       | 63315/226100 [5:43:59<14:27:18,  3.13it/s]"
     ]
    },
    {
     "name": "stdout",
     "output_type": "stream",
     "text": [
      "{'loss': 0.0094, 'grad_norm': 2.1437275409698486, 'learning_rate': 0.00016001572558848101, 'epoch': 28.0}\n"
     ]
    },
    {
     "name": "stderr",
     "output_type": "stream",
     "text": [
      "                                                           \n",
      " 28%|██▊       | 63315/226100 [5:44:04<14:27:18,  3.13it/s]"
     ]
    },
    {
     "name": "stdout",
     "output_type": "stream",
     "text": [
      "{'eval_loss': 0.029002627357840538, 'eval_mse': 0.029002627357840538, 'eval_mae': 0.13335776329040527, 'eval_accuracy_like': 0.8666422367095947, 'eval_openness_acc': 0.8624580502510071, 'eval_conscientiousness_acc': 0.8828260898590088, 'eval_extraversion_acc': 0.8672947883605957, 'eval_agreeableness_acc': 0.8680583238601685, 'eval_neuroticism_acc': 0.8525741100311279, 'eval_openness_mae': 0.13754193484783173, 'eval_conscientiousness_mae': 0.11717388778924942, 'eval_extraversion_mae': 0.1327052116394043, 'eval_agreeableness_mae': 0.13194170594215393, 'eval_neuroticism_mae': 0.14742588996887207, 'eval_runtime': 5.8752, 'eval_samples_per_second': 192.504, 'eval_steps_per_second': 24.169, 'epoch': 28.0}\n"
     ]
    },
    {
     "name": "stderr",
     "output_type": "stream",
     "text": [
      " 29%|██▉       | 65576/226100 [5:56:00<13:38:19,  3.27it/s]"
     ]
    },
    {
     "name": "stdout",
     "output_type": "stream",
     "text": [
      "{'loss': 0.0091, 'grad_norm': 1.1456509828567505, 'learning_rate': 0.0001577935033662588, 'epoch': 29.0}\n"
     ]
    },
    {
     "name": "stderr",
     "output_type": "stream",
     "text": [
      "                                                           \n",
      " 29%|██▉       | 65576/226100 [5:56:06<13:38:19,  3.27it/s]"
     ]
    },
    {
     "name": "stdout",
     "output_type": "stream",
     "text": [
      "{'eval_loss': 0.028817055746912956, 'eval_mse': 0.028817055746912956, 'eval_mae': 0.13327467441558838, 'eval_accuracy_like': 0.8667253255844116, 'eval_openness_acc': 0.8602344989776611, 'eval_conscientiousness_acc': 0.8833260536193848, 'eval_extraversion_acc': 0.8668928146362305, 'eval_agreeableness_acc': 0.8715903759002686, 'eval_neuroticism_acc': 0.8515833020210266, 'eval_openness_mae': 0.13976553082466125, 'eval_conscientiousness_mae': 0.11667397618293762, 'eval_extraversion_mae': 0.13310718536376953, 'eval_agreeableness_mae': 0.12840962409973145, 'eval_neuroticism_mae': 0.14841671288013458, 'eval_runtime': 5.8299, 'eval_samples_per_second': 194.001, 'eval_steps_per_second': 24.357, 'epoch': 29.0}\n"
     ]
    },
    {
     "name": "stderr",
     "output_type": "stream",
     "text": [
      " 30%|███       | 67837/226100 [6:08:05<13:35:51,  3.23it/s]"
     ]
    },
    {
     "name": "stdout",
     "output_type": "stream",
     "text": [
      "{'loss': 0.0088, 'grad_norm': 1.278701663017273, 'learning_rate': 0.00015557226399331664, 'epoch': 30.0}\n"
     ]
    },
    {
     "name": "stderr",
     "output_type": "stream",
     "text": [
      "                                                           \n",
      " 30%|███       | 67837/226100 [6:08:11<13:35:51,  3.23it/s]"
     ]
    },
    {
     "name": "stdout",
     "output_type": "stream",
     "text": [
      "{'eval_loss': 0.02779240719974041, 'eval_mse': 0.02779240347445011, 'eval_mae': 0.13148288428783417, 'eval_accuracy_like': 0.8685171008110046, 'eval_openness_acc': 0.8601311445236206, 'eval_conscientiousness_acc': 0.8831071257591248, 'eval_extraversion_acc': 0.8688731789588928, 'eval_agreeableness_acc': 0.8757670521736145, 'eval_neuroticism_acc': 0.8547073006629944, 'eval_openness_mae': 0.1398688405752182, 'eval_conscientiousness_mae': 0.11689288914203644, 'eval_extraversion_mae': 0.13112682104110718, 'eval_agreeableness_mae': 0.1242329329252243, 'eval_neuroticism_mae': 0.1452927142381668, 'eval_runtime': 5.7947, 'eval_samples_per_second': 195.18, 'eval_steps_per_second': 24.505, 'epoch': 30.0}\n"
     ]
    },
    {
     "name": "stderr",
     "output_type": "stream",
     "text": [
      " 31%|███       | 70098/226100 [6:20:03<12:36:37,  3.44it/s]"
     ]
    },
    {
     "name": "stdout",
     "output_type": "stream",
     "text": [
      "{'loss': 0.0085, 'grad_norm': 1.4061793088912964, 'learning_rate': 0.00015335200746965455, 'epoch': 31.0}\n"
     ]
    },
    {
     "name": "stderr",
     "output_type": "stream",
     "text": [
      "                                                           \n",
      " 31%|███       | 70098/226100 [6:20:09<12:36:37,  3.44it/s]"
     ]
    },
    {
     "name": "stdout",
     "output_type": "stream",
     "text": [
      "{'eval_loss': 0.028503114357590675, 'eval_mse': 0.028503116220235825, 'eval_mae': 0.13250446319580078, 'eval_accuracy_like': 0.8674955368041992, 'eval_openness_acc': 0.8577240705490112, 'eval_conscientiousness_acc': 0.8840968608856201, 'eval_extraversion_acc': 0.8683339357376099, 'eval_agreeableness_acc': 0.8746998310089111, 'eval_neuroticism_acc': 0.8526232242584229, 'eval_openness_mae': 0.14227589964866638, 'eval_conscientiousness_mae': 0.11590311676263809, 'eval_extraversion_mae': 0.13166604936122894, 'eval_agreeableness_mae': 0.12530016899108887, 'eval_neuroticism_mae': 0.14737674593925476, 'eval_runtime': 5.8357, 'eval_samples_per_second': 193.807, 'eval_steps_per_second': 24.333, 'epoch': 31.0}\n"
     ]
    },
    {
     "name": "stderr",
     "output_type": "stream",
     "text": [
      " 32%|███▏      | 72360/226100 [6:32:00<13:12:29,  3.23it/s]"
     ]
    },
    {
     "name": "stdout",
     "output_type": "stream",
     "text": [
      "{'loss': 0.0081, 'grad_norm': 1.3951966762542725, 'learning_rate': 0.0001511297852474323, 'epoch': 32.0}\n"
     ]
    },
    {
     "name": "stderr",
     "output_type": "stream",
     "text": [
      "                                                           \n",
      " 32%|███▏      | 72360/226100 [6:32:06<13:12:29,  3.23it/s]"
     ]
    },
    {
     "name": "stdout",
     "output_type": "stream",
     "text": [
      "{'eval_loss': 0.028930697590112686, 'eval_mse': 0.028930701315402985, 'eval_mae': 0.13417808711528778, 'eval_accuracy_like': 0.865821897983551, 'eval_openness_acc': 0.860458254814148, 'eval_conscientiousness_acc': 0.8792919516563416, 'eval_extraversion_acc': 0.8648749589920044, 'eval_agreeableness_acc': 0.8754247426986694, 'eval_neuroticism_acc': 0.84906005859375, 'eval_openness_mae': 0.13954177498817444, 'eval_conscientiousness_mae': 0.12070805579423904, 'eval_extraversion_mae': 0.1351250559091568, 'eval_agreeableness_mae': 0.12457528710365295, 'eval_neuroticism_mae': 0.1509399712085724, 'eval_runtime': 5.8419, 'eval_samples_per_second': 193.602, 'eval_steps_per_second': 24.307, 'epoch': 32.0}\n"
     ]
    },
    {
     "name": "stderr",
     "output_type": "stream",
     "text": [
      " 33%|███▎      | 74621/226100 [6:43:59<12:58:16,  3.24it/s]"
     ]
    },
    {
     "name": "stdout",
     "output_type": "stream",
     "text": [
      "{'loss': 0.0078, 'grad_norm': 1.2004799842834473, 'learning_rate': 0.00014890854587449015, 'epoch': 33.0}\n"
     ]
    },
    {
     "name": "stderr",
     "output_type": "stream",
     "text": [
      "                                                           \n",
      " 33%|███▎      | 74621/226100 [6:44:05<12:58:16,  3.24it/s]"
     ]
    },
    {
     "name": "stdout",
     "output_type": "stream",
     "text": [
      "{'eval_loss': 0.027994463220238686, 'eval_mse': 0.027994463220238686, 'eval_mae': 0.1324535608291626, 'eval_accuracy_like': 0.8675464391708374, 'eval_openness_acc': 0.8622349500656128, 'eval_conscientiousness_acc': 0.8818947076797485, 'eval_extraversion_acc': 0.864429771900177, 'eval_agreeableness_acc': 0.8726934194564819, 'eval_neuroticism_acc': 0.8564797043800354, 'eval_openness_mae': 0.1377650797367096, 'eval_conscientiousness_mae': 0.11810532212257385, 'eval_extraversion_mae': 0.1355702430009842, 'eval_agreeableness_mae': 0.12730656564235687, 'eval_neuroticism_mae': 0.1435203105211258, 'eval_runtime': 5.8941, 'eval_samples_per_second': 191.886, 'eval_steps_per_second': 24.092, 'epoch': 33.0}\n"
     ]
    },
    {
     "name": "stderr",
     "output_type": "stream",
     "text": [
      " 34%|███▍      | 76882/226100 [6:55:58<13:00:18,  3.19it/s]"
     ]
    },
    {
     "name": "stdout",
     "output_type": "stream",
     "text": [
      "{'loss': 0.0077, 'grad_norm': 2.8030946254730225, 'learning_rate': 0.000146687306501548, 'epoch': 34.0}\n"
     ]
    },
    {
     "name": "stderr",
     "output_type": "stream",
     "text": [
      "                                                           \n",
      " 34%|███▍      | 76882/226100 [6:56:04<13:00:18,  3.19it/s]"
     ]
    },
    {
     "name": "stdout",
     "output_type": "stream",
     "text": [
      "{'eval_loss': 0.029167883098125458, 'eval_mse': 0.02916788123548031, 'eval_mae': 0.13438613712787628, 'eval_accuracy_like': 0.8656138777732849, 'eval_openness_acc': 0.8603023290634155, 'eval_conscientiousness_acc': 0.8813983201980591, 'eval_extraversion_acc': 0.860671877861023, 'eval_agreeableness_acc': 0.8740741014480591, 'eval_neuroticism_acc': 0.8516230583190918, 'eval_openness_mae': 0.13969767093658447, 'eval_conscientiousness_mae': 0.11860169470310211, 'eval_extraversion_mae': 0.13932812213897705, 'eval_agreeableness_mae': 0.1259259283542633, 'eval_neuroticism_mae': 0.1483769565820694, 'eval_runtime': 5.8693, 'eval_samples_per_second': 192.698, 'eval_steps_per_second': 24.194, 'epoch': 34.0}\n"
     ]
    },
    {
     "name": "stderr",
     "output_type": "stream",
     "text": [
      " 35%|███▌      | 79143/226100 [7:07:53<12:28:35,  3.27it/s]"
     ]
    },
    {
     "name": "stdout",
     "output_type": "stream",
     "text": [
      "{'loss': 0.0074, 'grad_norm': 1.570279836654663, 'learning_rate': 0.00014446606712860584, 'epoch': 35.0}\n"
     ]
    },
    {
     "name": "stderr",
     "output_type": "stream",
     "text": [
      "                                                           \n",
      " 35%|███▌      | 79143/226100 [7:07:58<12:28:35,  3.27it/s]"
     ]
    },
    {
     "name": "stdout",
     "output_type": "stream",
     "text": [
      "{'eval_loss': 0.028456738218665123, 'eval_mse': 0.028456740081310272, 'eval_mae': 0.13180899620056152, 'eval_accuracy_like': 0.8681910037994385, 'eval_openness_acc': 0.8626264333724976, 'eval_conscientiousness_acc': 0.8864291906356812, 'eval_extraversion_acc': 0.8651177883148193, 'eval_agreeableness_acc': 0.8709830045700073, 'eval_neuroticism_acc': 0.8557988405227661, 'eval_openness_mae': 0.13737353682518005, 'eval_conscientiousness_mae': 0.11357081681489944, 'eval_extraversion_mae': 0.13488221168518066, 'eval_agreeableness_mae': 0.12901699542999268, 'eval_neuroticism_mae': 0.14420118927955627, 'eval_runtime': 5.7916, 'eval_samples_per_second': 195.282, 'eval_steps_per_second': 24.518, 'epoch': 35.0}\n"
     ]
    },
    {
     "name": "stderr",
     "output_type": "stream",
     "text": [
      " 36%|███▌      | 81405/226100 [7:19:55<12:23:17,  3.24it/s]"
     ]
    },
    {
     "name": "stdout",
     "output_type": "stream",
     "text": [
      "{'loss': 0.0071, 'grad_norm': 0.7466539144515991, 'learning_rate': 0.0001422438449063836, 'epoch': 36.0}\n"
     ]
    },
    {
     "name": "stderr",
     "output_type": "stream",
     "text": [
      "                                                           \n",
      " 36%|███▌      | 81405/226100 [7:20:01<12:23:17,  3.24it/s]"
     ]
    },
    {
     "name": "stdout",
     "output_type": "stream",
     "text": [
      "{'eval_loss': 0.027901295572519302, 'eval_mse': 0.027901295572519302, 'eval_mae': 0.13182009756565094, 'eval_accuracy_like': 0.8681799173355103, 'eval_openness_acc': 0.859313428401947, 'eval_conscientiousness_acc': 0.8860527873039246, 'eval_extraversion_acc': 0.8684954643249512, 'eval_agreeableness_acc': 0.8759462237358093, 'eval_neuroticism_acc': 0.8510919213294983, 'eval_openness_mae': 0.14068658649921417, 'eval_conscientiousness_mae': 0.11394719779491425, 'eval_extraversion_mae': 0.13150455057621002, 'eval_agreeableness_mae': 0.12405377626419067, 'eval_neuroticism_mae': 0.1489080935716629, 'eval_runtime': 5.864, 'eval_samples_per_second': 192.871, 'eval_steps_per_second': 24.215, 'epoch': 36.0}\n"
     ]
    },
    {
     "name": "stderr",
     "output_type": "stream",
     "text": [
      " 37%|███▋      | 83666/226100 [7:31:53<12:26:54,  3.18it/s]"
     ]
    },
    {
     "name": "stdout",
     "output_type": "stream",
     "text": [
      "{'loss': 0.0069, 'grad_norm': 1.5816656351089478, 'learning_rate': 0.00014002260553344146, 'epoch': 37.0}\n"
     ]
    },
    {
     "name": "stderr",
     "output_type": "stream",
     "text": [
      "                                                           \n",
      " 37%|███▋      | 83666/226100 [7:31:58<12:26:54,  3.18it/s]"
     ]
    },
    {
     "name": "stdout",
     "output_type": "stream",
     "text": [
      "{'eval_loss': 0.028574619442224503, 'eval_mse': 0.028574619442224503, 'eval_mae': 0.13296166062355042, 'eval_accuracy_like': 0.867038369178772, 'eval_openness_acc': 0.8630769848823547, 'eval_conscientiousness_acc': 0.882857084274292, 'eval_extraversion_acc': 0.8638172149658203, 'eval_agreeableness_acc': 0.8709186315536499, 'eval_neuroticism_acc': 0.854522168636322, 'eval_openness_mae': 0.13692300021648407, 'eval_conscientiousness_mae': 0.1171429231762886, 'eval_extraversion_mae': 0.1361827701330185, 'eval_agreeableness_mae': 0.1290813535451889, 'eval_neuroticism_mae': 0.14547781646251678, 'eval_runtime': 5.885, 'eval_samples_per_second': 192.184, 'eval_steps_per_second': 24.129, 'epoch': 37.0}\n"
     ]
    },
    {
     "name": "stderr",
     "output_type": "stream",
     "text": [
      " 38%|███▊      | 85927/226100 [7:43:57<12:13:35,  3.18it/s]"
     ]
    },
    {
     "name": "stdout",
     "output_type": "stream",
     "text": [
      "{'loss': 0.0067, 'grad_norm': 0.6604017615318298, 'learning_rate': 0.00013780234900977935, 'epoch': 38.0}\n"
     ]
    },
    {
     "name": "stderr",
     "output_type": "stream",
     "text": [
      "                                                           \n",
      " 38%|███▊      | 85927/226100 [7:44:03<12:13:35,  3.18it/s]"
     ]
    },
    {
     "name": "stdout",
     "output_type": "stream",
     "text": [
      "{'eval_loss': 0.029770921915769577, 'eval_mse': 0.029770920053124428, 'eval_mae': 0.1353486329317093, 'eval_accuracy_like': 0.8646513819694519, 'eval_openness_acc': 0.8614397644996643, 'eval_conscientiousness_acc': 0.8801987767219543, 'eval_extraversion_acc': 0.862169623374939, 'eval_agreeableness_acc': 0.8732085227966309, 'eval_neuroticism_acc': 0.8462404608726501, 'eval_openness_mae': 0.1385602504014969, 'eval_conscientiousness_mae': 0.11980121582746506, 'eval_extraversion_mae': 0.13783039152622223, 'eval_agreeableness_mae': 0.12679146230220795, 'eval_neuroticism_mae': 0.15375953912734985, 'eval_runtime': 6.0368, 'eval_samples_per_second': 187.351, 'eval_steps_per_second': 23.522, 'epoch': 38.0}\n"
     ]
    },
    {
     "name": "stderr",
     "output_type": "stream",
     "text": [
      " 39%|███▉      | 88188/226100 [7:55:54<11:12:45,  3.42it/s]"
     ]
    },
    {
     "name": "stdout",
     "output_type": "stream",
     "text": [
      "{'loss': 0.0065, 'grad_norm': 0.8034733533859253, 'learning_rate': 0.0001355811096368372, 'epoch': 39.0}\n"
     ]
    },
    {
     "name": "stderr",
     "output_type": "stream",
     "text": [
      "                                                           \n",
      " 39%|███▉      | 88188/226100 [7:56:00<11:12:45,  3.42it/s]"
     ]
    },
    {
     "name": "stdout",
     "output_type": "stream",
     "text": [
      "{'eval_loss': 0.029055021703243256, 'eval_mse': 0.029055017977952957, 'eval_mae': 0.1339544951915741, 'eval_accuracy_like': 0.8660454750061035, 'eval_openness_acc': 0.8585606813430786, 'eval_conscientiousness_acc': 0.8856984972953796, 'eval_extraversion_acc': 0.8629738688468933, 'eval_agreeableness_acc': 0.8733484745025635, 'eval_neuroticism_acc': 0.8496463894844055, 'eval_openness_mae': 0.14143934845924377, 'eval_conscientiousness_mae': 0.11430148780345917, 'eval_extraversion_mae': 0.1370261311531067, 'eval_agreeableness_mae': 0.12665154039859772, 'eval_neuroticism_mae': 0.15035362541675568, 'eval_runtime': 5.9633, 'eval_samples_per_second': 189.661, 'eval_steps_per_second': 23.812, 'epoch': 39.0}\n"
     ]
    },
    {
     "name": "stderr",
     "output_type": "stream",
     "text": [
      " 40%|████      | 90450/226100 [8:07:55<11:47:03,  3.20it/s]"
     ]
    },
    {
     "name": "stdout",
     "output_type": "stream",
     "text": [
      "{'loss': 0.0064, 'grad_norm': 1.0263805389404297, 'learning_rate': 0.00013335888741461497, 'epoch': 40.0}\n"
     ]
    },
    {
     "name": "stderr",
     "output_type": "stream",
     "text": [
      "                                                           \n",
      " 40%|████      | 90450/226100 [8:08:01<11:47:03,  3.20it/s]"
     ]
    },
    {
     "name": "stdout",
     "output_type": "stream",
     "text": [
      "{'eval_loss': 0.028610149398446083, 'eval_mse': 0.028610145673155785, 'eval_mae': 0.13279803097248077, 'eval_accuracy_like': 0.8672019839286804, 'eval_openness_acc': 0.8625609874725342, 'eval_conscientiousness_acc': 0.882109522819519, 'eval_extraversion_acc': 0.8641096949577332, 'eval_agreeableness_acc': 0.8761552572250366, 'eval_neuroticism_acc': 0.851074755191803, 'eval_openness_mae': 0.1374390423297882, 'eval_conscientiousness_mae': 0.11789050698280334, 'eval_extraversion_mae': 0.13589029014110565, 'eval_agreeableness_mae': 0.12384472787380219, 'eval_neuroticism_mae': 0.14892525970935822, 'eval_runtime': 6.0273, 'eval_samples_per_second': 187.646, 'eval_steps_per_second': 23.559, 'epoch': 40.0}\n"
     ]
    },
    {
     "name": "stderr",
     "output_type": "stream",
     "text": [
      " 41%|████      | 92711/226100 [8:19:57<11:58:09,  3.10it/s]"
     ]
    },
    {
     "name": "stdout",
     "output_type": "stream",
     "text": [
      "{'loss': 0.0063, 'grad_norm': 1.1033481359481812, 'learning_rate': 0.00013113764804167282, 'epoch': 41.0}\n"
     ]
    },
    {
     "name": "stderr",
     "output_type": "stream",
     "text": [
      "                                                           \n",
      " 41%|████      | 92711/226100 [8:20:03<11:58:09,  3.10it/s]"
     ]
    },
    {
     "name": "stdout",
     "output_type": "stream",
     "text": [
      "{'eval_loss': 0.029284853488206863, 'eval_mse': 0.029284851625561714, 'eval_mae': 0.1330636590719223, 'eval_accuracy_like': 0.8669363260269165, 'eval_openness_acc': 0.860912024974823, 'eval_conscientiousness_acc': 0.882018506526947, 'eval_extraversion_acc': 0.8648524284362793, 'eval_agreeableness_acc': 0.8751631379127502, 'eval_neuroticism_acc': 0.8517359495162964, 'eval_openness_mae': 0.139087975025177, 'eval_conscientiousness_mae': 0.11798147112131119, 'eval_extraversion_mae': 0.1351475715637207, 'eval_agreeableness_mae': 0.12483686208724976, 'eval_neuroticism_mae': 0.14826403558254242, 'eval_runtime': 6.0021, 'eval_samples_per_second': 188.433, 'eval_steps_per_second': 23.658, 'epoch': 41.0}\n"
     ]
    },
    {
     "name": "stderr",
     "output_type": "stream",
     "text": [
      " 42%|████▏     | 94972/226100 [8:32:01<12:23:11,  2.94it/s]"
     ]
    },
    {
     "name": "stdout",
     "output_type": "stream",
     "text": [
      "{'loss': 0.006, 'grad_norm': 0.9708151817321777, 'learning_rate': 0.00012891640866873066, 'epoch': 42.0}\n"
     ]
    },
    {
     "name": "stderr",
     "output_type": "stream",
     "text": [
      "                                                           \n",
      " 42%|████▏     | 94972/226100 [8:32:07<12:23:11,  2.94it/s]"
     ]
    },
    {
     "name": "stdout",
     "output_type": "stream",
     "text": [
      "{'eval_loss': 0.028857802972197533, 'eval_mse': 0.028857802972197533, 'eval_mae': 0.1331060826778412, 'eval_accuracy_like': 0.8668938875198364, 'eval_openness_acc': 0.8595963716506958, 'eval_conscientiousness_acc': 0.8836445212364197, 'eval_extraversion_acc': 0.8654026985168457, 'eval_agreeableness_acc': 0.8736293911933899, 'eval_neuroticism_acc': 0.8521968126296997, 'eval_openness_mae': 0.1404036432504654, 'eval_conscientiousness_mae': 0.11635548621416092, 'eval_extraversion_mae': 0.1345972865819931, 'eval_agreeableness_mae': 0.1263705939054489, 'eval_neuroticism_mae': 0.1478031873703003, 'eval_runtime': 5.8804, 'eval_samples_per_second': 192.332, 'eval_steps_per_second': 24.148, 'epoch': 42.0}\n"
     ]
    },
    {
     "name": "stderr",
     "output_type": "stream",
     "text": [
      " 43%|████▎     | 97233/226100 [8:44:05<11:29:34,  3.11it/s]"
     ]
    },
    {
     "name": "stdout",
     "output_type": "stream",
     "text": [
      "{'loss': 0.0059, 'grad_norm': 1.6341962814331055, 'learning_rate': 0.0001266951692957885, 'epoch': 43.0}\n"
     ]
    },
    {
     "name": "stderr",
     "output_type": "stream",
     "text": [
      "                                                           \n",
      " 43%|████▎     | 97233/226100 [8:44:11<11:29:34,  3.11it/s]"
     ]
    },
    {
     "name": "stdout",
     "output_type": "stream",
     "text": [
      "{'eval_loss': 0.02925235591828823, 'eval_mse': 0.02925235964357853, 'eval_mae': 0.1338084191083908, 'eval_accuracy_like': 0.866191565990448, 'eval_openness_acc': 0.8599854111671448, 'eval_conscientiousness_acc': 0.8824640512466431, 'eval_extraversion_acc': 0.8631730079650879, 'eval_agreeableness_acc': 0.8756886124610901, 'eval_neuroticism_acc': 0.8496471643447876, 'eval_openness_mae': 0.14001457393169403, 'eval_conscientiousness_mae': 0.11753592640161514, 'eval_extraversion_mae': 0.1368270069360733, 'eval_agreeableness_mae': 0.12431139498949051, 'eval_neuroticism_mae': 0.1503528207540512, 'eval_runtime': 5.843, 'eval_samples_per_second': 193.566, 'eval_steps_per_second': 24.303, 'epoch': 43.0}\n"
     ]
    },
    {
     "name": "stderr",
     "output_type": "stream",
     "text": [
      " 44%|████▍     | 99495/226100 [8:56:11<10:58:49,  3.20it/s]"
     ]
    },
    {
     "name": "stdout",
     "output_type": "stream",
     "text": [
      "{'loss': 0.0056, 'grad_norm': 0.8185868859291077, 'learning_rate': 0.00012447294707356628, 'epoch': 44.0}\n"
     ]
    },
    {
     "name": "stderr",
     "output_type": "stream",
     "text": [
      "                                                           \n",
      " 44%|████▍     | 99495/226100 [8:56:16<10:58:49,  3.20it/s]"
     ]
    },
    {
     "name": "stdout",
     "output_type": "stream",
     "text": [
      "{'eval_loss': 0.03073180839419365, 'eval_mse': 0.03073180839419365, 'eval_mae': 0.1366300880908966, 'eval_accuracy_like': 0.8633699417114258, 'eval_openness_acc': 0.8588777780532837, 'eval_conscientiousness_acc': 0.880390465259552, 'eval_extraversion_acc': 0.8629785776138306, 'eval_agreeableness_acc': 0.8669365644454956, 'eval_neuroticism_acc': 0.8476662635803223, 'eval_openness_mae': 0.14112219214439392, 'eval_conscientiousness_mae': 0.11960954964160919, 'eval_extraversion_mae': 0.13702143728733063, 'eval_agreeableness_mae': 0.1330634206533432, 'eval_neuroticism_mae': 0.15233370661735535, 'eval_runtime': 5.8903, 'eval_samples_per_second': 192.011, 'eval_steps_per_second': 24.108, 'epoch': 44.0}\n"
     ]
    },
    {
     "name": "stderr",
     "output_type": "stream",
     "text": [
      " 45%|████▌     | 101756/226100 [9:08:14<11:11:00,  3.09it/s]"
     ]
    },
    {
     "name": "stdout",
     "output_type": "stream",
     "text": [
      "{'loss': 0.0056, 'grad_norm': 1.2660759687423706, 'learning_rate': 0.0001222517077006241, 'epoch': 45.0}\n"
     ]
    },
    {
     "name": "stderr",
     "output_type": "stream",
     "text": [
      "                                                            \n",
      " 45%|████▌     | 101756/226100 [9:08:20<11:11:00,  3.09it/s]"
     ]
    },
    {
     "name": "stdout",
     "output_type": "stream",
     "text": [
      "{'eval_loss': 0.029105965048074722, 'eval_mse': 0.029105963185429573, 'eval_mae': 0.13292868435382843, 'eval_accuracy_like': 0.8670713305473328, 'eval_openness_acc': 0.861833930015564, 'eval_conscientiousness_acc': 0.8827637434005737, 'eval_extraversion_acc': 0.8638548254966736, 'eval_agreeableness_acc': 0.8729085326194763, 'eval_neuroticism_acc': 0.8539958000183105, 'eval_openness_mae': 0.13816606998443604, 'eval_conscientiousness_mae': 0.11723628640174866, 'eval_extraversion_mae': 0.13614515960216522, 'eval_agreeableness_mae': 0.12709148228168488, 'eval_neuroticism_mae': 0.14600418508052826, 'eval_runtime': 5.9115, 'eval_samples_per_second': 191.323, 'eval_steps_per_second': 24.021, 'epoch': 45.0}\n"
     ]
    },
    {
     "name": "stderr",
     "output_type": "stream",
     "text": [
      " 46%|████▌     | 104017/226100 [9:20:10<10:51:55,  3.12it/s]"
     ]
    },
    {
     "name": "stdout",
     "output_type": "stream",
     "text": [
      "{'loss': 0.0055, 'grad_norm': 1.5936139822006226, 'learning_rate': 0.00012003145117696202, 'epoch': 46.0}\n"
     ]
    },
    {
     "name": "stderr",
     "output_type": "stream",
     "text": [
      "                                                            \n",
      " 46%|████▌     | 104017/226100 [9:20:16<10:51:55,  3.12it/s]"
     ]
    },
    {
     "name": "stdout",
     "output_type": "stream",
     "text": [
      "{'eval_loss': 0.029143963009119034, 'eval_mse': 0.029143966734409332, 'eval_mae': 0.13338609039783478, 'eval_accuracy_like': 0.8666139245033264, 'eval_openness_acc': 0.8611652851104736, 'eval_conscientiousness_acc': 0.8808428049087524, 'eval_extraversion_acc': 0.8666168451309204, 'eval_agreeableness_acc': 0.8694608211517334, 'eval_neuroticism_acc': 0.854983925819397, 'eval_openness_mae': 0.13883471488952637, 'eval_conscientiousness_mae': 0.11915720254182816, 'eval_extraversion_mae': 0.1333831399679184, 'eval_agreeableness_mae': 0.1305391490459442, 'eval_neuroticism_mae': 0.14501604437828064, 'eval_runtime': 5.8655, 'eval_samples_per_second': 192.823, 'eval_steps_per_second': 24.209, 'epoch': 46.0}\n"
     ]
    },
    {
     "name": "stderr",
     "output_type": "stream",
     "text": [
      " 47%|████▋     | 106278/226100 [9:32:07<10:31:52,  3.16it/s]"
     ]
    },
    {
     "name": "stdout",
     "output_type": "stream",
     "text": [
      "{'loss': 0.0053, 'grad_norm': 1.1733863353729248, 'learning_rate': 0.00011780922895473981, 'epoch': 47.0}\n"
     ]
    },
    {
     "name": "stderr",
     "output_type": "stream",
     "text": [
      "                                                            \n",
      " 47%|████▋     | 106278/226100 [9:32:13<10:31:52,  3.16it/s]"
     ]
    },
    {
     "name": "stdout",
     "output_type": "stream",
     "text": [
      "{'eval_loss': 0.029242200776934624, 'eval_mse': 0.029242198914289474, 'eval_mae': 0.13341307640075684, 'eval_accuracy_like': 0.8665869235992432, 'eval_openness_acc': 0.8626190423965454, 'eval_conscientiousness_acc': 0.8795971870422363, 'eval_extraversion_acc': 0.8647482395172119, 'eval_agreeableness_acc': 0.8722366690635681, 'eval_neuroticism_acc': 0.8537336587905884, 'eval_openness_mae': 0.1373809427022934, 'eval_conscientiousness_mae': 0.12040282785892487, 'eval_extraversion_mae': 0.1352517306804657, 'eval_agreeableness_mae': 0.12776333093643188, 'eval_neuroticism_mae': 0.14626632630825043, 'eval_runtime': 5.864, 'eval_samples_per_second': 192.871, 'eval_steps_per_second': 24.215, 'epoch': 47.0}\n"
     ]
    },
    {
     "name": "stderr",
     "output_type": "stream",
     "text": [
      " 48%|████▊     | 108540/226100 [9:44:05<9:56:11,  3.29it/s] "
     ]
    },
    {
     "name": "stdout",
     "output_type": "stream",
     "text": [
      "{'loss': 0.0053, 'grad_norm': 1.0729238986968994, 'learning_rate': 0.00011558798958179764, 'epoch': 48.0}\n"
     ]
    },
    {
     "name": "stderr",
     "output_type": "stream",
     "text": [
      "                                                           \n",
      " 48%|████▊     | 108540/226100 [9:44:11<9:56:11,  3.29it/s]"
     ]
    },
    {
     "name": "stdout",
     "output_type": "stream",
     "text": [
      "{'eval_loss': 0.028351571410894394, 'eval_mse': 0.028351569548249245, 'eval_mae': 0.13234177231788635, 'eval_accuracy_like': 0.867658257484436, 'eval_openness_acc': 0.8630364537239075, 'eval_conscientiousness_acc': 0.883594274520874, 'eval_extraversion_acc': 0.8633720874786377, 'eval_agreeableness_acc': 0.8734627962112427, 'eval_neuroticism_acc': 0.8548258543014526, 'eval_openness_mae': 0.13696353137493134, 'eval_conscientiousness_mae': 0.11640575528144836, 'eval_extraversion_mae': 0.13662788271903992, 'eval_agreeableness_mae': 0.12653721868991852, 'eval_neuroticism_mae': 0.14517413079738617, 'eval_runtime': 5.89, 'eval_samples_per_second': 192.019, 'eval_steps_per_second': 24.109, 'epoch': 48.0}\n"
     ]
    },
    {
     "name": "stderr",
     "output_type": "stream",
     "text": [
      " 49%|████▉     | 110801/226100 [9:56:10<10:29:00,  3.06it/s]"
     ]
    },
    {
     "name": "stdout",
     "output_type": "stream",
     "text": [
      "{'loss': 0.0051, 'grad_norm': 0.6949157118797302, 'learning_rate': 0.00011336576735957543, 'epoch': 49.0}\n"
     ]
    },
    {
     "name": "stderr",
     "output_type": "stream",
     "text": [
      "                                                            \n",
      " 49%|████▉     | 110801/226100 [9:56:16<10:29:00,  3.06it/s]"
     ]
    },
    {
     "name": "stdout",
     "output_type": "stream",
     "text": [
      "{'eval_loss': 0.02939712628722191, 'eval_mse': 0.02939712628722191, 'eval_mae': 0.13356176018714905, 'eval_accuracy_like': 0.8664382696151733, 'eval_openness_acc': 0.861030101776123, 'eval_conscientiousness_acc': 0.8818784952163696, 'eval_extraversion_acc': 0.8638933300971985, 'eval_agreeableness_acc': 0.8724272847175598, 'eval_neuroticism_acc': 0.8529622554779053, 'eval_openness_mae': 0.13896989822387695, 'eval_conscientiousness_mae': 0.11812151223421097, 'eval_extraversion_mae': 0.1361066848039627, 'eval_agreeableness_mae': 0.12757273018360138, 'eval_neuroticism_mae': 0.14703775942325592, 'eval_runtime': 5.9211, 'eval_samples_per_second': 191.01, 'eval_steps_per_second': 23.982, 'epoch': 49.0}\n"
     ]
    },
    {
     "name": "stderr",
     "output_type": "stream",
     "text": [
      " 50%|█████     | 113062/226100 [10:08:11<10:03:29,  3.12it/s]"
     ]
    },
    {
     "name": "stdout",
     "output_type": "stream",
     "text": [
      "{'loss': 0.005, 'grad_norm': 1.154422402381897, 'learning_rate': 0.00011114452798663326, 'epoch': 50.0}\n"
     ]
    },
    {
     "name": "stderr",
     "output_type": "stream",
     "text": [
      "                                                             \n",
      " 50%|█████     | 113062/226100 [10:08:17<10:03:29,  3.12it/s]"
     ]
    },
    {
     "name": "stdout",
     "output_type": "stream",
     "text": [
      "{'eval_loss': 0.028440523892641068, 'eval_mse': 0.028440523892641068, 'eval_mae': 0.13146360218524933, 'eval_accuracy_like': 0.8685364127159119, 'eval_openness_acc': 0.8627390265464783, 'eval_conscientiousness_acc': 0.8827018141746521, 'eval_extraversion_acc': 0.8680127263069153, 'eval_agreeableness_acc': 0.8753066658973694, 'eval_neuroticism_acc': 0.8539220094680786, 'eval_openness_mae': 0.13726097345352173, 'eval_conscientiousness_mae': 0.1172981858253479, 'eval_extraversion_mae': 0.13198727369308472, 'eval_agreeableness_mae': 0.1246933564543724, 'eval_neuroticism_mae': 0.146077960729599, 'eval_runtime': 5.8308, 'eval_samples_per_second': 193.969, 'eval_steps_per_second': 24.353, 'epoch': 50.0}\n"
     ]
    },
    {
     "name": "stderr",
     "output_type": "stream",
     "text": [
      " 51%|█████     | 115323/226100 [10:20:15<9:33:02,  3.22it/s] "
     ]
    },
    {
     "name": "stdout",
     "output_type": "stream",
     "text": [
      "{'loss': 0.0049, 'grad_norm': 0.9069439172744751, 'learning_rate': 0.00010892328861369109, 'epoch': 51.0}\n"
     ]
    },
    {
     "name": "stderr",
     "output_type": "stream",
     "text": [
      "                                                            \n",
      " 51%|█████     | 115323/226100 [10:20:21<9:33:02,  3.22it/s]"
     ]
    },
    {
     "name": "stdout",
     "output_type": "stream",
     "text": [
      "{'eval_loss': 0.02850399725139141, 'eval_mse': 0.02850399538874626, 'eval_mae': 0.13178887963294983, 'eval_accuracy_like': 0.8682111501693726, 'eval_openness_acc': 0.8642216324806213, 'eval_conscientiousness_acc': 0.880680501461029, 'eval_extraversion_acc': 0.8632895946502686, 'eval_agreeableness_acc': 0.8747099041938782, 'eval_neuroticism_acc': 0.8581542372703552, 'eval_openness_mae': 0.13577835261821747, 'eval_conscientiousness_mae': 0.11931949108839035, 'eval_extraversion_mae': 0.13671040534973145, 'eval_agreeableness_mae': 0.12529011070728302, 'eval_neuroticism_mae': 0.14184574782848358, 'eval_runtime': 5.822, 'eval_samples_per_second': 194.262, 'eval_steps_per_second': 24.39, 'epoch': 51.0}\n"
     ]
    },
    {
     "name": "stderr",
     "output_type": "stream",
     "text": [
      " 52%|█████▏    | 117585/226100 [10:32:14<8:51:41,  3.40it/s] "
     ]
    },
    {
     "name": "stdout",
     "output_type": "stream",
     "text": [
      "{'loss': 0.0048, 'grad_norm': 1.6119815111160278, 'learning_rate': 0.00010670106639146887, 'epoch': 52.0}\n"
     ]
    },
    {
     "name": "stderr",
     "output_type": "stream",
     "text": [
      "                                                            \n",
      " 52%|█████▏    | 117585/226100 [10:32:20<8:51:41,  3.40it/s]"
     ]
    },
    {
     "name": "stdout",
     "output_type": "stream",
     "text": [
      "{'eval_loss': 0.02856602519750595, 'eval_mse': 0.0285660233348608, 'eval_mae': 0.13205929100513458, 'eval_accuracy_like': 0.8679407238960266, 'eval_openness_acc': 0.861666202545166, 'eval_conscientiousness_acc': 0.8825964331626892, 'eval_extraversion_acc': 0.863612174987793, 'eval_agreeableness_acc': 0.8789696097373962, 'eval_neuroticism_acc': 0.852859377861023, 'eval_openness_mae': 0.13833379745483398, 'eval_conscientiousness_mae': 0.11740356683731079, 'eval_extraversion_mae': 0.13638783991336823, 'eval_agreeableness_mae': 0.12103038281202316, 'eval_neuroticism_mae': 0.14714060723781586, 'eval_runtime': 5.843, 'eval_samples_per_second': 193.563, 'eval_steps_per_second': 24.302, 'epoch': 52.0}\n"
     ]
    },
    {
     "name": "stderr",
     "output_type": "stream",
     "text": [
      " 53%|█████▎    | 119846/226100 [10:44:11<8:56:35,  3.30it/s] "
     ]
    },
    {
     "name": "stdout",
     "output_type": "stream",
     "text": [
      "{'loss': 0.0047, 'grad_norm': 0.9063341617584229, 'learning_rate': 0.00010448080986780677, 'epoch': 53.0}\n"
     ]
    },
    {
     "name": "stderr",
     "output_type": "stream",
     "text": [
      "                                                            \n",
      " 53%|█████▎    | 119846/226100 [10:44:17<8:56:35,  3.30it/s]"
     ]
    },
    {
     "name": "stdout",
     "output_type": "stream",
     "text": [
      "{'eval_loss': 0.02857900969684124, 'eval_mse': 0.02857901342213154, 'eval_mae': 0.13144274055957794, 'eval_accuracy_like': 0.8685572743415833, 'eval_openness_acc': 0.860571563243866, 'eval_conscientiousness_acc': 0.8843470215797424, 'eval_extraversion_acc': 0.8644351363182068, 'eval_agreeableness_acc': 0.8763527870178223, 'eval_neuroticism_acc': 0.8570801019668579, 'eval_openness_mae': 0.13942843675613403, 'eval_conscientiousness_mae': 0.11565297096967697, 'eval_extraversion_mae': 0.13556484878063202, 'eval_agreeableness_mae': 0.12364722788333893, 'eval_neuroticism_mae': 0.1429198980331421, 'eval_runtime': 5.8071, 'eval_samples_per_second': 194.762, 'eval_steps_per_second': 24.453, 'epoch': 53.0}\n"
     ]
    },
    {
     "name": "stderr",
     "output_type": "stream",
     "text": [
      " 54%|█████▍    | 122107/226100 [10:56:11<8:44:14,  3.31it/s] "
     ]
    },
    {
     "name": "stdout",
     "output_type": "stream",
     "text": [
      "{'loss': 0.0046, 'grad_norm': 0.7644029259681702, 'learning_rate': 0.00010225858764558456, 'epoch': 54.0}\n"
     ]
    },
    {
     "name": "stderr",
     "output_type": "stream",
     "text": [
      "                                                            \n",
      " 54%|█████▍    | 122107/226100 [10:56:17<8:44:14,  3.31it/s]"
     ]
    },
    {
     "name": "stdout",
     "output_type": "stream",
     "text": [
      "{'eval_loss': 0.028541352599859238, 'eval_mse': 0.02854135073721409, 'eval_mae': 0.13192489743232727, 'eval_accuracy_like': 0.8680751323699951, 'eval_openness_acc': 0.8621244430541992, 'eval_conscientiousness_acc': 0.8838329315185547, 'eval_extraversion_acc': 0.8663744926452637, 'eval_agreeableness_acc': 0.8739019632339478, 'eval_neuroticism_acc': 0.8541418313980103, 'eval_openness_mae': 0.13787555694580078, 'eval_conscientiousness_mae': 0.11616703867912292, 'eval_extraversion_mae': 0.13362549245357513, 'eval_agreeableness_mae': 0.12609805166721344, 'eval_neuroticism_mae': 0.14585815370082855, 'eval_runtime': 5.8897, 'eval_samples_per_second': 192.031, 'eval_steps_per_second': 24.11, 'epoch': 54.0}\n"
     ]
    },
    {
     "name": "stderr",
     "output_type": "stream",
     "text": [
      " 55%|█████▌    | 124368/226100 [11:08:13<9:38:01,  2.93it/s] "
     ]
    },
    {
     "name": "stdout",
     "output_type": "stream",
     "text": [
      "{'loss': 0.0045, 'grad_norm': 0.9334127902984619, 'learning_rate': 0.00010003734827264239, 'epoch': 55.0}\n"
     ]
    },
    {
     "name": "stderr",
     "output_type": "stream",
     "text": [
      "                                                            \n",
      " 55%|█████▌    | 124368/226100 [11:08:19<9:38:01,  2.93it/s]"
     ]
    },
    {
     "name": "stdout",
     "output_type": "stream",
     "text": [
      "{'eval_loss': 0.02926349639892578, 'eval_mse': 0.029263494536280632, 'eval_mae': 0.13307635486125946, 'eval_accuracy_like': 0.8669236302375793, 'eval_openness_acc': 0.859049916267395, 'eval_conscientiousness_acc': 0.8821123838424683, 'eval_extraversion_acc': 0.8644776344299316, 'eval_agreeableness_acc': 0.8737741708755493, 'eval_neuroticism_acc': 0.8552044630050659, 'eval_openness_mae': 0.14095008373260498, 'eval_conscientiousness_mae': 0.11788760870695114, 'eval_extraversion_mae': 0.13552236557006836, 'eval_agreeableness_mae': 0.12622584402561188, 'eval_neuroticism_mae': 0.1447955071926117, 'eval_runtime': 5.9061, 'eval_samples_per_second': 191.497, 'eval_steps_per_second': 24.043, 'epoch': 55.0}\n"
     ]
    },
    {
     "name": "stderr",
     "output_type": "stream",
     "text": [
      " 56%|█████▌    | 126630/226100 [11:20:51<8:38:00,  3.20it/s] "
     ]
    },
    {
     "name": "stdout",
     "output_type": "stream",
     "text": [
      "{'loss': 0.0045, 'grad_norm': 1.4363983869552612, 'learning_rate': 9.781512605042017e-05, 'epoch': 56.0}\n"
     ]
    },
    {
     "name": "stderr",
     "output_type": "stream",
     "text": [
      "                                                            \n",
      " 56%|█████▌    | 126630/226100 [11:20:57<8:38:00,  3.20it/s]"
     ]
    },
    {
     "name": "stdout",
     "output_type": "stream",
     "text": [
      "{'eval_loss': 0.029228754341602325, 'eval_mse': 0.029228754341602325, 'eval_mae': 0.13300617039203644, 'eval_accuracy_like': 0.8669938445091248, 'eval_openness_acc': 0.8617353439331055, 'eval_conscientiousness_acc': 0.8818171620368958, 'eval_extraversion_acc': 0.8618015050888062, 'eval_agreeableness_acc': 0.8743982315063477, 'eval_neuroticism_acc': 0.8552170991897583, 'eval_openness_mae': 0.13826467096805573, 'eval_conscientiousness_mae': 0.11818285286426544, 'eval_extraversion_mae': 0.13819850981235504, 'eval_agreeableness_mae': 0.12560173869132996, 'eval_neuroticism_mae': 0.1447828710079193, 'eval_runtime': 6.0724, 'eval_samples_per_second': 186.252, 'eval_steps_per_second': 23.384, 'epoch': 56.0}\n"
     ]
    },
    {
     "name": "stderr",
     "output_type": "stream",
     "text": [
      " 57%|█████▋    | 128891/226100 [11:33:23<8:40:38,  3.11it/s] "
     ]
    },
    {
     "name": "stdout",
     "output_type": "stream",
     "text": [
      "{'loss': 0.0044, 'grad_norm': 0.7215549945831299, 'learning_rate': 9.559486952675808e-05, 'epoch': 57.0}\n"
     ]
    },
    {
     "name": "stderr",
     "output_type": "stream",
     "text": [
      "                                                            \n",
      " 57%|█████▋    | 128891/226100 [11:33:29<8:40:38,  3.11it/s]"
     ]
    },
    {
     "name": "stdout",
     "output_type": "stream",
     "text": [
      "{'eval_loss': 0.02939455583691597, 'eval_mse': 0.02939455769956112, 'eval_mae': 0.13308365643024445, 'eval_accuracy_like': 0.8669163584709167, 'eval_openness_acc': 0.8618004322052002, 'eval_conscientiousness_acc': 0.8833947777748108, 'eval_extraversion_acc': 0.8651014566421509, 'eval_agreeableness_acc': 0.8702157139778137, 'eval_neuroticism_acc': 0.8540695905685425, 'eval_openness_mae': 0.138199582695961, 'eval_conscientiousness_mae': 0.1166052371263504, 'eval_extraversion_mae': 0.13489854335784912, 'eval_agreeableness_mae': 0.12978430092334747, 'eval_neuroticism_mae': 0.14593039453029633, 'eval_runtime': 5.9118, 'eval_samples_per_second': 191.314, 'eval_steps_per_second': 24.02, 'epoch': 57.0}\n"
     ]
    },
    {
     "name": "stderr",
     "output_type": "stream",
     "text": [
      " 58%|█████▊    | 131152/226100 [11:46:02<9:33:08,  2.76it/s] "
     ]
    },
    {
     "name": "stdout",
     "output_type": "stream",
     "text": [
      "{'loss': 0.0043, 'grad_norm': 0.8029336333274841, 'learning_rate': 9.337363015381592e-05, 'epoch': 58.0}\n"
     ]
    },
    {
     "name": "stderr",
     "output_type": "stream",
     "text": [
      "                                                            \n",
      " 58%|█████▊    | 131152/226100 [11:46:08<9:33:08,  2.76it/s]"
     ]
    },
    {
     "name": "stdout",
     "output_type": "stream",
     "text": [
      "{'eval_loss': 0.029365815222263336, 'eval_mse': 0.029365813359618187, 'eval_mae': 0.13315506279468536, 'eval_accuracy_like': 0.8668449521064758, 'eval_openness_acc': 0.8612534403800964, 'eval_conscientiousness_acc': 0.8826935291290283, 'eval_extraversion_acc': 0.8622114062309265, 'eval_agreeableness_acc': 0.8753518462181091, 'eval_neuroticism_acc': 0.8527146577835083, 'eval_openness_mae': 0.13874655961990356, 'eval_conscientiousness_mae': 0.11730644106864929, 'eval_extraversion_mae': 0.1377885937690735, 'eval_agreeableness_mae': 0.12464814633131027, 'eval_neuroticism_mae': 0.1472853273153305, 'eval_runtime': 5.9204, 'eval_samples_per_second': 191.034, 'eval_steps_per_second': 23.985, 'epoch': 58.0}\n"
     ]
    },
    {
     "name": "stderr",
     "output_type": "stream",
     "text": [
      " 59%|█████▉    | 133413/226100 [11:58:39<8:02:00,  3.20it/s] "
     ]
    },
    {
     "name": "stdout",
     "output_type": "stream",
     "text": [
      "{'loss': 0.0041, 'grad_norm': 0.9285903573036194, 'learning_rate': 9.115239078087375e-05, 'epoch': 59.0}\n"
     ]
    },
    {
     "name": "stderr",
     "output_type": "stream",
     "text": [
      "                                                            \n",
      " 59%|█████▉    | 133413/226100 [11:58:45<8:02:00,  3.20it/s]"
     ]
    },
    {
     "name": "stdout",
     "output_type": "stream",
     "text": [
      "{'eval_loss': 0.02871343493461609, 'eval_mse': 0.028713436797261238, 'eval_mae': 0.13161517679691315, 'eval_accuracy_like': 0.868384838104248, 'eval_openness_acc': 0.8631046414375305, 'eval_conscientiousness_acc': 0.8843861222267151, 'eval_extraversion_acc': 0.8658017516136169, 'eval_agreeableness_acc': 0.8744661211967468, 'eval_neuroticism_acc': 0.85416579246521, 'eval_openness_mae': 0.13689535856246948, 'eval_conscientiousness_mae': 0.11561387777328491, 'eval_extraversion_mae': 0.13419826328754425, 'eval_agreeableness_mae': 0.12553389370441437, 'eval_neuroticism_mae': 0.14583423733711243, 'eval_runtime': 5.7887, 'eval_samples_per_second': 195.38, 'eval_steps_per_second': 24.53, 'epoch': 59.0}\n"
     ]
    },
    {
     "name": "stderr",
     "output_type": "stream",
     "text": [
      " 60%|██████    | 135675/226100 [12:11:08<8:47:16,  2.86it/s] "
     ]
    },
    {
     "name": "stdout",
     "output_type": "stream",
     "text": [
      "{'loss': 0.0041, 'grad_norm': 1.7272826433181763, 'learning_rate': 8.892918570937148e-05, 'epoch': 60.0}\n"
     ]
    },
    {
     "name": "stderr",
     "output_type": "stream",
     "text": [
      "                                                            \n",
      " 60%|██████    | 135675/226100 [12:11:14<8:47:16,  2.86it/s]"
     ]
    },
    {
     "name": "stdout",
     "output_type": "stream",
     "text": [
      "{'eval_loss': 0.030304906889796257, 'eval_mse': 0.030304905027151108, 'eval_mae': 0.13498105108737946, 'eval_accuracy_like': 0.8650189638137817, 'eval_openness_acc': 0.8595460653305054, 'eval_conscientiousness_acc': 0.8799341320991516, 'eval_extraversion_acc': 0.8596177101135254, 'eval_agreeableness_acc': 0.8725299835205078, 'eval_neuroticism_acc': 0.8534672260284424, 'eval_openness_mae': 0.14045393466949463, 'eval_conscientiousness_mae': 0.12006589025259018, 'eval_extraversion_mae': 0.140382319688797, 'eval_agreeableness_mae': 0.1274699866771698, 'eval_neuroticism_mae': 0.14653280377388, 'eval_runtime': 5.7053, 'eval_samples_per_second': 198.238, 'eval_steps_per_second': 24.889, 'epoch': 60.0}\n"
     ]
    },
    {
     "name": "stderr",
     "output_type": "stream",
     "text": [
      " 61%|██████    | 137936/226100 [12:23:47<7:41:08,  3.19it/s] "
     ]
    },
    {
     "name": "stdout",
     "output_type": "stream",
     "text": [
      "{'loss': 0.0041, 'grad_norm': 0.6630162000656128, 'learning_rate': 8.670794633642931e-05, 'epoch': 61.0}\n"
     ]
    },
    {
     "name": "stderr",
     "output_type": "stream",
     "text": [
      "                                                            \n",
      " 61%|██████    | 137936/226100 [12:23:53<7:41:08,  3.19it/s]"
     ]
    },
    {
     "name": "stdout",
     "output_type": "stream",
     "text": [
      "{'eval_loss': 0.028853971511125565, 'eval_mse': 0.028853973373770714, 'eval_mae': 0.13203760981559753, 'eval_accuracy_like': 0.8679623603820801, 'eval_openness_acc': 0.8627734184265137, 'eval_conscientiousness_acc': 0.8844226598739624, 'eval_extraversion_acc': 0.8618170022964478, 'eval_agreeableness_acc': 0.8766182661056519, 'eval_neuroticism_acc': 0.8541808128356934, 'eval_openness_mae': 0.13722658157348633, 'eval_conscientiousness_mae': 0.11557731032371521, 'eval_extraversion_mae': 0.13818302750587463, 'eval_agreeableness_mae': 0.12338173389434814, 'eval_neuroticism_mae': 0.14581915736198425, 'eval_runtime': 5.706, 'eval_samples_per_second': 198.214, 'eval_steps_per_second': 24.886, 'epoch': 61.0}\n"
     ]
    },
    {
     "name": "stderr",
     "output_type": "stream",
     "text": [
      " 62%|██████▏   | 140197/226100 [12:36:21<7:48:07,  3.06it/s] "
     ]
    },
    {
     "name": "stdout",
     "output_type": "stream",
     "text": [
      "{'loss': 0.004, 'grad_norm': 1.1621814966201782, 'learning_rate': 8.448670696348715e-05, 'epoch': 62.0}\n"
     ]
    },
    {
     "name": "stderr",
     "output_type": "stream",
     "text": [
      "                                                            \n",
      " 62%|██████▏   | 140197/226100 [12:36:27<7:48:07,  3.06it/s]"
     ]
    },
    {
     "name": "stdout",
     "output_type": "stream",
     "text": [
      "{'eval_loss': 0.029756926000118256, 'eval_mse': 0.029756922274827957, 'eval_mae': 0.13354280591011047, 'eval_accuracy_like': 0.8664572238922119, 'eval_openness_acc': 0.8592032790184021, 'eval_conscientiousness_acc': 0.8827577829360962, 'eval_extraversion_acc': 0.863736629486084, 'eval_agreeableness_acc': 0.8726811408996582, 'eval_neuroticism_acc': 0.8539074659347534, 'eval_openness_mae': 0.1407967209815979, 'eval_conscientiousness_mae': 0.1172422245144844, 'eval_extraversion_mae': 0.1362634003162384, 'eval_agreeableness_mae': 0.1273188441991806, 'eval_neuroticism_mae': 0.14609254896640778, 'eval_runtime': 5.7467, 'eval_samples_per_second': 196.808, 'eval_steps_per_second': 24.71, 'epoch': 62.0}\n"
     ]
    },
    {
     "name": "stderr",
     "output_type": "stream",
     "text": [
      " 63%|██████▎   | 142458/226100 [12:48:50<7:26:25,  3.12it/s] "
     ]
    },
    {
     "name": "stdout",
     "output_type": "stream",
     "text": [
      "{'loss': 0.004, 'grad_norm': 1.1772050857543945, 'learning_rate': 8.2265467590545e-05, 'epoch': 63.0}\n"
     ]
    },
    {
     "name": "stderr",
     "output_type": "stream",
     "text": [
      "                                                            \n",
      " 63%|██████▎   | 142458/226100 [12:48:56<7:26:25,  3.12it/s]"
     ]
    },
    {
     "name": "stdout",
     "output_type": "stream",
     "text": [
      "{'eval_loss': 0.02983078733086586, 'eval_mse': 0.02983078919351101, 'eval_mae': 0.13465559482574463, 'eval_accuracy_like': 0.8653444051742554, 'eval_openness_acc': 0.8614932298660278, 'eval_conscientiousness_acc': 0.8802908062934875, 'eval_extraversion_acc': 0.8622077107429504, 'eval_agreeableness_acc': 0.870465874671936, 'eval_neuroticism_acc': 0.8522647619247437, 'eval_openness_mae': 0.13850674033164978, 'eval_conscientiousness_mae': 0.11970919370651245, 'eval_extraversion_mae': 0.13779230415821075, 'eval_agreeableness_mae': 0.12953415513038635, 'eval_neuroticism_mae': 0.14773526787757874, 'eval_runtime': 5.7227, 'eval_samples_per_second': 197.633, 'eval_steps_per_second': 24.813, 'epoch': 63.0}\n"
     ]
    },
    {
     "name": "stderr",
     "output_type": "stream",
     "text": [
      " 64%|██████▍   | 144720/226100 [13:01:20<7:15:16,  3.12it/s] "
     ]
    },
    {
     "name": "stdout",
     "output_type": "stream",
     "text": [
      "{'loss': 0.0039, 'grad_norm': 0.8522481918334961, 'learning_rate': 8.004422821760284e-05, 'epoch': 64.0}\n"
     ]
    },
    {
     "name": "stderr",
     "output_type": "stream",
     "text": [
      "                                                            \n",
      " 64%|██████▍   | 144720/226100 [13:01:26<7:15:16,  3.12it/s]"
     ]
    },
    {
     "name": "stdout",
     "output_type": "stream",
     "text": [
      "{'eval_loss': 0.02934166230261326, 'eval_mse': 0.029341664165258408, 'eval_mae': 0.13297076523303986, 'eval_accuracy_like': 0.8670292496681213, 'eval_openness_acc': 0.8622555136680603, 'eval_conscientiousness_acc': 0.8818950057029724, 'eval_extraversion_acc': 0.8624626398086548, 'eval_agreeableness_acc': 0.8757877349853516, 'eval_neuroticism_acc': 0.852745532989502, 'eval_openness_mae': 0.1377444863319397, 'eval_conscientiousness_mae': 0.11810498684644699, 'eval_extraversion_mae': 0.13753736019134521, 'eval_agreeableness_mae': 0.12421227991580963, 'eval_neuroticism_mae': 0.14725445210933685, 'eval_runtime': 5.8577, 'eval_samples_per_second': 193.079, 'eval_steps_per_second': 24.242, 'epoch': 64.0}\n"
     ]
    },
    {
     "name": "stderr",
     "output_type": "stream",
     "text": [
      " 65%|██████▌   | 146981/226100 [13:13:59<7:09:26,  3.07it/s] "
     ]
    },
    {
     "name": "stdout",
     "output_type": "stream",
     "text": [
      "{'loss': 0.0038, 'grad_norm': 2.000976085662842, 'learning_rate': 7.782298884466067e-05, 'epoch': 65.0}\n"
     ]
    },
    {
     "name": "stderr",
     "output_type": "stream",
     "text": [
      "                                                            \n",
      " 65%|██████▌   | 146981/226100 [13:14:04<7:09:26,  3.07it/s]"
     ]
    },
    {
     "name": "stdout",
     "output_type": "stream",
     "text": [
      "{'eval_loss': 0.029942620545625687, 'eval_mse': 0.029942622408270836, 'eval_mae': 0.13506241142749786, 'eval_accuracy_like': 0.8649376034736633, 'eval_openness_acc': 0.8592851758003235, 'eval_conscientiousness_acc': 0.8806012868881226, 'eval_extraversion_acc': 0.8627907633781433, 'eval_agreeableness_acc': 0.8709160685539246, 'eval_neuroticism_acc': 0.8510948419570923, 'eval_openness_mae': 0.1407148241996765, 'eval_conscientiousness_mae': 0.11939869076013565, 'eval_extraversion_mae': 0.1372092366218567, 'eval_agreeableness_mae': 0.12908391654491425, 'eval_neuroticism_mae': 0.1489051729440689, 'eval_runtime': 5.8173, 'eval_samples_per_second': 194.422, 'eval_steps_per_second': 24.41, 'epoch': 65.0}\n"
     ]
    },
    {
     "name": "stderr",
     "output_type": "stream",
     "text": [
      " 66%|██████▌   | 149242/226100 [13:26:34<6:38:15,  3.22it/s] "
     ]
    },
    {
     "name": "stdout",
     "output_type": "stream",
     "text": [
      "{'loss': 0.0038, 'grad_norm': 1.1536616086959839, 'learning_rate': 7.560174947171852e-05, 'epoch': 66.0}\n"
     ]
    },
    {
     "name": "stderr",
     "output_type": "stream",
     "text": [
      "                                                            \n",
      " 66%|██████▌   | 149242/226100 [13:26:40<6:38:15,  3.22it/s]"
     ]
    },
    {
     "name": "stdout",
     "output_type": "stream",
     "text": [
      "{'eval_loss': 0.029787199571728706, 'eval_mse': 0.029787201434373856, 'eval_mae': 0.13428129255771637, 'eval_accuracy_like': 0.8657187223434448, 'eval_openness_acc': 0.8587556481361389, 'eval_conscientiousness_acc': 0.8808045983314514, 'eval_extraversion_acc': 0.8650513887405396, 'eval_agreeableness_acc': 0.8721083998680115, 'eval_neuroticism_acc': 0.8518737554550171, 'eval_openness_mae': 0.14124436676502228, 'eval_conscientiousness_mae': 0.11919542402029037, 'eval_extraversion_mae': 0.13494862616062164, 'eval_agreeableness_mae': 0.12789158523082733, 'eval_neuroticism_mae': 0.1481262445449829, 'eval_runtime': 5.8196, 'eval_samples_per_second': 194.345, 'eval_steps_per_second': 24.4, 'epoch': 66.0}\n"
     ]
    },
    {
     "name": "stderr",
     "output_type": "stream",
     "text": [
      " 67%|██████▋   | 151503/226100 [13:39:09<6:41:25,  3.10it/s] "
     ]
    },
    {
     "name": "stdout",
     "output_type": "stream",
     "text": [
      "{'loss': 0.0037, 'grad_norm': 0.8750305771827698, 'learning_rate': 7.338051009877636e-05, 'epoch': 67.0}\n"
     ]
    },
    {
     "name": "stderr",
     "output_type": "stream",
     "text": [
      "                                                            \n",
      " 67%|██████▋   | 151503/226100 [13:39:15<6:41:25,  3.10it/s]"
     ]
    },
    {
     "name": "stdout",
     "output_type": "stream",
     "text": [
      "{'eval_loss': 0.029235145077109337, 'eval_mse': 0.029235143214464188, 'eval_mae': 0.133369579911232, 'eval_accuracy_like': 0.8666304349899292, 'eval_openness_acc': 0.8610671162605286, 'eval_conscientiousness_acc': 0.8808406591415405, 'eval_extraversion_acc': 0.8645223379135132, 'eval_agreeableness_acc': 0.8738576769828796, 'eval_neuroticism_acc': 0.852864682674408, 'eval_openness_mae': 0.13893289864063263, 'eval_conscientiousness_mae': 0.11915934085845947, 'eval_extraversion_mae': 0.13547766208648682, 'eval_agreeableness_mae': 0.12614233791828156, 'eval_neuroticism_mae': 0.14713530242443085, 'eval_runtime': 5.9135, 'eval_samples_per_second': 191.257, 'eval_steps_per_second': 24.013, 'epoch': 67.0}\n"
     ]
    },
    {
     "name": "stderr",
     "output_type": "stream",
     "text": [
      " 68%|██████▊   | 153765/226100 [13:51:48<6:50:01,  2.94it/s] "
     ]
    },
    {
     "name": "stdout",
     "output_type": "stream",
     "text": [
      "{'loss': 0.0036, 'grad_norm': 1.2812395095825195, 'learning_rate': 7.115828787655414e-05, 'epoch': 68.0}\n"
     ]
    },
    {
     "name": "stderr",
     "output_type": "stream",
     "text": [
      "                                                            \n",
      " 68%|██████▊   | 153765/226100 [13:51:54<6:50:01,  2.94it/s]"
     ]
    },
    {
     "name": "stdout",
     "output_type": "stream",
     "text": [
      "{'eval_loss': 0.02863214537501335, 'eval_mse': 0.028632141649723053, 'eval_mae': 0.13145111501216888, 'eval_accuracy_like': 0.8685488700866699, 'eval_openness_acc': 0.8637589812278748, 'eval_conscientiousness_acc': 0.8818461894989014, 'eval_extraversion_acc': 0.8666480183601379, 'eval_agreeableness_acc': 0.8747454881668091, 'eval_neuroticism_acc': 0.8557459712028503, 'eval_openness_mae': 0.13624101877212524, 'eval_conscientiousness_mae': 0.11815382540225983, 'eval_extraversion_mae': 0.13335196673870087, 'eval_agreeableness_mae': 0.12525448203086853, 'eval_neuroticism_mae': 0.14425401389598846, 'eval_runtime': 5.8049, 'eval_samples_per_second': 194.835, 'eval_steps_per_second': 24.462, 'epoch': 68.0}\n"
     ]
    },
    {
     "name": "stderr",
     "output_type": "stream",
     "text": [
      " 69%|██████▉   | 156026/226100 [14:04:25<6:17:51,  3.09it/s] "
     ]
    },
    {
     "name": "stdout",
     "output_type": "stream",
     "text": [
      "{'loss': 0.0036, 'grad_norm': 1.6241062879562378, 'learning_rate': 6.893704850361198e-05, 'epoch': 69.0}\n"
     ]
    },
    {
     "name": "stderr",
     "output_type": "stream",
     "text": [
      "                                                            \n",
      " 69%|██████▉   | 156026/226100 [14:04:31<6:17:51,  3.09it/s]"
     ]
    },
    {
     "name": "stdout",
     "output_type": "stream",
     "text": [
      "{'eval_loss': 0.028872691094875336, 'eval_mse': 0.028872689232230186, 'eval_mae': 0.13191327452659607, 'eval_accuracy_like': 0.8680866956710815, 'eval_openness_acc': 0.8615050911903381, 'eval_conscientiousness_acc': 0.8833743333816528, 'eval_extraversion_acc': 0.8649195432662964, 'eval_agreeableness_acc': 0.8745648264884949, 'eval_neuroticism_acc': 0.8560701012611389, 'eval_openness_mae': 0.13849492371082306, 'eval_conscientiousness_mae': 0.11662567406892776, 'eval_extraversion_mae': 0.13508042693138123, 'eval_agreeableness_mae': 0.12543515861034393, 'eval_neuroticism_mae': 0.14392991364002228, 'eval_runtime': 5.7269, 'eval_samples_per_second': 197.49, 'eval_steps_per_second': 24.795, 'epoch': 69.0}\n"
     ]
    },
    {
     "name": "stderr",
     "output_type": "stream",
     "text": [
      " 70%|███████   | 158287/226100 [14:17:01<6:10:25,  3.05it/s] "
     ]
    },
    {
     "name": "stdout",
     "output_type": "stream",
     "text": [
      "{'loss': 0.0035, 'grad_norm': 0.7760599255561829, 'learning_rate': 6.671580913066981e-05, 'epoch': 70.0}\n"
     ]
    },
    {
     "name": "stderr",
     "output_type": "stream",
     "text": [
      "                                                            \n",
      " 70%|███████   | 158287/226100 [14:17:07<6:10:25,  3.05it/s]"
     ]
    },
    {
     "name": "stdout",
     "output_type": "stream",
     "text": [
      "{'eval_loss': 0.02896013855934143, 'eval_mse': 0.02896013669669628, 'eval_mae': 0.13220074772834778, 'eval_accuracy_like': 0.8677992820739746, 'eval_openness_acc': 0.8609023690223694, 'eval_conscientiousness_acc': 0.8830872774124146, 'eval_extraversion_acc': 0.8650420904159546, 'eval_agreeableness_acc': 0.8750218152999878, 'eval_neuroticism_acc': 0.8549429178237915, 'eval_openness_mae': 0.13909763097763062, 'eval_conscientiousness_mae': 0.11691273748874664, 'eval_extraversion_mae': 0.1349579244852066, 'eval_agreeableness_mae': 0.1249782145023346, 'eval_neuroticism_mae': 0.1450570672750473, 'eval_runtime': 5.6804, 'eval_samples_per_second': 199.105, 'eval_steps_per_second': 24.998, 'epoch': 70.0}\n"
     ]
    },
    {
     "name": "stderr",
     "output_type": "stream",
     "text": [
      " 71%|███████   | 160548/226100 [14:29:31<6:35:27,  2.76it/s] "
     ]
    },
    {
     "name": "stdout",
     "output_type": "stream",
     "text": [
      "{'loss': 0.0035, 'grad_norm': 0.5974540710449219, 'learning_rate': 6.449456975772765e-05, 'epoch': 71.0}\n"
     ]
    },
    {
     "name": "stderr",
     "output_type": "stream",
     "text": [
      "                                                            \n",
      " 71%|███████   | 160548/226100 [14:29:36<6:35:27,  2.76it/s]"
     ]
    },
    {
     "name": "stdout",
     "output_type": "stream",
     "text": [
      "{'eval_loss': 0.028937483206391335, 'eval_mse': 0.028937483206391335, 'eval_mae': 0.1319737583398819, 'eval_accuracy_like': 0.8680262565612793, 'eval_openness_acc': 0.8603249788284302, 'eval_conscientiousness_acc': 0.8838565945625305, 'eval_extraversion_acc': 0.8658908605575562, 'eval_agreeableness_acc': 0.8746633529663086, 'eval_neuroticism_acc': 0.8553957343101501, 'eval_openness_mae': 0.13967503607273102, 'eval_conscientiousness_mae': 0.11614341288805008, 'eval_extraversion_mae': 0.13410912454128265, 'eval_agreeableness_mae': 0.1253366768360138, 'eval_neuroticism_mae': 0.14460428059101105, 'eval_runtime': 5.7402, 'eval_samples_per_second': 197.03, 'eval_steps_per_second': 24.738, 'epoch': 71.0}\n"
     ]
    },
    {
     "name": "stderr",
     "output_type": "stream",
     "text": [
      " 72%|███████▏  | 162810/226100 [14:42:11<6:04:16,  2.90it/s] "
     ]
    },
    {
     "name": "stdout",
     "output_type": "stream",
     "text": [
      "{'loss': 0.0034, 'grad_norm': inf, 'learning_rate': 6.22733303847855e-05, 'epoch': 72.0}\n"
     ]
    },
    {
     "name": "stderr",
     "output_type": "stream",
     "text": [
      "                                                            \n",
      " 72%|███████▏  | 162810/226100 [14:42:17<6:04:16,  2.90it/s]"
     ]
    },
    {
     "name": "stdout",
     "output_type": "stream",
     "text": [
      "{'eval_loss': 0.029759638011455536, 'eval_mse': 0.029759636148810387, 'eval_mae': 0.1338304728269577, 'eval_accuracy_like': 0.8661695122718811, 'eval_openness_acc': 0.8613103032112122, 'eval_conscientiousness_acc': 0.8807597756385803, 'eval_extraversion_acc': 0.8645650744438171, 'eval_agreeableness_acc': 0.8719808459281921, 'eval_neuroticism_acc': 0.8522319197654724, 'eval_openness_mae': 0.13868969678878784, 'eval_conscientiousness_mae': 0.11924021691083908, 'eval_extraversion_mae': 0.13543494045734406, 'eval_agreeableness_mae': 0.12801916897296906, 'eval_neuroticism_mae': 0.14776809513568878, 'eval_runtime': 5.9375, 'eval_samples_per_second': 190.486, 'eval_steps_per_second': 23.916, 'epoch': 72.0}\n"
     ]
    },
    {
     "name": "stderr",
     "output_type": "stream",
     "text": [
      " 73%|███████▎  | 165071/226100 [14:54:46<5:43:08,  2.96it/s] "
     ]
    },
    {
     "name": "stdout",
     "output_type": "stream",
     "text": [
      "{'loss': 0.0034, 'grad_norm': 1.077908992767334, 'learning_rate': 6.005209101184334e-05, 'epoch': 73.0}\n"
     ]
    },
    {
     "name": "stderr",
     "output_type": "stream",
     "text": [
      "                                                            \n",
      " 73%|███████▎  | 165071/226100 [14:54:51<5:43:08,  2.96it/s]"
     ]
    },
    {
     "name": "stdout",
     "output_type": "stream",
     "text": [
      "{'eval_loss': 0.02980675920844078, 'eval_mse': 0.02980676107108593, 'eval_mae': 0.13377675414085388, 'eval_accuracy_like': 0.8662232160568237, 'eval_openness_acc': 0.8581671714782715, 'eval_conscientiousness_acc': 0.8817043900489807, 'eval_extraversion_acc': 0.8641670346260071, 'eval_agreeableness_acc': 0.8746988773345947, 'eval_neuroticism_acc': 0.8523790836334229, 'eval_openness_mae': 0.1418328434228897, 'eval_conscientiousness_mae': 0.11829563230276108, 'eval_extraversion_mae': 0.13583296537399292, 'eval_agreeableness_mae': 0.12530115246772766, 'eval_neuroticism_mae': 0.14762090146541595, 'eval_runtime': 5.8407, 'eval_samples_per_second': 193.642, 'eval_steps_per_second': 24.312, 'epoch': 73.0}\n"
     ]
    },
    {
     "name": "stderr",
     "output_type": "stream",
     "text": [
      " 74%|███████▍  | 167332/226100 [15:07:24<5:53:56,  2.77it/s] "
     ]
    },
    {
     "name": "stdout",
     "output_type": "stream",
     "text": [
      "{'loss': 0.0033, 'grad_norm': 0.947332501411438, 'learning_rate': 5.783085163890117e-05, 'epoch': 74.0}\n"
     ]
    },
    {
     "name": "stderr",
     "output_type": "stream",
     "text": [
      "                                                            \n",
      " 74%|███████▍  | 167332/226100 [15:07:30<5:53:56,  2.77it/s]"
     ]
    },
    {
     "name": "stdout",
     "output_type": "stream",
     "text": [
      "{'eval_loss': 0.0292781013995409, 'eval_mse': 0.029278099536895752, 'eval_mae': 0.13250957429409027, 'eval_accuracy_like': 0.8674904108047485, 'eval_openness_acc': 0.8595678210258484, 'eval_conscientiousness_acc': 0.8819198608398438, 'eval_extraversion_acc': 0.8659915328025818, 'eval_agreeableness_acc': 0.8742491006851196, 'eval_neuroticism_acc': 0.855724036693573, 'eval_openness_mae': 0.1404321789741516, 'eval_conscientiousness_mae': 0.11808014661073685, 'eval_extraversion_mae': 0.1340084671974182, 'eval_agreeableness_mae': 0.12575091421604156, 'eval_neuroticism_mae': 0.1442759484052658, 'eval_runtime': 5.9855, 'eval_samples_per_second': 188.957, 'eval_steps_per_second': 23.724, 'epoch': 74.0}\n"
     ]
    },
    {
     "name": "stderr",
     "output_type": "stream",
     "text": [
      " 75%|███████▌  | 169593/226100 [15:20:06<4:51:12,  3.23it/s] "
     ]
    },
    {
     "name": "stdout",
     "output_type": "stream",
     "text": [
      "{'loss': 0.0033, 'grad_norm': 1.7307748794555664, 'learning_rate': 5.5609612265959024e-05, 'epoch': 75.0}\n"
     ]
    },
    {
     "name": "stderr",
     "output_type": "stream",
     "text": [
      "                                                            \n",
      " 75%|███████▌  | 169593/226100 [15:20:12<4:51:12,  3.23it/s]"
     ]
    },
    {
     "name": "stdout",
     "output_type": "stream",
     "text": [
      "{'eval_loss': 0.029499219730496407, 'eval_mse': 0.029499219730496407, 'eval_mae': 0.13308535516262054, 'eval_accuracy_like': 0.8669146299362183, 'eval_openness_acc': 0.8612649440765381, 'eval_conscientiousness_acc': 0.8823546171188354, 'eval_extraversion_acc': 0.8641546964645386, 'eval_agreeableness_acc': 0.873417854309082, 'eval_neuroticism_acc': 0.8533812761306763, 'eval_openness_mae': 0.13873505592346191, 'eval_conscientiousness_mae': 0.11764541268348694, 'eval_extraversion_mae': 0.13584528863430023, 'eval_agreeableness_mae': 0.12658216059207916, 'eval_neuroticism_mae': 0.14661869406700134, 'eval_runtime': 5.8713, 'eval_samples_per_second': 192.633, 'eval_steps_per_second': 24.186, 'epoch': 75.0}\n"
     ]
    },
    {
     "name": "stderr",
     "output_type": "stream",
     "text": [
      " 76%|███████▌  | 171855/226100 [15:32:39<4:54:12,  3.07it/s] "
     ]
    },
    {
     "name": "stdout",
     "output_type": "stream",
     "text": [
      "{'loss': 0.0032, 'grad_norm': 0.6057246327400208, 'learning_rate': 5.338739004373679e-05, 'epoch': 76.0}\n"
     ]
    },
    {
     "name": "stderr",
     "output_type": "stream",
     "text": [
      "                                                            \n",
      " 76%|███████▌  | 171855/226100 [15:32:45<4:54:12,  3.07it/s]"
     ]
    },
    {
     "name": "stdout",
     "output_type": "stream",
     "text": [
      "{'eval_loss': 0.03002430498600006, 'eval_mse': 0.030024303123354912, 'eval_mae': 0.13468432426452637, 'eval_accuracy_like': 0.8653156757354736, 'eval_openness_acc': 0.8591290712356567, 'eval_conscientiousness_acc': 0.8796054124832153, 'eval_extraversion_acc': 0.8609498739242554, 'eval_agreeableness_acc': 0.8740875124931335, 'eval_neuroticism_acc': 0.852806806564331, 'eval_openness_mae': 0.14087091386318207, 'eval_conscientiousness_mae': 0.12039460986852646, 'eval_extraversion_mae': 0.13905014097690582, 'eval_agreeableness_mae': 0.12591250240802765, 'eval_neuroticism_mae': 0.14719320833683014, 'eval_runtime': 5.8182, 'eval_samples_per_second': 194.389, 'eval_steps_per_second': 24.406, 'epoch': 76.0}\n"
     ]
    },
    {
     "name": "stderr",
     "output_type": "stream",
     "text": [
      " 77%|███████▋  | 174116/226100 [15:45:24<5:12:36,  2.77it/s] "
     ]
    },
    {
     "name": "stdout",
     "output_type": "stream",
     "text": [
      "{'loss': 0.0033, 'grad_norm': 1.0583531856536865, 'learning_rate': 5.116615067079463e-05, 'epoch': 77.0}\n"
     ]
    },
    {
     "name": "stderr",
     "output_type": "stream",
     "text": [
      "                                                            \n",
      " 77%|███████▋  | 174116/226100 [15:45:30<5:12:36,  2.77it/s]"
     ]
    },
    {
     "name": "stdout",
     "output_type": "stream",
     "text": [
      "{'eval_loss': 0.029819147661328316, 'eval_mse': 0.029819149523973465, 'eval_mae': 0.13354355096817017, 'eval_accuracy_like': 0.8664564490318298, 'eval_openness_acc': 0.8592045903205872, 'eval_conscientiousness_acc': 0.8808047771453857, 'eval_extraversion_acc': 0.8640739917755127, 'eval_agreeableness_acc': 0.8742168545722961, 'eval_neuroticism_acc': 0.8539822697639465, 'eval_openness_mae': 0.14079540967941284, 'eval_conscientiousness_mae': 0.11919520050287247, 'eval_extraversion_mae': 0.13592597842216492, 'eval_agreeableness_mae': 0.12578314542770386, 'eval_neuroticism_mae': 0.14601773023605347, 'eval_runtime': 5.8072, 'eval_samples_per_second': 194.757, 'eval_steps_per_second': 24.452, 'epoch': 77.0}\n"
     ]
    },
    {
     "name": "stderr",
     "output_type": "stream",
     "text": [
      " 78%|███████▊  | 176377/226100 [15:58:05<4:56:55,  2.79it/s] "
     ]
    },
    {
     "name": "stdout",
     "output_type": "stream",
     "text": [
      "{'loss': 0.0032, 'grad_norm': 1.472992181777954, 'learning_rate': 4.894491129785248e-05, 'epoch': 78.0}\n"
     ]
    },
    {
     "name": "stderr",
     "output_type": "stream",
     "text": [
      "                                                            \n",
      " 78%|███████▊  | 176377/226100 [15:58:11<4:56:55,  2.79it/s]"
     ]
    },
    {
     "name": "stdout",
     "output_type": "stream",
     "text": [
      "{'eval_loss': 0.029512325301766396, 'eval_mse': 0.029512327164411545, 'eval_mae': 0.13361434638500214, 'eval_accuracy_like': 0.8663856387138367, 'eval_openness_acc': 0.8606005311012268, 'eval_conscientiousness_acc': 0.8806794285774231, 'eval_extraversion_acc': 0.8648828268051147, 'eval_agreeableness_acc': 0.8738649487495422, 'eval_neuroticism_acc': 0.8519006967544556, 'eval_openness_mae': 0.1393994837999344, 'eval_conscientiousness_mae': 0.11932054907083511, 'eval_extraversion_mae': 0.13511718809604645, 'eval_agreeableness_mae': 0.12613503634929657, 'eval_neuroticism_mae': 0.14809928834438324, 'eval_runtime': 5.791, 'eval_samples_per_second': 195.304, 'eval_steps_per_second': 24.521, 'epoch': 78.0}\n"
     ]
    },
    {
     "name": "stderr",
     "output_type": "stream",
     "text": [
      " 79%|███████▉  | 178638/226100 [16:10:43<4:13:16,  3.12it/s] "
     ]
    },
    {
     "name": "stdout",
     "output_type": "stream",
     "text": [
      "{'loss': 0.0031, 'grad_norm': 0.6386640071868896, 'learning_rate': 4.672367192491032e-05, 'epoch': 79.0}\n"
     ]
    },
    {
     "name": "stderr",
     "output_type": "stream",
     "text": [
      "                                                            \n",
      " 79%|███████▉  | 178638/226100 [16:10:49<4:13:16,  3.12it/s]"
     ]
    },
    {
     "name": "stdout",
     "output_type": "stream",
     "text": [
      "{'eval_loss': 0.030147289857268333, 'eval_mse': 0.030147289857268333, 'eval_mae': 0.1340702325105667, 'eval_accuracy_like': 0.8659297823905945, 'eval_openness_acc': 0.8597409725189209, 'eval_conscientiousness_acc': 0.8799502849578857, 'eval_extraversion_acc': 0.8638689517974854, 'eval_agreeableness_acc': 0.8734261989593506, 'eval_neuroticism_acc': 0.8526626229286194, 'eval_openness_mae': 0.1402589976787567, 'eval_conscientiousness_mae': 0.12004970014095306, 'eval_extraversion_mae': 0.13613103330135345, 'eval_agreeableness_mae': 0.12657380104064941, 'eval_neuroticism_mae': 0.14733737707138062, 'eval_runtime': 5.7532, 'eval_samples_per_second': 196.586, 'eval_steps_per_second': 24.682, 'epoch': 79.0}\n"
     ]
    },
    {
     "name": "stderr",
     "output_type": "stream",
     "text": [
      " 80%|████████  | 180900/226100 [16:23:25<4:01:59,  3.11it/s] "
     ]
    },
    {
     "name": "stdout",
     "output_type": "stream",
     "text": [
      "{'loss': 0.0031, 'grad_norm': 0.5780585408210754, 'learning_rate': 4.45014497026881e-05, 'epoch': 80.0}\n"
     ]
    },
    {
     "name": "stderr",
     "output_type": "stream",
     "text": [
      "                                                            \n",
      " 80%|████████  | 180900/226100 [16:23:31<4:01:59,  3.11it/s]"
     ]
    },
    {
     "name": "stdout",
     "output_type": "stream",
     "text": [
      "{'eval_loss': 0.029850414022803307, 'eval_mse': 0.029850417748093605, 'eval_mae': 0.13355782628059387, 'eval_accuracy_like': 0.8664422035217285, 'eval_openness_acc': 0.8614486455917358, 'eval_conscientiousness_acc': 0.8828271627426147, 'eval_extraversion_acc': 0.8641254305839539, 'eval_agreeableness_acc': 0.8722131252288818, 'eval_neuroticism_acc': 0.8515968322753906, 'eval_openness_mae': 0.13855136930942535, 'eval_conscientiousness_mae': 0.11717285960912704, 'eval_extraversion_mae': 0.13587455451488495, 'eval_agreeableness_mae': 0.12778690457344055, 'eval_neuroticism_mae': 0.14840319752693176, 'eval_runtime': 5.7139, 'eval_samples_per_second': 197.94, 'eval_steps_per_second': 24.852, 'epoch': 80.0}\n"
     ]
    },
    {
     "name": "stderr",
     "output_type": "stream",
     "text": [
      " 81%|████████  | 183161/226100 [16:36:02<3:45:48,  3.17it/s] "
     ]
    },
    {
     "name": "stdout",
     "output_type": "stream",
     "text": [
      "{'loss': 0.0031, 'grad_norm': 0.5798008441925049, 'learning_rate': 4.2281193179025996e-05, 'epoch': 81.0}\n"
     ]
    },
    {
     "name": "stderr",
     "output_type": "stream",
     "text": [
      "                                                            \n",
      " 81%|████████  | 183161/226100 [16:36:07<3:45:48,  3.17it/s]"
     ]
    },
    {
     "name": "stdout",
     "output_type": "stream",
     "text": [
      "{'eval_loss': 0.02940572053194046, 'eval_mse': 0.02940572425723076, 'eval_mae': 0.13279227912425995, 'eval_accuracy_like': 0.8672077059745789, 'eval_openness_acc': 0.8615274429321289, 'eval_conscientiousness_acc': 0.8816325068473816, 'eval_extraversion_acc': 0.865382730960846, 'eval_agreeableness_acc': 0.8724655508995056, 'eval_neuroticism_acc': 0.8550306558609009, 'eval_openness_mae': 0.13847258687019348, 'eval_conscientiousness_mae': 0.118367500603199, 'eval_extraversion_mae': 0.13461725413799286, 'eval_agreeableness_mae': 0.1275344341993332, 'eval_neuroticism_mae': 0.14496934413909912, 'eval_runtime': 5.7126, 'eval_samples_per_second': 197.985, 'eval_steps_per_second': 24.858, 'epoch': 81.0}\n"
     ]
    },
    {
     "name": "stderr",
     "output_type": "stream",
     "text": [
      " 82%|████████▏ | 185422/226100 [16:48:39<3:47:04,  2.99it/s] "
     ]
    },
    {
     "name": "stdout",
     "output_type": "stream",
     "text": [
      "{'loss': 0.003, 'grad_norm': 1.5819156169891357, 'learning_rate': 4.005995380608384e-05, 'epoch': 82.0}\n"
     ]
    },
    {
     "name": "stderr",
     "output_type": "stream",
     "text": [
      "                                                            \n",
      " 82%|████████▏ | 185422/226100 [16:48:45<3:47:04,  2.99it/s]"
     ]
    },
    {
     "name": "stdout",
     "output_type": "stream",
     "text": [
      "{'eval_loss': 0.02942821756005287, 'eval_mse': 0.029428215697407722, 'eval_mae': 0.1326812505722046, 'eval_accuracy_like': 0.8673187494277954, 'eval_openness_acc': 0.8625458478927612, 'eval_conscientiousness_acc': 0.8823869228363037, 'eval_extraversion_acc': 0.8653350472450256, 'eval_agreeableness_acc': 0.8727177977561951, 'eval_neuroticism_acc': 0.8536083698272705, 'eval_openness_mae': 0.13745415210723877, 'eval_conscientiousness_mae': 0.11761308461427689, 'eval_extraversion_mae': 0.13466496765613556, 'eval_agreeableness_mae': 0.12728220224380493, 'eval_neuroticism_mae': 0.1463916003704071, 'eval_runtime': 5.7925, 'eval_samples_per_second': 195.252, 'eval_steps_per_second': 24.514, 'epoch': 82.0}\n"
     ]
    },
    {
     "name": "stderr",
     "output_type": "stream",
     "text": [
      " 83%|████████▎ | 187683/226100 [17:01:05<3:32:19,  3.02it/s] "
     ]
    },
    {
     "name": "stdout",
     "output_type": "stream",
     "text": [
      "{'loss': 0.003, 'grad_norm': 0.40350469946861267, 'learning_rate': 3.783871443314168e-05, 'epoch': 83.0}\n"
     ]
    },
    {
     "name": "stderr",
     "output_type": "stream",
     "text": [
      "                                                            \n",
      " 83%|████████▎ | 187683/226100 [17:01:11<3:32:19,  3.02it/s]"
     ]
    },
    {
     "name": "stdout",
     "output_type": "stream",
     "text": [
      "{'eval_loss': 0.029603002592921257, 'eval_mse': 0.029603002592921257, 'eval_mae': 0.13348473608493805, 'eval_accuracy_like': 0.8665152788162231, 'eval_openness_acc': 0.8608460426330566, 'eval_conscientiousness_acc': 0.8809286952018738, 'eval_extraversion_acc': 0.8640652894973755, 'eval_agreeableness_acc': 0.8732271194458008, 'eval_neuroticism_acc': 0.8535093069076538, 'eval_openness_mae': 0.13915392756462097, 'eval_conscientiousness_mae': 0.11907128244638443, 'eval_extraversion_mae': 0.13593468070030212, 'eval_agreeableness_mae': 0.12677286565303802, 'eval_neuroticism_mae': 0.14649070799350739, 'eval_runtime': 5.9552, 'eval_samples_per_second': 189.919, 'eval_steps_per_second': 23.845, 'epoch': 83.0}\n"
     ]
    },
    {
     "name": "stderr",
     "output_type": "stream",
     "text": [
      " 84%|████████▍ | 189945/226100 [17:13:18<3:03:46,  3.28it/s] "
     ]
    },
    {
     "name": "stdout",
     "output_type": "stream",
     "text": [
      "{'loss': 0.003, 'grad_norm': 0.662835419178009, 'learning_rate': 3.5616492210919456e-05, 'epoch': 84.0}\n"
     ]
    },
    {
     "name": "stderr",
     "output_type": "stream",
     "text": [
      "                                                            \n",
      " 84%|████████▍ | 189945/226100 [17:13:24<3:03:46,  3.28it/s]"
     ]
    },
    {
     "name": "stdout",
     "output_type": "stream",
     "text": [
      "{'eval_loss': 0.029723484069108963, 'eval_mse': 0.029723484069108963, 'eval_mae': 0.1335286647081375, 'eval_accuracy_like': 0.8664713501930237, 'eval_openness_acc': 0.8621600270271301, 'eval_conscientiousness_acc': 0.8814976215362549, 'eval_extraversion_acc': 0.8619835376739502, 'eval_agreeableness_acc': 0.8733952045440674, 'eval_neuroticism_acc': 0.8533204197883606, 'eval_openness_mae': 0.13783998787403107, 'eval_conscientiousness_mae': 0.11850237101316452, 'eval_extraversion_mae': 0.13801643252372742, 'eval_agreeableness_mae': 0.12660476565361023, 'eval_neuroticism_mae': 0.1466795802116394, 'eval_runtime': 6.044, 'eval_samples_per_second': 187.128, 'eval_steps_per_second': 23.494, 'epoch': 84.0}\n"
     ]
    },
    {
     "name": "stderr",
     "output_type": "stream",
     "text": [
      " 85%|████████▌ | 192206/226100 [17:25:15<2:43:22,  3.46it/s] "
     ]
    },
    {
     "name": "stdout",
     "output_type": "stream",
     "text": [
      "{'loss': 0.003, 'grad_norm': 1.5075302124023438, 'learning_rate': 3.339623568725736e-05, 'epoch': 85.0}\n"
     ]
    },
    {
     "name": "stderr",
     "output_type": "stream",
     "text": [
      "                                                            \n",
      " 85%|████████▌ | 192206/226100 [17:25:20<2:43:22,  3.46it/s]"
     ]
    },
    {
     "name": "stdout",
     "output_type": "stream",
     "text": [
      "{'eval_loss': 0.029335079714655876, 'eval_mse': 0.029335077852010727, 'eval_mae': 0.13265803456306458, 'eval_accuracy_like': 0.8673419952392578, 'eval_openness_acc': 0.8606491088867188, 'eval_conscientiousness_acc': 0.8814931511878967, 'eval_extraversion_acc': 0.8662797212600708, 'eval_agreeableness_acc': 0.8734016418457031, 'eval_neuroticism_acc': 0.8548864126205444, 'eval_openness_mae': 0.13935086131095886, 'eval_conscientiousness_mae': 0.11850684881210327, 'eval_extraversion_mae': 0.1337202787399292, 'eval_agreeableness_mae': 0.12659837305545807, 'eval_neuroticism_mae': 0.14511355757713318, 'eval_runtime': 5.7624, 'eval_samples_per_second': 196.273, 'eval_steps_per_second': 24.643, 'epoch': 85.0}\n"
     ]
    },
    {
     "name": "stderr",
     "output_type": "stream",
     "text": [
      " 86%|████████▌ | 194467/226100 [17:37:44<3:19:12,  2.65it/s] "
     ]
    },
    {
     "name": "stdout",
     "output_type": "stream",
     "text": [
      "{'loss': 0.0029, 'grad_norm': 0.7297257781028748, 'learning_rate': 3.117401346503514e-05, 'epoch': 86.0}\n"
     ]
    },
    {
     "name": "stderr",
     "output_type": "stream",
     "text": [
      "                                                            \n",
      " 86%|████████▌ | 194467/226100 [17:37:50<3:19:12,  2.65it/s]"
     ]
    },
    {
     "name": "stdout",
     "output_type": "stream",
     "text": [
      "{'eval_loss': 0.02967795357108116, 'eval_mse': 0.02967795357108116, 'eval_mae': 0.13297604024410248, 'eval_accuracy_like': 0.8670239448547363, 'eval_openness_acc': 0.8619402050971985, 'eval_conscientiousness_acc': 0.8807475566864014, 'eval_extraversion_acc': 0.8657677173614502, 'eval_agreeableness_acc': 0.874224841594696, 'eval_neuroticism_acc': 0.8524398803710938, 'eval_openness_mae': 0.1380598098039627, 'eval_conscientiousness_mae': 0.11925244331359863, 'eval_extraversion_mae': 0.1342323124408722, 'eval_agreeableness_mae': 0.12577517330646515, 'eval_neuroticism_mae': 0.14756013453006744, 'eval_runtime': 6.0076, 'eval_samples_per_second': 188.261, 'eval_steps_per_second': 23.637, 'epoch': 86.0}\n"
     ]
    },
    {
     "name": "stderr",
     "output_type": "stream",
     "text": [
      " 87%|████████▋ | 196728/226100 [17:49:52<2:39:14,  3.07it/s] "
     ]
    },
    {
     "name": "stdout",
     "output_type": "stream",
     "text": [
      "{'loss': 0.0029, 'grad_norm': 2.248487949371338, 'learning_rate': 2.8951791242812916e-05, 'epoch': 87.0}\n"
     ]
    },
    {
     "name": "stderr",
     "output_type": "stream",
     "text": [
      "                                                            \n",
      " 87%|████████▋ | 196728/226100 [17:49:57<2:39:14,  3.07it/s]"
     ]
    },
    {
     "name": "stdout",
     "output_type": "stream",
     "text": [
      "{'eval_loss': 0.029194511473178864, 'eval_mse': 0.029194515198469162, 'eval_mae': 0.13238662481307983, 'eval_accuracy_like': 0.8676133751869202, 'eval_openness_acc': 0.8629481792449951, 'eval_conscientiousness_acc': 0.8825706839561462, 'eval_extraversion_acc': 0.8628769516944885, 'eval_agreeableness_acc': 0.8753678798675537, 'eval_neuroticism_acc': 0.8543034791946411, 'eval_openness_mae': 0.13705185055732727, 'eval_conscientiousness_mae': 0.11742929369211197, 'eval_extraversion_mae': 0.13712304830551147, 'eval_agreeableness_mae': 0.1246321052312851, 'eval_neuroticism_mae': 0.14569655060768127, 'eval_runtime': 5.8301, 'eval_samples_per_second': 193.992, 'eval_steps_per_second': 24.356, 'epoch': 87.0}\n"
     ]
    },
    {
     "name": "stderr",
     "output_type": "stream",
     "text": [
      " 88%|████████▊ | 198990/226100 [18:01:47<2:27:00,  3.07it/s] "
     ]
    },
    {
     "name": "stdout",
     "output_type": "stream",
     "text": [
      "{'loss': 0.0029, 'grad_norm': 0.39031651616096497, 'learning_rate': 2.673055186987076e-05, 'epoch': 88.0}\n"
     ]
    },
    {
     "name": "stderr",
     "output_type": "stream",
     "text": [
      "                                                            \n",
      " 88%|████████▊ | 198990/226100 [18:01:53<2:27:00,  3.07it/s]"
     ]
    },
    {
     "name": "stdout",
     "output_type": "stream",
     "text": [
      "{'eval_loss': 0.029118182137608528, 'eval_mse': 0.02911817841231823, 'eval_mae': 0.13196222484111786, 'eval_accuracy_like': 0.868037760257721, 'eval_openness_acc': 0.8611699938774109, 'eval_conscientiousness_acc': 0.8837044835090637, 'eval_extraversion_acc': 0.8657935857772827, 'eval_agreeableness_acc': 0.8738884329795837, 'eval_neuroticism_acc': 0.8556326031684875, 'eval_openness_mae': 0.13882999122142792, 'eval_conscientiousness_mae': 0.11629553139209747, 'eval_extraversion_mae': 0.1342063844203949, 'eval_agreeableness_mae': 0.12611156702041626, 'eval_neuroticism_mae': 0.14436741173267365, 'eval_runtime': 5.8962, 'eval_samples_per_second': 191.818, 'eval_steps_per_second': 24.083, 'epoch': 88.0}\n"
     ]
    },
    {
     "name": "stderr",
     "output_type": "stream",
     "text": [
      " 89%|████████▉ | 201251/226100 [18:14:20<2:10:23,  3.18it/s] "
     ]
    },
    {
     "name": "stdout",
     "output_type": "stream",
     "text": [
      "{'loss': 0.0028, 'grad_norm': 0.7964854836463928, 'learning_rate': 2.4509312496928598e-05, 'epoch': 89.0}\n"
     ]
    },
    {
     "name": "stderr",
     "output_type": "stream",
     "text": [
      "                                                            \n",
      " 89%|████████▉ | 201251/226100 [18:14:26<2:10:23,  3.18it/s]"
     ]
    },
    {
     "name": "stdout",
     "output_type": "stream",
     "text": [
      "{'eval_loss': 0.029566122218966484, 'eval_mse': 0.029566120356321335, 'eval_mae': 0.1328427493572235, 'eval_accuracy_like': 0.8671572208404541, 'eval_openness_acc': 0.8621862530708313, 'eval_conscientiousness_acc': 0.8822556138038635, 'eval_extraversion_acc': 0.8645804524421692, 'eval_agreeableness_acc': 0.8737953305244446, 'eval_neuroticism_acc': 0.8529688715934753, 'eval_openness_mae': 0.1378137469291687, 'eval_conscientiousness_mae': 0.11774437129497528, 'eval_extraversion_mae': 0.1354195475578308, 'eval_agreeableness_mae': 0.12620465457439423, 'eval_neuroticism_mae': 0.14703114330768585, 'eval_runtime': 5.9792, 'eval_samples_per_second': 189.155, 'eval_steps_per_second': 23.749, 'epoch': 89.0}\n"
     ]
    },
    {
     "name": "stderr",
     "output_type": "stream",
     "text": [
      " 90%|█████████ | 203512/226100 [18:27:08<2:12:43,  2.84it/s] "
     ]
    },
    {
     "name": "stdout",
     "output_type": "stream",
     "text": [
      "{'loss': 0.0028, 'grad_norm': 0.5574551224708557, 'learning_rate': 2.228807312398644e-05, 'epoch': 90.0}\n"
     ]
    },
    {
     "name": "stderr",
     "output_type": "stream",
     "text": [
      "                                                            \n",
      " 90%|█████████ | 203512/226100 [18:27:14<2:12:43,  2.84it/s]"
     ]
    },
    {
     "name": "stdout",
     "output_type": "stream",
     "text": [
      "{'eval_loss': 0.030055250972509384, 'eval_mse': 0.030055249109864235, 'eval_mae': 0.1338382512331009, 'eval_accuracy_like': 0.8661617636680603, 'eval_openness_acc': 0.8606071472167969, 'eval_conscientiousness_acc': 0.8818691968917847, 'eval_extraversion_acc': 0.8626701235771179, 'eval_agreeableness_acc': 0.8731027245521545, 'eval_neuroticism_acc': 0.8525598049163818, 'eval_openness_mae': 0.13939282298088074, 'eval_conscientiousness_mae': 0.11813079565763474, 'eval_extraversion_mae': 0.13732989132404327, 'eval_agreeableness_mae': 0.12689726054668427, 'eval_neuroticism_mae': 0.14744018018245697, 'eval_runtime': 5.8231, 'eval_samples_per_second': 194.226, 'eval_steps_per_second': 24.386, 'epoch': 90.0}\n"
     ]
    },
    {
     "name": "stderr",
     "output_type": "stream",
     "text": [
      " 91%|█████████ | 205773/226100 [18:39:08<1:38:48,  3.43it/s] "
     ]
    },
    {
     "name": "stdout",
     "output_type": "stream",
     "text": [
      "{'loss': 0.0028, 'grad_norm': 0.518631100654602, 'learning_rate': 2.006683375104428e-05, 'epoch': 91.0}\n"
     ]
    },
    {
     "name": "stderr",
     "output_type": "stream",
     "text": [
      "                                                            \n",
      " 91%|█████████ | 205773/226100 [18:39:13<1:38:48,  3.43it/s]"
     ]
    },
    {
     "name": "stdout",
     "output_type": "stream",
     "text": [
      "{'eval_loss': 0.029813062399625778, 'eval_mse': 0.029813062399625778, 'eval_mae': 0.1331748217344284, 'eval_accuracy_like': 0.8668251633644104, 'eval_openness_acc': 0.8619698882102966, 'eval_conscientiousness_acc': 0.8818649053573608, 'eval_extraversion_acc': 0.8636388778686523, 'eval_agreeableness_acc': 0.8736718893051147, 'eval_neuroticism_acc': 0.8529805541038513, 'eval_openness_mae': 0.13803009688854218, 'eval_conscientiousness_mae': 0.11813510954380035, 'eval_extraversion_mae': 0.13636112213134766, 'eval_agreeableness_mae': 0.12632811069488525, 'eval_neuroticism_mae': 0.1470194309949875, 'eval_runtime': 5.7205, 'eval_samples_per_second': 197.711, 'eval_steps_per_second': 24.823, 'epoch': 91.0}\n"
     ]
    },
    {
     "name": "stderr",
     "output_type": "stream",
     "text": [
      " 92%|█████████▏| 208035/226100 [18:50:19<1:25:50,  3.51it/s] "
     ]
    },
    {
     "name": "stdout",
     "output_type": "stream",
     "text": [
      "{'loss': 0.0028, 'grad_norm': 0.9639598727226257, 'learning_rate': 1.7844611528822054e-05, 'epoch': 92.0}\n"
     ]
    },
    {
     "name": "stderr",
     "output_type": "stream",
     "text": [
      "                                                            \n",
      " 92%|█████████▏| 208035/226100 [18:50:25<1:25:50,  3.51it/s]"
     ]
    },
    {
     "name": "stdout",
     "output_type": "stream",
     "text": [
      "{'eval_loss': 0.02932729385793209, 'eval_mse': 0.02932729572057724, 'eval_mae': 0.13248586654663086, 'eval_accuracy_like': 0.8675141334533691, 'eval_openness_acc': 0.8627808690071106, 'eval_conscientiousness_acc': 0.8830462098121643, 'eval_extraversion_acc': 0.8648380041122437, 'eval_agreeableness_acc': 0.8744778037071228, 'eval_neuroticism_acc': 0.8524280190467834, 'eval_openness_mae': 0.1372191160917282, 'eval_conscientiousness_mae': 0.11695380508899689, 'eval_extraversion_mae': 0.13516202569007874, 'eval_agreeableness_mae': 0.1255222111940384, 'eval_neuroticism_mae': 0.14757198095321655, 'eval_runtime': 5.9146, 'eval_samples_per_second': 191.22, 'eval_steps_per_second': 24.008, 'epoch': 92.0}\n"
     ]
    },
    {
     "name": "stderr",
     "output_type": "stream",
     "text": [
      " 93%|█████████▎| 210296/226100 [19:01:37<1:15:37,  3.48it/s] "
     ]
    },
    {
     "name": "stdout",
     "output_type": "stream",
     "text": [
      "{'loss': 0.0027, 'grad_norm': 1.8309320211410522, 'learning_rate': 1.5623372155879897e-05, 'epoch': 93.0}\n"
     ]
    },
    {
     "name": "stderr",
     "output_type": "stream",
     "text": [
      "                                                            \n",
      " 93%|█████████▎| 210296/226100 [19:01:42<1:15:37,  3.48it/s]"
     ]
    },
    {
     "name": "stdout",
     "output_type": "stream",
     "text": [
      "{'eval_loss': 0.029518652707338333, 'eval_mse': 0.029518652707338333, 'eval_mae': 0.1328381896018982, 'eval_accuracy_like': 0.8671618103981018, 'eval_openness_acc': 0.8623456954956055, 'eval_conscientiousness_acc': 0.8813973665237427, 'eval_extraversion_acc': 0.8639734983444214, 'eval_agreeableness_acc': 0.8739525675773621, 'eval_neuroticism_acc': 0.8541402816772461, 'eval_openness_mae': 0.13765433430671692, 'eval_conscientiousness_mae': 0.11860264092683792, 'eval_extraversion_mae': 0.13602647185325623, 'eval_agreeableness_mae': 0.12604744732379913, 'eval_neuroticism_mae': 0.1458597481250763, 'eval_runtime': 5.769, 'eval_samples_per_second': 196.046, 'eval_steps_per_second': 24.614, 'epoch': 93.0}\n"
     ]
    },
    {
     "name": "stderr",
     "output_type": "stream",
     "text": [
      " 94%|█████████▍| 212557/226100 [19:13:31<1:08:25,  3.30it/s]"
     ]
    },
    {
     "name": "stdout",
     "output_type": "stream",
     "text": [
      "{'loss': 0.0027, 'grad_norm': 0.3323182761669159, 'learning_rate': 1.3402132782937738e-05, 'epoch': 94.0}\n"
     ]
    },
    {
     "name": "stderr",
     "output_type": "stream",
     "text": [
      "                                                            \n",
      " 94%|█████████▍| 212557/226100 [19:13:37<1:08:25,  3.30it/s]"
     ]
    },
    {
     "name": "stdout",
     "output_type": "stream",
     "text": [
      "{'eval_loss': 0.02942158281803131, 'eval_mse': 0.029421579092741013, 'eval_mae': 0.1324343979358673, 'eval_accuracy_like': 0.8675656318664551, 'eval_openness_acc': 0.8622177839279175, 'eval_conscientiousness_acc': 0.8828410506248474, 'eval_extraversion_acc': 0.8655614852905273, 'eval_agreeableness_acc': 0.8731677532196045, 'eval_neuroticism_acc': 0.854040265083313, 'eval_openness_mae': 0.1377822309732437, 'eval_conscientiousness_mae': 0.11715894937515259, 'eval_extraversion_mae': 0.13443854451179504, 'eval_agreeableness_mae': 0.1268322616815567, 'eval_neuroticism_mae': 0.1459597647190094, 'eval_runtime': 5.9575, 'eval_samples_per_second': 189.844, 'eval_steps_per_second': 23.835, 'epoch': 94.0}\n"
     ]
    },
    {
     "name": "stderr",
     "output_type": "stream",
     "text": [
      " 95%|█████████▌| 214818/226100 [19:25:27<56:25,  3.33it/s]  "
     ]
    },
    {
     "name": "stdout",
     "output_type": "stream",
     "text": [
      "{'loss': 0.0027, 'grad_norm': 1.0151675939559937, 'learning_rate': 1.1180893409995579e-05, 'epoch': 95.0}\n"
     ]
    },
    {
     "name": "stderr",
     "output_type": "stream",
     "text": [
      "                                                          \n",
      " 95%|█████████▌| 214818/226100 [19:25:33<56:25,  3.33it/s]"
     ]
    },
    {
     "name": "stdout",
     "output_type": "stream",
     "text": [
      "{'eval_loss': 0.029528245329856873, 'eval_mse': 0.029528245329856873, 'eval_mae': 0.13289736211299896, 'eval_accuracy_like': 0.8671026229858398, 'eval_openness_acc': 0.8620284795761108, 'eval_conscientiousness_acc': 0.8814198970794678, 'eval_extraversion_acc': 0.8650428056716919, 'eval_agreeableness_acc': 0.8731188774108887, 'eval_neuroticism_acc': 0.8539034128189087, 'eval_openness_mae': 0.13797153532505035, 'eval_conscientiousness_mae': 0.11858009546995163, 'eval_extraversion_mae': 0.13495716452598572, 'eval_agreeableness_mae': 0.12688112258911133, 'eval_neuroticism_mae': 0.14609657227993011, 'eval_runtime': 5.891, 'eval_samples_per_second': 191.986, 'eval_steps_per_second': 24.104, 'epoch': 95.0}\n"
     ]
    },
    {
     "name": "stderr",
     "output_type": "stream",
     "text": [
      " 96%|█████████▌| 217080/226100 [19:37:26<44:39,  3.37it/s]  "
     ]
    },
    {
     "name": "stdout",
     "output_type": "stream",
     "text": [
      "{'loss': 0.0027, 'grad_norm': 0.8935673236846924, 'learning_rate': 8.959654037053418e-06, 'epoch': 96.0}\n"
     ]
    },
    {
     "name": "stderr",
     "output_type": "stream",
     "text": [
      "                                                          \n",
      " 96%|█████████▌| 217080/226100 [19:37:32<44:39,  3.37it/s]"
     ]
    },
    {
     "name": "stdout",
     "output_type": "stream",
     "text": [
      "{'eval_loss': 0.029519429430365562, 'eval_mse': 0.02951943129301071, 'eval_mae': 0.1326608955860138, 'eval_accuracy_like': 0.8673391342163086, 'eval_openness_acc': 0.8628823757171631, 'eval_conscientiousness_acc': 0.8820023536682129, 'eval_extraversion_acc': 0.8644773960113525, 'eval_agreeableness_acc': 0.874199628829956, 'eval_neuroticism_acc': 0.853134036064148, 'eval_openness_mae': 0.13711762428283691, 'eval_conscientiousness_mae': 0.1179976761341095, 'eval_extraversion_mae': 0.13552260398864746, 'eval_agreeableness_mae': 0.12580037117004395, 'eval_neuroticism_mae': 0.14686599373817444, 'eval_runtime': 5.9748, 'eval_samples_per_second': 189.293, 'eval_steps_per_second': 23.766, 'epoch': 96.0}\n"
     ]
    },
    {
     "name": "stderr",
     "output_type": "stream",
     "text": [
      " 97%|█████████▋| 219341/226100 [19:50:21<36:33,  3.08it/s]  "
     ]
    },
    {
     "name": "stdout",
     "output_type": "stream",
     "text": [
      "{'loss': 0.0026, 'grad_norm': 0.895561695098877, 'learning_rate': 6.738414664111259e-06, 'epoch': 97.0}\n"
     ]
    },
    {
     "name": "stderr",
     "output_type": "stream",
     "text": [
      "                                                          \n",
      " 97%|█████████▋| 219341/226100 [19:50:27<36:33,  3.08it/s]"
     ]
    },
    {
     "name": "stdout",
     "output_type": "stream",
     "text": [
      "{'eval_loss': 0.02957739122211933, 'eval_mse': 0.02957739122211933, 'eval_mae': 0.1329234391450882, 'eval_accuracy_like': 0.867076575756073, 'eval_openness_acc': 0.8623260855674744, 'eval_conscientiousness_acc': 0.881796658039093, 'eval_extraversion_acc': 0.8645530939102173, 'eval_agreeableness_acc': 0.8741260766983032, 'eval_neuroticism_acc': 0.8525811433792114, 'eval_openness_mae': 0.13767389953136444, 'eval_conscientiousness_mae': 0.11820331960916519, 'eval_extraversion_mae': 0.13544687628746033, 'eval_agreeableness_mae': 0.12587393820285797, 'eval_neuroticism_mae': 0.14741887152194977, 'eval_runtime': 6.0584, 'eval_samples_per_second': 186.684, 'eval_steps_per_second': 23.439, 'epoch': 97.0}\n"
     ]
    },
    {
     "name": "stderr",
     "output_type": "stream",
     "text": [
      " 98%|█████████▊| 221602/226100 [20:02:36<22:57,  3.26it/s]  "
     ]
    },
    {
     "name": "stdout",
     "output_type": "stream",
     "text": [
      "{'loss': 0.0026, 'grad_norm': 0.4044564664363861, 'learning_rate': 4.517175291169099e-06, 'epoch': 98.0}\n"
     ]
    },
    {
     "name": "stderr",
     "output_type": "stream",
     "text": [
      "                                                          \n",
      " 98%|█████████▊| 221602/226100 [20:02:42<22:57,  3.26it/s]"
     ]
    },
    {
     "name": "stdout",
     "output_type": "stream",
     "text": [
      "{'eval_loss': 0.029438568279147148, 'eval_mse': 0.029438572004437447, 'eval_mae': 0.13266324996948242, 'eval_accuracy_like': 0.8673367500305176, 'eval_openness_acc': 0.8622347116470337, 'eval_conscientiousness_acc': 0.8823266625404358, 'eval_extraversion_acc': 0.8638265132904053, 'eval_agreeableness_acc': 0.8744361996650696, 'eval_neuroticism_acc': 0.8538597822189331, 'eval_openness_mae': 0.1377653181552887, 'eval_conscientiousness_mae': 0.11767331510782242, 'eval_extraversion_mae': 0.13617345690727234, 'eval_agreeableness_mae': 0.12556378543376923, 'eval_neuroticism_mae': 0.1461402177810669, 'eval_runtime': 6.0463, 'eval_samples_per_second': 187.056, 'eval_steps_per_second': 23.485, 'epoch': 98.0}\n"
     ]
    },
    {
     "name": "stderr",
     "output_type": "stream",
     "text": [
      " 99%|█████████▉| 223863/226100 [20:15:08<13:24,  2.78it/s]  "
     ]
    },
    {
     "name": "stdout",
     "output_type": "stream",
     "text": [
      "{'loss': 0.0026, 'grad_norm': 0.961670458316803, 'learning_rate': 2.29593591822694e-06, 'epoch': 99.0}\n"
     ]
    },
    {
     "name": "stderr",
     "output_type": "stream",
     "text": [
      "                                                          \n",
      " 99%|█████████▉| 223863/226100 [20:15:14<13:24,  2.78it/s]"
     ]
    },
    {
     "name": "stdout",
     "output_type": "stream",
     "text": [
      "{'eval_loss': 0.02950769104063511, 'eval_mse': 0.02950769104063511, 'eval_mae': 0.13273830711841583, 'eval_accuracy_like': 0.8672617077827454, 'eval_openness_acc': 0.8623949289321899, 'eval_conscientiousness_acc': 0.8822515606880188, 'eval_extraversion_acc': 0.8641715049743652, 'eval_agreeableness_acc': 0.8742265105247498, 'eval_neuroticism_acc': 0.8532642126083374, 'eval_openness_mae': 0.13760507106781006, 'eval_conscientiousness_mae': 0.11774846166372299, 'eval_extraversion_mae': 0.13582850992679596, 'eval_agreeableness_mae': 0.12577347457408905, 'eval_neuroticism_mae': 0.1467357724905014, 'eval_runtime': 6.8111, 'eval_samples_per_second': 166.052, 'eval_steps_per_second': 20.848, 'epoch': 99.0}\n"
     ]
    },
    {
     "name": "stderr",
     "output_type": "stream",
     "text": [
      "100%|██████████| 226100/226100 [20:27:34<00:00,  2.78it/s]  "
     ]
    },
    {
     "name": "stdout",
     "output_type": "stream",
     "text": [
      "{'loss': 0.0026, 'grad_norm': 1.0482231378555298, 'learning_rate': 9.828492800629024e-08, 'epoch': 99.99}\n"
     ]
    },
    {
     "name": "stderr",
     "output_type": "stream",
     "text": [
      "                                                          \n",
      "100%|██████████| 226100/226100 [20:27:41<00:00,  3.07it/s]\n"
     ]
    },
    {
     "name": "stdout",
     "output_type": "stream",
     "text": [
      "{'eval_loss': 0.02950669266283512, 'eval_mse': 0.02950669638812542, 'eval_mae': 0.13268470764160156, 'eval_accuracy_like': 0.8673152923583984, 'eval_openness_acc': 0.8627369999885559, 'eval_conscientiousness_acc': 0.88225919008255, 'eval_extraversion_acc': 0.8641557097434998, 'eval_agreeableness_acc': 0.8741634488105774, 'eval_neuroticism_acc': 0.8532613515853882, 'eval_openness_mae': 0.1372630000114441, 'eval_conscientiousness_mae': 0.11774082481861115, 'eval_extraversion_mae': 0.13584430515766144, 'eval_agreeableness_mae': 0.1258365362882614, 'eval_neuroticism_mae': 0.1467386782169342, 'eval_runtime': 6.2784, 'eval_samples_per_second': 180.142, 'eval_steps_per_second': 22.617, 'epoch': 99.99}\n",
      "{'train_runtime': 73661.1116, 'train_samples_per_second': 12.279, 'train_steps_per_second': 3.069, 'train_loss': 0.008629677516071736, 'epoch': 99.99}\n",
      "학습 완료 및 모델 저장됨!\n",
      "테스트 데이터셋 평가...\n"
     ]
    },
    {
     "name": "stderr",
     "output_type": "stream",
     "text": [
      "100%|██████████| 142/142 [00:06<00:00, 22.66it/s]"
     ]
    },
    {
     "name": "stdout",
     "output_type": "stream",
     "text": [
      "테스트 전체 정확도(1-MAE): 0.8761\n",
      "\n",
      "각 OCEAN 차원별 정확도(1-MAE):\n",
      "개방성(Openness): 0.8716\n",
      "성실성(Conscientiousness): 0.8875\n",
      "외향성(Extraversion): 0.8717\n",
      "친화성(Agreeableness): 0.8813\n",
      "신경성(Neuroticism): 0.8683\n"
     ]
    },
    {
     "name": "stderr",
     "output_type": "stream",
     "text": [
      "\n"
     ]
    }
   ],
   "source": [
    "from peft import (\n",
    "    LoraConfig,\n",
    "    get_peft_model,\n",
    ")\n",
    "import numpy as np\n",
    "from transformers import  TrainingArguments, Trainer\n",
    "\n",
    "# 모델을 LoRA 적용 전에 학습 가능한 상태로 설정\n",
    "for param in model.classifier.parameters():\n",
    "    param.requires_grad = True\n",
    " \n",
    "lora_config = LoraConfig(\n",
    "    r=32,\n",
    "    target_modules=[\"query\", \"key\", \"value\", \"output.dense\"],\n",
    "    lora_dropout=0.05,\n",
    "    task_type=\"SEQ_CLS\", # 시퀀스 레벨 회귀도 처리함\n",
    "    bias=\"none\",\n",
    ")\n",
    "\n",
    "peft_model = get_peft_model(model, lora_config)\n",
    "\n",
    "print(f\"학습 가능한 파라미터: {peft_model.print_trainable_parameters()}\")\n",
    "\n",
    "# 학습 설정\n",
    "training_args = TrainingArguments(\n",
    "    output_dir=\"./outputs_ocean_regression\",\n",
    "    per_device_train_batch_size=1,\n",
    "    gradient_accumulation_steps=4,\n",
    "    warmup_ratio=0.1, \n",
    "    num_train_epochs=100,  \n",
    "    learning_rate=2e-4,\n",
    "    fp16=True,\n",
    "    logging_strategy=\"epoch\", \n",
    "    evaluation_strategy=\"epoch\",\n",
    "    save_strategy=\"epoch\", \n",
    "    save_total_limit=3,\n",
    "    load_best_model_at_end=True,\n",
    "    metric_for_best_model=\"accuracy_like\",\n",
    "    greater_is_better=True,\n",
    "    optim=\"adamw_torch\",\n",
    "    report_to=\"tensorboard\",\n",
    ")\n",
    "\n",
    "def compute_metrics(eval_pred):\n",
    "    predictions, labels = eval_pred\n",
    "    mse = np.mean((predictions - labels) ** 2)\n",
    "    mae = np.mean(np.abs(predictions - labels))\n",
    "    accuracy_like = 1 - mae\n",
    "    dimension_mae = np.mean(np.abs(predictions - labels), axis=0)\n",
    "    dimension_acc = 1 - dimension_mae\n",
    "    \n",
    "    return {\n",
    "        \"mse\": mse,\n",
    "        \"mae\": mae,\n",
    "        \"accuracy_like\": accuracy_like,\n",
    "        \"openness_acc\": dimension_acc[0],\n",
    "        \"conscientiousness_acc\": dimension_acc[1],\n",
    "        \"extraversion_acc\": dimension_acc[2], \n",
    "        \"agreeableness_acc\": dimension_acc[3], \n",
    "        \"neuroticism_acc\": dimension_acc[4],\n",
    "        \"openness_mae\": dimension_mae[0],\n",
    "        \"conscientiousness_mae\": dimension_mae[1],\n",
    "        \"extraversion_mae\": dimension_mae[2],\n",
    "        \"agreeableness_mae\": dimension_mae[3],\n",
    "        \"neuroticism_mae\": dimension_mae[4]\n",
    "    }\n",
    "\n",
    "# Trainer 초기화\n",
    "trainer = Trainer(\n",
    "    model=peft_model,\n",
    "    args=training_args,\n",
    "    train_dataset=train_dataset,\n",
    "    eval_dataset=eval_dataset,\n",
    "    compute_metrics=compute_metrics,\n",
    "    tokenizer=tokenizer,\n",
    ")\n",
    "\n",
    "# 학습 실행\n",
    "print(\"학습 시작...\")\n",
    "trainer.train()\n",
    "\n",
    "# 모델 저장\n",
    "trainer.save_model(\"./koRoBERT_OCEAN\")\n",
    "print(\"학습 완료 및 모델 저장됨!\")\n",
    "\n",
    "# 테스트 데이터셋 평가\n",
    "print(\"테스트 데이터셋 평가...\")\n",
    "test_results = trainer.evaluate(test_dataset)\n",
    "print(f\"테스트 전체 정확도(1-MAE): {test_results['eval_accuracy_like']:.4f}\")\n",
    "print(\"\\n각 OCEAN 차원별 정확도(1-MAE):\")\n",
    "print(f\"개방성(Openness): {test_results['eval_openness_acc']:.4f}\")\n",
    "print(f\"성실성(Conscientiousness): {test_results['eval_conscientiousness_acc']:.4f}\")\n",
    "print(f\"외향성(Extraversion): {test_results['eval_extraversion_acc']:.4f}\")\n",
    "print(f\"친화성(Agreeableness): {test_results['eval_agreeableness_acc']:.4f}\")\n",
    "print(f\"신경성(Neuroticism): {test_results['eval_neuroticism_acc']:.4f}\")"
   ]
  },
  {
   "cell_type": "markdown",
   "id": "20202288",
   "metadata": {},
   "source": [
    "## 추론"
   ]
  },
  {
   "cell_type": "code",
   "execution_count": 9,
   "id": "b5f99862",
   "metadata": {},
   "outputs": [
    {
     "name": "stdout",
     "output_type": "stream",
     "text": [
      "데이터셋 구조 확인 중...\n",
      "데이터셋 크기: 1131\n",
      "데이터셋 특성: {'input_ids': Sequence(feature=Value(dtype='int32', id=None), length=-1, id=None), 'token_type_ids': Sequence(feature=Value(dtype='int8', id=None), length=-1, id=None), 'attention_mask': Sequence(feature=Value(dtype='int8', id=None), length=-1, id=None), 'labels': Sequence(feature=Value(dtype='float64', id=None), length=-1, id=None)}\n",
      "\n",
      "첫 번째 샘플 구조:\n",
      "input_ids: 타입=<class 'list'>\n",
      "token_type_ids: 타입=<class 'list'>\n",
      "attention_mask: 타입=<class 'list'>\n",
      "labels: 타입=<class 'list'>\n",
      "\n",
      "테스트 데이터셋에서 OCEAN 점수 예측 중...\n"
     ]
    },
    {
     "name": "stderr",
     "output_type": "stream",
     "text": [
      "Predicting: 100%|██████████| 1131/1131 [00:36<00:00, 30.65it/s]"
     ]
    },
    {
     "name": "stdout",
     "output_type": "stream",
     "text": [
      "\n",
      "테스트 데이터셋 평가 결과:\n",
      "전체 MSE: 0.0224\n",
      "전체 MAE: 0.1239\n",
      "전체 정확도(1-MAE): 0.8761\n",
      "\n",
      "차원별 정확도(1-MAE):\n",
      "개방성(Openness): 0.8716\n",
      "성실성(Conscientiousness): 0.8875\n",
      "외향성(Extraversion): 0.8717\n",
      "친화성(Agreeableness): 0.8813\n",
      "신경성(Neuroticism): 0.8683\n",
      "\n",
      "샘플 예측 결과:\n",
      "\n",
      "샘플 #1\n",
      "예측 OCEAN 점수:\n",
      "  개방성(Openness): 0.6431 (실제: 0.5000, 오차: 0.1431)\n",
      "  성실성(Conscientiousness): 0.6587 (실제: 0.5625, 오차: 0.0962)\n",
      "  외향성(Extraversion): 0.6807 (실제: 0.6875, 오차: 0.0068)\n",
      "  친화성(Agreeableness): 0.5977 (실제: 0.5625, 오차: 0.0352)\n",
      "  신경성(Neuroticism): 0.4207 (실제: 0.2708, 오차: 0.1499)\n",
      "\n",
      "샘플 #2\n",
      "예측 OCEAN 점수:\n",
      "  개방성(Openness): 0.6216 (실제: 0.7500, 오차: 0.1284)\n",
      "  성실성(Conscientiousness): 0.6660 (실제: 0.5833, 오차: 0.0827)\n",
      "  외향성(Extraversion): 0.6758 (실제: 0.6667, 오차: 0.0091)\n",
      "  친화성(Agreeableness): 0.5972 (실제: 0.5208, 오차: 0.0764)\n",
      "  신경성(Neuroticism): 0.4175 (실제: 0.2917, 오차: 0.1258)\n",
      "\n",
      "샘플 #3\n",
      "예측 OCEAN 점수:\n",
      "  개방성(Openness): 0.5835 (실제: 0.3125, 오차: 0.2710)\n",
      "  성실성(Conscientiousness): 0.6235 (실제: 0.7500, 오차: 0.1265)\n",
      "  외향성(Extraversion): 0.6152 (실제: 0.5625, 오차: 0.0527)\n",
      "  친화성(Agreeableness): 0.6055 (실제: 0.3958, 오차: 0.2097)\n",
      "  신경성(Neuroticism): 0.4487 (실제: 0.3542, 오차: 0.0945)\n",
      "\n",
      "샘플 #4\n",
      "예측 OCEAN 점수:\n",
      "  개방성(Openness): 0.6230 (실제: 0.7292, 오차: 0.1062)\n",
      "  성실성(Conscientiousness): 0.6484 (실제: 0.7500, 오차: 0.1016)\n",
      "  외향성(Extraversion): 0.6890 (실제: 0.8542, 오차: 0.1652)\n",
      "  친화성(Agreeableness): 0.6011 (실제: 0.5208, 오차: 0.0803)\n",
      "  신경성(Neuroticism): 0.4209 (실제: 0.4792, 오차: 0.0583)\n",
      "\n",
      "샘플 #5\n",
      "예측 OCEAN 점수:\n",
      "  개방성(Openness): 0.5566 (실제: 0.3125, 오차: 0.2441)\n",
      "  성실성(Conscientiousness): 0.6558 (실제: 0.6042, 오차: 0.0516)\n",
      "  외향성(Extraversion): 0.6909 (실제: 0.5625, 오차: 0.1284)\n",
      "  친화성(Agreeableness): 0.5942 (실제: 0.5208, 오차: 0.0734)\n",
      "  신경성(Neuroticism): 0.3865 (실제: 0.3958, 오차: 0.0093)\n",
      "\n",
      "결과를 파일로 저장 중...\n",
      "평가 완료!\n"
     ]
    },
    {
     "name": "stderr",
     "output_type": "stream",
     "text": [
      "\n"
     ]
    }
   ],
   "source": [
    "# test_dataset을 이용한 OCEAN 점수 예측 및 평가 코드\n",
    "import torch\n",
    "import numpy as np\n",
    "from tqdm.auto import tqdm\n",
    "\n",
    "def inspect_dataset_structure(dataset):\n",
    "    \"\"\"\n",
    "    데이터셋의 구조를 검사하고 출력하는 함수\n",
    "    \n",
    "    Args:\n",
    "        dataset: 검사할 데이터셋\n",
    "    \"\"\"\n",
    "    print(\"데이터셋 크기:\", len(dataset))\n",
    "    print(\"데이터셋 특성:\", dataset.features)\n",
    "    \n",
    "    # 첫 번째 샘플 확인\n",
    "    first_sample = dataset[0]\n",
    "    print(\"\\n첫 번째 샘플 구조:\")\n",
    "    for key, value in first_sample.items():\n",
    "        if isinstance(value, (torch.Tensor, np.ndarray)):\n",
    "            print(f\"{key}: 타입={type(value)}, 형태={value.shape}\")\n",
    "        else:\n",
    "            print(f\"{key}: 타입={type(value)}\")\n",
    "    \n",
    "    return first_sample\n",
    "\n",
    "def predict_ocean_simple(dataset, model):\n",
    "    \"\"\"\n",
    "    간소화된 예측 함수 - 한 번에 전체 데이터셋을 처리하지 않고 샘플별로 처리\n",
    "    \n",
    "    Args:\n",
    "        dataset: 예측에 사용할 데이터셋\n",
    "        model: 학습된 모델\n",
    "        \n",
    "    Returns:\n",
    "        predictions: 모든 샘플의 예측 결과 (numpy 배열)\n",
    "        labels: 모든 샘플의 실제 레이블 (numpy 배열)\n",
    "    \"\"\"\n",
    "    # 결과 저장용 리스트 초기화\n",
    "    all_predictions = []\n",
    "    all_labels = []\n",
    "    \n",
    "    # 모델을 평가 모드로 설정\n",
    "    model.eval()\n",
    "    \n",
    "    # 데이터셋 샘플별로 처리\n",
    "    for i in tqdm(range(len(dataset)), desc=\"Predicting\"):\n",
    "        sample = dataset[i]\n",
    "        \n",
    "        # 입력 데이터 추출\n",
    "        # 데이터셋 구조에 따라 수정 필요할 수 있음\n",
    "        try:\n",
    "            # 데이터를 텐서로 변환하고 차원 추가\n",
    "            input_ids = torch.tensor(sample['input_ids']).unsqueeze(0)\n",
    "            attention_mask = torch.tensor(sample['attention_mask']).unsqueeze(0)\n",
    "            \n",
    "            # GPU 사용 가능한 경우 GPU로 이동\n",
    "            if torch.cuda.is_available():\n",
    "                input_ids = input_ids.to(\"cuda\")\n",
    "                attention_mask = attention_mask.to(\"cuda\")\n",
    "                \n",
    "            # 그래디언트 계산 없이 추론 수행\n",
    "            with torch.no_grad():\n",
    "                outputs = model(input_ids=input_ids, attention_mask=attention_mask)\n",
    "                \n",
    "            # 예측 결과 가져오기\n",
    "            predictions = outputs.logits.cpu().numpy()[0]  # 배치 차원 제거\n",
    "            all_predictions.append(predictions)\n",
    "            \n",
    "            # 레이블 가져오기\n",
    "            if 'labels' in sample:\n",
    "                all_labels.append(sample['labels'])\n",
    "                \n",
    "        except Exception as e:\n",
    "            print(f\"샘플 {i} 처리 중 오류 발생: {e}\")\n",
    "            print(f\"샘플 내용: {sample}\")\n",
    "            continue\n",
    "    \n",
    "    # 결과를 배열로 변환\n",
    "    all_predictions = np.array(all_predictions)\n",
    "    \n",
    "    # 레이블이 있는 경우에만 처리\n",
    "    if all_labels:\n",
    "        all_labels = np.array(all_labels)\n",
    "    else:\n",
    "        all_labels = None\n",
    "    \n",
    "    return all_predictions, all_labels\n",
    "\n",
    "def evaluate_predictions(predictions, labels):\n",
    "    \"\"\"\n",
    "    예측 결과를 평가하는 함수\n",
    "    \n",
    "    Args:\n",
    "        predictions: 모델의 예측값 (numpy 배열)\n",
    "        labels: 실제 레이블 (numpy 배열)\n",
    "        \n",
    "    Returns:\n",
    "        metrics: 다양한 평가 지표를 포함한 딕셔너리\n",
    "    \"\"\"\n",
    "    # 레이블이 없는 경우 평가 불가\n",
    "    if labels is None:\n",
    "        print(\"경고: 레이블이 없어 평가를 수행할 수 없습니다.\")\n",
    "        return None\n",
    "    \n",
    "    # 예측값을 0-1 범위로 클리핑\n",
    "    clipped_predictions = np.clip(predictions, 0.0, 1.0)\n",
    "    \n",
    "    # 전체 MSE, MAE 계산\n",
    "    mse = np.mean((clipped_predictions - labels) ** 2)\n",
    "    mae = np.mean(np.abs(clipped_predictions - labels))\n",
    "    accuracy_like = 1 - mae  # 1-MAE 계산 (정확도와 유사한 지표)\n",
    "    \n",
    "    # 각 OCEAN 차원별 지표 계산\n",
    "    dimension_mse = np.mean((clipped_predictions - labels) ** 2, axis=0)\n",
    "    dimension_mae = np.mean(np.abs(clipped_predictions - labels), axis=0)\n",
    "    dimension_acc = 1 - dimension_mae  # 차원별 1-MAE\n",
    "    \n",
    "    # OCEAN 차원 이름\n",
    "    dimensions = [\"개방성(Openness)\", \"성실성(Conscientiousness)\", \n",
    "                  \"외향성(Extraversion)\", \"친화성(Agreeableness)\", \n",
    "                  \"신경성(Neuroticism)\"]\n",
    "    \n",
    "    # 평가 지표 결과 저장\n",
    "    metrics = {\n",
    "        \"overall_mse\": mse,\n",
    "        \"overall_mae\": mae,\n",
    "        \"overall_accuracy\": accuracy_like,\n",
    "    }\n",
    "    \n",
    "    # 차원별 지표 추가\n",
    "    for i, dim in enumerate(dimensions):\n",
    "        metrics[f\"{dim}_mse\"] = dimension_mse[i]\n",
    "        metrics[f\"{dim}_mae\"] = dimension_mae[i]\n",
    "        metrics[f\"{dim}_accuracy\"] = dimension_acc[i]\n",
    "    \n",
    "    return metrics\n",
    "\n",
    "def display_sample_predictions(predictions, labels=None, num_samples=5):\n",
    "    \"\"\"\n",
    "    샘플 예측 결과를 표시하는 함수\n",
    "    \n",
    "    Args:\n",
    "        predictions: 모델의 예측값 (numpy 배열)\n",
    "        labels: 실제 레이블 (numpy 배열), 없을 수 있음\n",
    "        num_samples: 표시할 샘플 수\n",
    "    \"\"\"\n",
    "    # 표시할 샘플 수 결정 (데이터셋 크기보다 크지 않게)\n",
    "    num_samples = min(num_samples, len(predictions))\n",
    "    \n",
    "    # OCEAN 차원 이름\n",
    "    dimensions = [\"개방성(Openness)\", \"성실성(Conscientiousness)\", \n",
    "                  \"외향성(Extraversion)\", \"친화성(Agreeableness)\", \n",
    "                  \"신경성(Neuroticism)\"]\n",
    "    \n",
    "    # 지정된 샘플 수만큼 결과 표시\n",
    "    for i in range(num_samples):\n",
    "        print(f\"\\n샘플 #{i+1}\")\n",
    "        \n",
    "        # 예측 결과 표시\n",
    "        print(\"예측 OCEAN 점수:\")\n",
    "        for j, dim in enumerate(dimensions):\n",
    "            pred_score = np.clip(predictions[i][j], 0.0, 1.0)\n",
    "            if labels is not None:\n",
    "                true_score = labels[i][j]\n",
    "                diff = abs(pred_score - true_score)\n",
    "                print(f\"  {dim}: {pred_score:.4f} (실제: {true_score:.4f}, 오차: {diff:.4f})\")\n",
    "            else:\n",
    "                print(f\"  {dim}: {pred_score:.4f}\")\n",
    "\n",
    "# 메인 실행 코드\n",
    "def main():\n",
    "    \"\"\"\n",
    "    테스트 데이터셋을 이용한 OCEAN 점수 예측 및 평가를 실행하는 메인 함수\n",
    "    \"\"\"\n",
    "    # 먼저 데이터셋 구조 확인\n",
    "    print(\"데이터셋 구조 확인 중...\")\n",
    "    first_sample = inspect_dataset_structure(test_dataset)\n",
    "    \n",
    "    print(\"\\n테스트 데이터셋에서 OCEAN 점수 예측 중...\")\n",
    "    \n",
    "    try:\n",
    "        # 간소화된 샘플별 예측 방식 시도\n",
    "        predictions, labels = predict_ocean_simple(\n",
    "            test_dataset, \n",
    "            peft_model\n",
    "        )\n",
    "        \n",
    "        # 예측 결과 평가 (레이블이 있는 경우)\n",
    "        if labels is not None:\n",
    "            print(\"\\n테스트 데이터셋 평가 결과:\")\n",
    "            metrics = evaluate_predictions(predictions, labels)\n",
    "            \n",
    "            # 전체 성능 지표 출력\n",
    "            print(f\"전체 MSE: {metrics['overall_mse']:.4f}\")\n",
    "            print(f\"전체 MAE: {metrics['overall_mae']:.4f}\")\n",
    "            print(f\"전체 정확도(1-MAE): {metrics['overall_accuracy']:.4f}\")\n",
    "            \n",
    "            # 차원별 성능 지표 출력\n",
    "            print(\"\\n차원별 정확도(1-MAE):\")\n",
    "            dimensions = [\"개방성(Openness)\", \"성실성(Conscientiousness)\", \n",
    "                        \"외향성(Extraversion)\", \"친화성(Agreeableness)\", \n",
    "                        \"신경성(Neuroticism)\"]\n",
    "            \n",
    "            for dim in dimensions:\n",
    "                print(f\"{dim}: {metrics[f'{dim}_accuracy']:.4f}\")\n",
    "        \n",
    "        # 샘플 예측 결과 표시\n",
    "        print(\"\\n샘플 예측 결과:\")\n",
    "        display_sample_predictions(predictions, labels, num_samples=5)\n",
    "        \n",
    "        # 결과를 파일로 저장 (선택 사항)\n",
    "        print(\"\\n결과를 파일로 저장 중...\")\n",
    "        np.save(\"ocean_predictions.npy\", predictions)\n",
    "        if labels is not None:\n",
    "            np.save(\"ocean_labels.npy\", labels)\n",
    "        \n",
    "    except Exception as e:\n",
    "        print(f\"예측 중 오류 발생: {e}\")\n",
    "        import traceback\n",
    "        traceback.print_exc()\n",
    "    \n",
    "    print(\"평가 완료!\")\n",
    "\n",
    "# 스크립트가 직접 실행될 때만 main 함수 호출\n",
    "if __name__ == \"__main__\":\n",
    "    main()"
   ]
  }
 ],
 "metadata": {
  "kernelspec": {
   "display_name": "ocean",
   "language": "python",
   "name": "python3"
  },
  "language_info": {
   "codemirror_mode": {
    "name": "ipython",
    "version": 3
   },
   "file_extension": ".py",
   "mimetype": "text/x-python",
   "name": "python",
   "nbconvert_exporter": "python",
   "pygments_lexer": "ipython3",
   "version": "3.13.2"
  }
 },
 "nbformat": 4,
 "nbformat_minor": 5
}
