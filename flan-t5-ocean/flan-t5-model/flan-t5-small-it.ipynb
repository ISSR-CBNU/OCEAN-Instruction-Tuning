{
 "cells": [
  {
   "cell_type": "code",
   "execution_count": 31,
   "metadata": {},
   "outputs": [],
   "source": [
    "import pandas as pd\n",
    "\n",
    "\n",
    "df = pd.read_csv(\"/ssd_data/twk/instruction-tuning/dataset/KETI_nopreprocessed_labeled_dropdup+seperate_ver0.3.csv\")"
   ]
  },
  {
   "cell_type": "code",
   "execution_count": 2,
   "metadata": {},
   "outputs": [
    {
     "name": "stdout",
     "output_type": "stream",
     "text": [
      "(11307, 10)\n"
     ]
    }
   ],
   "source": [
    "# 데이터 크기 확인\n",
    "print(df.shape)"
   ]
  },
  {
   "cell_type": "code",
   "execution_count": 3,
   "metadata": {},
   "outputs": [
    {
     "name": "stdout",
     "output_type": "stream",
     "text": [
      "<class 'pandas.core.frame.DataFrame'>\n",
      "RangeIndex: 11307 entries, 0 to 11306\n",
      "Data columns (total 10 columns):\n",
      " #   Column         Non-Null Count  Dtype \n",
      "---  ------         --------------  ----- \n",
      " 0   Unnamed: 0     11307 non-null  int64 \n",
      " 1   id             11307 non-null  object\n",
      " 2   transcription  11307 non-null  object\n",
      " 3   file           11307 non-null  int64 \n",
      " 4   len            11307 non-null  int64 \n",
      " 5   OCEAN          11307 non-null  object\n",
      " 6   scenario       11307 non-null  object\n",
      " 7   seat           11307 non-null  object\n",
      " 8   speaker        11307 non-null  int64 \n",
      " 9   num_discourse  11307 non-null  int64 \n",
      "dtypes: int64(5), object(5)\n",
      "memory usage: 883.5+ KB\n",
      "None\n"
     ]
    }
   ],
   "source": [
    "# 데이터 정보 확인\n",
    "print(df.info())"
   ]
  },
  {
   "cell_type": "code",
   "execution_count": 4,
   "metadata": {},
   "outputs": [
    {
     "name": "stdout",
     "output_type": "stream",
     "text": [
      "   Unnamed: 0                            id                  transcription  \\\n",
      "0           0  ['BP', 'L04', '004', '0001']  저희가 지금 봐야 되는 게 설치 장소랑 뭘 팔지네요.   \n",
      "1           1  ['BP', 'L04', '004', '0002']            그러니까 계절이 10월이니까 쌀쌀한   \n",
      "2           2  ['BP', 'L01', '001', '0001']                          좀 쌀쌀한   \n",
      "3           3  ['BP', 'L04', '004', '0003']         날씨 그럼 뭐 각자 좀 생각을 해볼까요?   \n",
      "4           4  ['BP', 'L04', '004', '0004']      아니면 그냥 저희끼리 얘기를 하는 게 편하신지   \n",
      "\n",
      "   file  len                                              OCEAN scenario seat  \\\n",
      "0     0    9  [0.39583333333333337, 0.7708333333333333, 0.72...       BP  L04   \n",
      "1     0    4  [0.39583333333333337, 0.7708333333333333, 0.72...       BP  L04   \n",
      "2     0    2  [0.7708333333333333, 0.5416666666666666, 0.770...       BP  L01   \n",
      "3     0    7  [0.39583333333333337, 0.7708333333333333, 0.72...       BP  L04   \n",
      "4     0    7  [0.39583333333333337, 0.7708333333333333, 0.72...       BP  L04   \n",
      "\n",
      "   speaker  num_discourse  \n",
      "0        4              1  \n",
      "1        4              2  \n",
      "2        1              1  \n",
      "3        4              3  \n",
      "4        4              4  \n"
     ]
    }
   ],
   "source": [
    "# 데이터의 첫 몇 개 행 확인\n",
    "print(df.head())"
   ]
  },
  {
   "cell_type": "code",
   "execution_count": 5,
   "metadata": {},
   "outputs": [
    {
     "name": "stdout",
     "output_type": "stream",
     "text": [
      "Unnamed: 0       0\n",
      "id               0\n",
      "transcription    0\n",
      "file             0\n",
      "len              0\n",
      "OCEAN            0\n",
      "scenario         0\n",
      "seat             0\n",
      "speaker          0\n",
      "num_discourse    0\n",
      "dtype: int64\n",
      "         Unnamed: 0          file           len       speaker  num_discourse\n",
      "count  11307.000000  11307.000000  11307.000000  11307.000000   11307.000000\n",
      "mean    5653.000000     22.369594      6.997789     30.791191      43.455470\n",
      "std     3264.194081     13.510086      7.742363     18.447098      33.245178\n",
      "min        0.000000      0.000000      1.000000      1.000000       1.000000\n",
      "25%     2826.500000     10.000000      2.000000     13.000000      17.000000\n",
      "50%     5653.000000     23.000000      5.000000     32.000000      36.000000\n",
      "75%     8479.500000     34.000000      8.000000     47.000000      63.000000\n",
      "max    11306.000000     44.000000    116.000000     60.000000     194.000000\n"
     ]
    }
   ],
   "source": [
    "# 결측치 개수 확인\n",
    "print(df.isnull().sum())\n",
    "\n",
    "# 이상치 탐색 (예: 수치형 변수의 기술 통계 확인)\n",
    "print(df.describe())\n"
   ]
  },
  {
   "cell_type": "code",
   "execution_count": 32,
   "metadata": {},
   "outputs": [
    {
     "name": "stdout",
     "output_type": "stream",
     "text": [
      "scenario\n",
      "TP    4452\n",
      "GS    3460\n",
      "BP    3395\n",
      "Name: count, dtype: int64\n"
     ]
    }
   ],
   "source": [
    "print(df[\"scenario\"].value_counts())"
   ]
  },
  {
   "cell_type": "code",
   "execution_count": 6,
   "metadata": {},
   "outputs": [
    {
     "name": "stdout",
     "output_type": "stream",
     "text": [
      "                   transcription  \\\n",
      "0  저희가 지금 봐야 되는 게 설치 장소랑 뭘 팔지네요.   \n",
      "1            그러니까 계절이 10월이니까 쌀쌀한   \n",
      "2                          좀 쌀쌀한   \n",
      "3         날씨 그럼 뭐 각자 좀 생각을 해볼까요?   \n",
      "4      아니면 그냥 저희끼리 얘기를 하는 게 편하신지   \n",
      "\n",
      "                                               OCEAN  \n",
      "0  [0.39583333333333337, 0.7708333333333333, 0.72...  \n",
      "1  [0.39583333333333337, 0.7708333333333333, 0.72...  \n",
      "2  [0.7708333333333333, 0.5416666666666666, 0.770...  \n",
      "3  [0.39583333333333337, 0.7708333333333333, 0.72...  \n",
      "4  [0.39583333333333337, 0.7708333333333333, 0.72...  \n"
     ]
    }
   ],
   "source": [
    "df = df[['transcription', 'OCEAN']]\n",
    "print(df.head())"
   ]
  },
  {
   "cell_type": "code",
   "execution_count": 7,
   "metadata": {},
   "outputs": [],
   "source": [
    "import ast \n",
    "\n",
    "# OCEAN 컬럼을 리스트로 변환 후 소숫점 4자리로 반올림\n",
    "def round_ocean_values(ocean_string):\n",
    "    ocean_list = ast.literal_eval(ocean_string)  # 문자열을 리스트로 변환\n",
    "    return [round(value, 4) for value in ocean_list]  # 각 값을 소숫점 4자리로 반올림"
   ]
  },
  {
   "cell_type": "code",
   "execution_count": 8,
   "metadata": {},
   "outputs": [
    {
     "name": "stdout",
     "output_type": "stream",
     "text": [
      "                   transcription                                     OCEAN\n",
      "0  저희가 지금 봐야 되는 게 설치 장소랑 뭘 팔지네요.  [0.3958, 0.7708, 0.7292, 0.8333, 0.4375]\n",
      "1            그러니까 계절이 10월이니까 쌀쌀한  [0.3958, 0.7708, 0.7292, 0.8333, 0.4375]\n",
      "2                          좀 쌀쌀한  [0.7708, 0.5417, 0.7708, 0.8125, 0.3542]\n",
      "3         날씨 그럼 뭐 각자 좀 생각을 해볼까요?  [0.3958, 0.7708, 0.7292, 0.8333, 0.4375]\n",
      "4      아니면 그냥 저희끼리 얘기를 하는 게 편하신지  [0.3958, 0.7708, 0.7292, 0.8333, 0.4375]\n"
     ]
    }
   ],
   "source": [
    "# OCEAN 값 처리\n",
    "df['OCEAN'] = df['OCEAN'].apply(round_ocean_values)\n",
    "\n",
    "# 확인\n",
    "print(df[['transcription', 'OCEAN']].head())"
   ]
  },
  {
   "cell_type": "code",
   "execution_count": 9,
   "metadata": {},
   "outputs": [
    {
     "name": "stdout",
     "output_type": "stream",
     "text": [
      "                                          input_text  \\\n",
      "0  Instruction: 주어진 대화를 보고, 성격 5요인을 예측하세요. Transc...   \n",
      "1  Instruction: 주어진 대화를 보고, 성격 5요인을 예측하세요. Transc...   \n",
      "2  Instruction: 주어진 대화를 보고, 성격 5요인을 예측하세요. Transc...   \n",
      "3  Instruction: 주어진 대화를 보고, 성격 5요인을 예측하세요. Transc...   \n",
      "4  Instruction: 주어진 대화를 보고, 성격 5요인을 예측하세요. Transc...   \n",
      "\n",
      "                                      OCEAN  \n",
      "0  [0.3958, 0.7708, 0.7292, 0.8333, 0.4375]  \n",
      "1  [0.3958, 0.7708, 0.7292, 0.8333, 0.4375]  \n",
      "2  [0.7708, 0.5417, 0.7708, 0.8125, 0.3542]  \n",
      "3  [0.3958, 0.7708, 0.7292, 0.8333, 0.4375]  \n",
      "4  [0.3958, 0.7708, 0.7292, 0.8333, 0.4375]  \n"
     ]
    }
   ],
   "source": [
    "instruction = \"주어진 대화를 보고, 성격 5요인을 예측하세요.\"\n",
    "\n",
    "# Instruction + Transcription 결합\n",
    "df['input_text'] = df['transcription'].apply(lambda x: f\"Instruction: {instruction} Transcription: {x}\")\n",
    "\n",
    "# 필요 없는 컬럼 제거\n",
    "df = df[['input_text', 'OCEAN']]\n",
    "\n",
    "print(df.head())  # 데이터 확인"
   ]
  },
  {
   "cell_type": "code",
   "execution_count": 10,
   "metadata": {},
   "outputs": [
    {
     "name": "stderr",
     "output_type": "stream",
     "text": [
      "/home/user/anaconda3/envs/itune/lib/python3.13/site-packages/tqdm/auto.py:21: TqdmWarning: IProgress not found. Please update jupyter and ipywidgets. See https://ipywidgets.readthedocs.io/en/stable/user_install.html\n",
      "  from .autonotebook import tqdm as notebook_tqdm\n"
     ]
    },
    {
     "name": "stdout",
     "output_type": "stream",
     "text": [
      "DatasetDict({\n",
      "    train: Dataset({\n",
      "        features: ['input_text', 'OCEAN'],\n",
      "        num_rows: 9045\n",
      "    })\n",
      "    test: Dataset({\n",
      "        features: ['input_text', 'OCEAN'],\n",
      "        num_rows: 2262\n",
      "    })\n",
      "})\n"
     ]
    }
   ],
   "source": [
    "from datasets import Dataset\n",
    "\n",
    "# Hugging Face Dataset으로 변환\n",
    "dataset = Dataset.from_pandas(df)\n",
    "dataset = dataset.shuffle(seed=42)  # 데이터 섞기\n",
    "dataset = dataset.train_test_split(test_size=0.2)  # 80% 학습, 20% 검증\n",
    "\n",
    "# 데이터 확인\n",
    "print(dataset)"
   ]
  },
  {
   "cell_type": "code",
   "execution_count": 11,
   "metadata": {},
   "outputs": [
    {
     "name": "stderr",
     "output_type": "stream",
     "text": [
      "You are using the default legacy behaviour of the <class 'transformers.models.t5.tokenization_t5.T5Tokenizer'>. This is expected, and simply means that the `legacy` (previous) behavior will be used so nothing changes for you. If you want to use the new behaviour, set `legacy=False`. This should only be set if you understand what it means, and thoroughly read the reason why this was added as explained in https://github.com/huggingface/transformers/pull/24565\n"
     ]
    }
   ],
   "source": [
    "from transformers import T5Tokenizer, T5ForConditionalGeneration\n",
    "\n",
    "model_name = \"google/flan-t5-small\"\n",
    "\n",
    "# 토크나이저 및 모델 불러오기\n",
    "tokenizer = T5Tokenizer.from_pretrained(model_name)\n",
    "model = T5ForConditionalGeneration.from_pretrained(model_name)\n"
   ]
  },
  {
   "cell_type": "code",
   "execution_count": 12,
   "metadata": {},
   "outputs": [],
   "source": [
    "\n",
    "# 토크나이징 함수 정의\n",
    "def preprocess_data(examples):\n",
    "    inputs = tokenizer(examples[\"input_text\"], padding=\"max_length\", truncation=True, max_length=256)\n",
    "    \n",
    "    # OCEAN 값을 문자열로 변환하여 Target 생성\n",
    "    targets = [\" \".join(map(str, ocean)) for ocean in examples[\"OCEAN\"]]\n",
    "    labels = tokenizer(targets, padding=\"max_length\", truncation=True, max_length=20)\n",
    "    \n",
    "    # 반환할 딕셔너리 생성\n",
    "    inputs[\"labels\"] = labels[\"input_ids\"]\n",
    "    return inputs"
   ]
  },
  {
   "cell_type": "code",
   "execution_count": 13,
   "metadata": {},
   "outputs": [
    {
     "name": "stderr",
     "output_type": "stream",
     "text": [
      "Map: 100%|██████████| 9045/9045 [00:01<00:00, 8059.48 examples/s]\n",
      "Map: 100%|██████████| 2262/2262 [00:00<00:00, 7938.47 examples/s]"
     ]
    },
    {
     "name": "stdout",
     "output_type": "stream",
     "text": [
      "{'input_text': 'Instruction: 주어진 대화를 보고, 성격 5요인을 예측하세요. Transcription: 좀 너무', 'OCEAN': [0.7708, 0.5417, 0.7708, 0.8125, 0.3542], 'input_ids': [21035, 10, 3, 2, 3, 2, 3, 2, 6, 3, 2, 305, 2, 3, 2, 5, 3083, 29, 11830, 10, 3, 2, 3, 2, 1, 0, 0, 0, 0, 0, 0, 0, 0, 0, 0, 0, 0, 0, 0, 0, 0, 0, 0, 0, 0, 0, 0, 0, 0, 0, 0, 0, 0, 0, 0, 0, 0, 0, 0, 0, 0, 0, 0, 0, 0, 0, 0, 0, 0, 0, 0, 0, 0, 0, 0, 0, 0, 0, 0, 0, 0, 0, 0, 0, 0, 0, 0, 0, 0, 0, 0, 0, 0, 0, 0, 0, 0, 0, 0, 0, 0, 0, 0, 0, 0, 0, 0, 0, 0, 0, 0, 0, 0, 0, 0, 0, 0, 0, 0, 0, 0, 0, 0, 0, 0, 0, 0, 0, 0, 0, 0, 0, 0, 0, 0, 0, 0, 0, 0, 0, 0, 0, 0, 0, 0, 0, 0, 0, 0, 0, 0, 0, 0, 0, 0, 0, 0, 0, 0, 0, 0, 0, 0, 0, 0, 0, 0, 0, 0, 0, 0, 0, 0, 0, 0, 0, 0, 0, 0, 0, 0, 0, 0, 0, 0, 0, 0, 0, 0, 0, 0, 0, 0, 0, 0, 0, 0, 0, 0, 0, 0, 0, 0, 0, 0, 0, 0, 0, 0, 0, 0, 0, 0, 0, 0, 0, 0, 0, 0, 0, 0, 0, 0, 0, 0, 0, 0, 0, 0, 0, 0, 0, 0, 0, 0, 0, 0, 0, 0, 0, 0, 0, 0, 0, 0, 0, 0, 0, 0, 0, 0, 0, 0, 0, 0, 0], 'attention_mask': [1, 1, 1, 1, 1, 1, 1, 1, 1, 1, 1, 1, 1, 1, 1, 1, 1, 1, 1, 1, 1, 1, 1, 1, 1, 0, 0, 0, 0, 0, 0, 0, 0, 0, 0, 0, 0, 0, 0, 0, 0, 0, 0, 0, 0, 0, 0, 0, 0, 0, 0, 0, 0, 0, 0, 0, 0, 0, 0, 0, 0, 0, 0, 0, 0, 0, 0, 0, 0, 0, 0, 0, 0, 0, 0, 0, 0, 0, 0, 0, 0, 0, 0, 0, 0, 0, 0, 0, 0, 0, 0, 0, 0, 0, 0, 0, 0, 0, 0, 0, 0, 0, 0, 0, 0, 0, 0, 0, 0, 0, 0, 0, 0, 0, 0, 0, 0, 0, 0, 0, 0, 0, 0, 0, 0, 0, 0, 0, 0, 0, 0, 0, 0, 0, 0, 0, 0, 0, 0, 0, 0, 0, 0, 0, 0, 0, 0, 0, 0, 0, 0, 0, 0, 0, 0, 0, 0, 0, 0, 0, 0, 0, 0, 0, 0, 0, 0, 0, 0, 0, 0, 0, 0, 0, 0, 0, 0, 0, 0, 0, 0, 0, 0, 0, 0, 0, 0, 0, 0, 0, 0, 0, 0, 0, 0, 0, 0, 0, 0, 0, 0, 0, 0, 0, 0, 0, 0, 0, 0, 0, 0, 0, 0, 0, 0, 0, 0, 0, 0, 0, 0, 0, 0, 0, 0, 0, 0, 0, 0, 0, 0, 0, 0, 0, 0, 0, 0, 0, 0, 0, 0, 0, 0, 0, 0, 0, 0, 0, 0, 0, 0, 0, 0, 0, 0, 0], 'labels': [4097, 4013, 4018, 4097, 5062, 2517, 4097, 4013, 4018, 3, 22384, 10124, 4097, 2469, 4165, 1, 0, 0, 0, 0]}\n"
     ]
    },
    {
     "name": "stderr",
     "output_type": "stream",
     "text": [
      "\n"
     ]
    }
   ],
   "source": [
    "# 데이터셋 전처리 적용\n",
    "train_dataset = dataset[\"train\"].map(preprocess_data, batched=True)\n",
    "eval_dataset = dataset[\"test\"].map(preprocess_data, batched=True)\n",
    "\n",
    "# 학습용 데이터 확인\n",
    "print(train_dataset[0])"
   ]
  },
  {
   "cell_type": "code",
   "execution_count": null,
   "metadata": {},
   "outputs": [],
   "source": [
    "\n",
    "# 1-MAE 계산 함수\n",
    "def compute_metrics(p: EvalPrediction):\n",
    "    predictions, labels = p.predictions, p.label_ids\n",
    "    \n",
    "    # logits에서 가장 높은 확률을 가진 값 선택 (argmax)\n",
    "    pred_ids = np.argmax(predictions, axis=-1)  # 토큰 ID로 변환\n",
    "    \n",
    "    # 토큰 ID를 문자열로 변환\n",
    "    pred_texts = [tokenizer.decode(ids, skip_special_tokens=True) for ids in pred_ids]\n",
    "    \n",
    "    # 예측값을 float 리스트로 변환\n",
    "    all_predictions = []\n",
    "    for pred_text in pred_texts:\n",
    "        try:\n",
    "            all_predictions.append(float(pred_text))\n",
    "        except ValueError:\n",
    "            all_predictions.append(0.0)  # 변환 불가능한 경우 0으로 처리\n",
    "\n",
    "    # 실제값 (정답) 리스트 변환\n",
    "    all_labels = labels.flatten().tolist()\n",
    "\n",
    "    # MAE 계산\n",
    "    mae_score = mean_absolute_error(all_labels, all_predictions)\n",
    "\n",
    "    return {\"1-MAE\": 1 - mae_score}"
   ]
  },
  {
   "cell_type": "code",
   "execution_count": 15,
   "metadata": {},
   "outputs": [],
   "source": [
    "from sklearn.metrics import mean_absolute_error\n",
    "import numpy as np\n",
    "from transformers import EvalPrediction\n",
    "\n",
    "def compute_metrics(p: EvalPrediction):\n",
    "    predictions = p.predictions\n",
    "    label_ids = p.label_ids\n",
    "\n",
    "    # 디버깅을 위해 출력\n",
    "    print(\"Raw Predictions:\", tokenizer.decode(predictions[0], skip_special_tokens=True))\n",
    "    print(\"Label IDs:\", label_ids)\n",
    "\n",
    "    # 예측값을 디코딩\n",
    "    # for idx in range(len(predictions)):\n",
    "    #     prediction_str = tokenizer.decode(predictions[idx], skip_special_tokens=True)  # 수정: idx 사용\n",
    "    #     print(f\"Decoded Prediction {idx}:\", prediction_str)  # 디코딩된 값 확인"
   ]
  },
  {
   "cell_type": "code",
   "execution_count": 17,
   "metadata": {},
   "outputs": [
    {
     "name": "stderr",
     "output_type": "stream",
     "text": [
      "/home/user/anaconda3/envs/itune/lib/python3.13/site-packages/transformers/training_args.py:1594: FutureWarning: `evaluation_strategy` is deprecated and will be removed in version 4.46 of 🤗 Transformers. Use `eval_strategy` instead\n",
      "  warnings.warn(\n",
      "/tmp/ipykernel_3033574/2246070879.py:20: FutureWarning: `tokenizer` is deprecated and will be removed in version 5.0.0 for `Trainer.__init__`. Use `processing_class` instead.\n",
      "  trainer = Trainer(\n"
     ]
    },
    {
     "data": {
      "text/html": [
       "\n",
       "    <div>\n",
       "      \n",
       "      <progress value='33930' max='56550' style='width:300px; height:20px; vertical-align: middle;'></progress>\n",
       "      [33930/56550 39:32 < 26:21, 14.30 it/s, Epoch 30/50]\n",
       "    </div>\n",
       "    <table border=\"1\" class=\"dataframe\">\n",
       "  <thead>\n",
       " <tr style=\"text-align: left;\">\n",
       "      <th>Epoch</th>\n",
       "      <th>Training Loss</th>\n",
       "      <th>Validation Loss</th>\n",
       "    </tr>\n",
       "  </thead>\n",
       "  <tbody>\n",
       "    <tr>\n",
       "      <td>1</td>\n",
       "      <td>0.415300</td>\n",
       "      <td>0.250236</td>\n",
       "    </tr>\n",
       "    <tr>\n",
       "      <td>2</td>\n",
       "      <td>0.315100</td>\n",
       "      <td>0.214889</td>\n",
       "    </tr>\n",
       "    <tr>\n",
       "      <td>3</td>\n",
       "      <td>0.266600</td>\n",
       "      <td>0.204734</td>\n",
       "    </tr>\n",
       "    <tr>\n",
       "      <td>4</td>\n",
       "      <td>0.236000</td>\n",
       "      <td>0.202528</td>\n",
       "    </tr>\n",
       "    <tr>\n",
       "      <td>5</td>\n",
       "      <td>0.227500</td>\n",
       "      <td>0.200442</td>\n",
       "    </tr>\n",
       "    <tr>\n",
       "      <td>6</td>\n",
       "      <td>0.219500</td>\n",
       "      <td>0.199212</td>\n",
       "    </tr>\n",
       "    <tr>\n",
       "      <td>7</td>\n",
       "      <td>0.217000</td>\n",
       "      <td>0.198289</td>\n",
       "    </tr>\n",
       "    <tr>\n",
       "      <td>8</td>\n",
       "      <td>0.213100</td>\n",
       "      <td>0.196227</td>\n",
       "    </tr>\n",
       "    <tr>\n",
       "      <td>9</td>\n",
       "      <td>0.211100</td>\n",
       "      <td>0.196284</td>\n",
       "    </tr>\n",
       "    <tr>\n",
       "      <td>10</td>\n",
       "      <td>0.209500</td>\n",
       "      <td>0.196742</td>\n",
       "    </tr>\n",
       "    <tr>\n",
       "      <td>11</td>\n",
       "      <td>0.206900</td>\n",
       "      <td>0.195925</td>\n",
       "    </tr>\n",
       "    <tr>\n",
       "      <td>12</td>\n",
       "      <td>0.206700</td>\n",
       "      <td>0.195538</td>\n",
       "    </tr>\n",
       "    <tr>\n",
       "      <td>13</td>\n",
       "      <td>0.204500</td>\n",
       "      <td>0.195460</td>\n",
       "    </tr>\n",
       "    <tr>\n",
       "      <td>14</td>\n",
       "      <td>0.203100</td>\n",
       "      <td>0.194786</td>\n",
       "    </tr>\n",
       "    <tr>\n",
       "      <td>15</td>\n",
       "      <td>0.203200</td>\n",
       "      <td>0.194363</td>\n",
       "    </tr>\n",
       "    <tr>\n",
       "      <td>16</td>\n",
       "      <td>0.201500</td>\n",
       "      <td>0.194233</td>\n",
       "    </tr>\n",
       "    <tr>\n",
       "      <td>17</td>\n",
       "      <td>0.201100</td>\n",
       "      <td>0.193825</td>\n",
       "    </tr>\n",
       "    <tr>\n",
       "      <td>18</td>\n",
       "      <td>0.200900</td>\n",
       "      <td>0.194343</td>\n",
       "    </tr>\n",
       "    <tr>\n",
       "      <td>19</td>\n",
       "      <td>0.198900</td>\n",
       "      <td>0.193727</td>\n",
       "    </tr>\n",
       "    <tr>\n",
       "      <td>20</td>\n",
       "      <td>0.198100</td>\n",
       "      <td>0.194031</td>\n",
       "    </tr>\n",
       "    <tr>\n",
       "      <td>21</td>\n",
       "      <td>0.197900</td>\n",
       "      <td>0.193404</td>\n",
       "    </tr>\n",
       "    <tr>\n",
       "      <td>22</td>\n",
       "      <td>0.197600</td>\n",
       "      <td>0.194175</td>\n",
       "    </tr>\n",
       "    <tr>\n",
       "      <td>23</td>\n",
       "      <td>0.196800</td>\n",
       "      <td>0.193312</td>\n",
       "    </tr>\n",
       "    <tr>\n",
       "      <td>24</td>\n",
       "      <td>0.195800</td>\n",
       "      <td>0.193860</td>\n",
       "    </tr>\n",
       "    <tr>\n",
       "      <td>25</td>\n",
       "      <td>0.195200</td>\n",
       "      <td>0.193238</td>\n",
       "    </tr>\n",
       "    <tr>\n",
       "      <td>26</td>\n",
       "      <td>0.194100</td>\n",
       "      <td>0.193740</td>\n",
       "    </tr>\n",
       "    <tr>\n",
       "      <td>27</td>\n",
       "      <td>0.194900</td>\n",
       "      <td>0.193315</td>\n",
       "    </tr>\n",
       "    <tr>\n",
       "      <td>28</td>\n",
       "      <td>0.193500</td>\n",
       "      <td>0.193414</td>\n",
       "    </tr>\n",
       "    <tr>\n",
       "      <td>29</td>\n",
       "      <td>0.193300</td>\n",
       "      <td>0.193333</td>\n",
       "    </tr>\n",
       "    <tr>\n",
       "      <td>30</td>\n",
       "      <td>0.193100</td>\n",
       "      <td>0.193411</td>\n",
       "    </tr>\n",
       "  </tbody>\n",
       "</table><p>"
      ],
      "text/plain": [
       "<IPython.core.display.HTML object>"
      ]
     },
     "metadata": {},
     "output_type": "display_data"
    },
    {
     "name": "stderr",
     "output_type": "stream",
     "text": [
      "There were missing keys in the checkpoint model loaded: ['encoder.embed_tokens.weight', 'decoder.embed_tokens.weight'].\n"
     ]
    },
    {
     "data": {
      "text/plain": [
       "TrainOutput(global_step=33930, training_loss=0.21925246522309258, metrics={'train_runtime': 2373.0538, 'train_samples_per_second': 190.577, 'train_steps_per_second': 23.83, 'total_flos': 2.52206942257152e+16, 'train_loss': 0.21925246522309258, 'epoch': 30.0})"
      ]
     },
     "execution_count": 17,
     "metadata": {},
     "output_type": "execute_result"
    }
   ],
   "source": [
    "from transformers import TrainingArguments, Trainer, EarlyStoppingCallback\n",
    "\n",
    "# 학습 설정\n",
    "training_args = TrainingArguments(\n",
    "    output_dir=\"./model/flan-t5-small-1-mae/epoch50\",\n",
    "    evaluation_strategy=\"epoch\",\n",
    "    save_strategy=\"epoch\",\n",
    "    logging_dir=\"./logs\",\n",
    "    per_device_train_batch_size=8,\n",
    "    per_device_eval_batch_size=8,\n",
    "    num_train_epochs=50,\n",
    "    weight_decay=0.01,\n",
    "    save_total_limit=2,\n",
    "    load_best_model_at_end=True,\n",
    "    push_to_hub=False,\n",
    "    lr_scheduler_type=\"cosine\",  # 🔹 Cosine scheduler 사용\n",
    ")\n",
    "\n",
    "# Trainer 정의\n",
    "trainer = Trainer(\n",
    "    model=model,\n",
    "    args=training_args,\n",
    "    train_dataset=train_dataset,\n",
    "    eval_dataset=eval_dataset,\n",
    "    tokenizer=tokenizer,\n",
    "    callbacks=[EarlyStoppingCallback(early_stopping_patience=5)],\n",
    ")\n",
    "\n",
    "# 모델 학습 시작\n",
    "trainer.train()"
   ]
  },
  {
   "cell_type": "code",
   "execution_count": 18,
   "metadata": {},
   "outputs": [
    {
     "data": {
      "text/plain": [
       "('./flan-t5-small/epoch50/tokenizer_config.json',\n",
       " './flan-t5-small/epoch50/special_tokens_map.json',\n",
       " './flan-t5-small/epoch50/spiece.model',\n",
       " './flan-t5-small/epoch50/added_tokens.json')"
      ]
     },
     "execution_count": 18,
     "metadata": {},
     "output_type": "execute_result"
    }
   ],
   "source": [
    "model.save_pretrained(\"./flan-t5-small/epoch50\")\n",
    "tokenizer.save_pretrained(\"./flan-t5-small/epoch50\")"
   ]
  },
  {
   "cell_type": "code",
   "execution_count": null,
   "metadata": {},
   "outputs": [],
   "source": [
    "from transformers import T5Tokenizer, T5ForConditionalGeneration\n",
    "import torch\n",
    "# 모델 및 토크나이저 로드 (저장된 모델 경로)\n",
    "model_path = \"/home/user/twk/model_hubs/flan-t5-base/epoch50\"  # 저장된 모델의 경로를 지정\n",
    "tuned_model = T5ForConditionalGeneration.from_pretrained(model_path)\n",
    "tokenizer = T5Tokenizer.from_pretrained(model_path)\n",
    "\n",
    "device = torch.device(\"cuda\" if torch.cuda.is_available() else \"cpu\")"
   ]
  },
  {
   "cell_type": "code",
   "execution_count": 20,
   "metadata": {},
   "outputs": [
    {
     "name": "stderr",
     "output_type": "stream",
     "text": [
      "100%|██████████| 2262/2262 [04:31<00:00,  8.34it/s]"
     ]
    },
    {
     "name": "stdout",
     "output_type": "stream",
     "text": [
      "1-MAE: 0.8396271087533157\n"
     ]
    },
    {
     "name": "stderr",
     "output_type": "stream",
     "text": [
      "\n"
     ]
    }
   ],
   "source": [
    "from tqdm import tqdm\n",
    "from sklearn.metrics import mean_absolute_error\n",
    "from torch.utils.data import DataLoader\n",
    "import torch\n",
    "\n",
    "device = \"cuda\" if torch.cuda.is_available() else \"cpu\"\n",
    "\n",
    "model.to(device)\n",
    "\n",
    "# eval_dataset을 DataLoader로 감싸기\n",
    "eval_dataloader = DataLoader(eval_dataset, batch_size=1)  # batch_size는 적절히 설정\n",
    "\n",
    "# 모델을 평가 모드로 설정\n",
    "model.eval()\n",
    "\n",
    "# 예측값과 실제값 저장할 리스트 초기화\n",
    "all_predictions = []\n",
    "all_labels = []\n",
    "\n",
    "# 테스트 데이터에 대해 반복문 돌리기\n",
    "with torch.no_grad():  # 평가 시에는 기울기 계산을 하지 않음\n",
    "    for idx, batch in enumerate(tqdm(eval_dataloader)):\n",
    "        # 'input_text'를 'input_ids'와 'attention_mask'로 변환\n",
    "        input_text = batch['input_text']\n",
    "        labels = batch['OCEAN']\n",
    "        for label in labels:\n",
    "            all_labels.append(label.item())\n",
    "            # print(label.item())\n",
    "        inputs = tokenizer(input_text, return_tensors=\"pt\").to(device)    \n",
    "        # Generate prediction\n",
    "        outputs = model.generate(**inputs)\n",
    "        # Decode prediction\n",
    "        prediction_str = tokenizer.decode(outputs[0], skip_special_tokens=True)\n",
    "        # prediction_str을 공백으로 구분된 숫자들의 리스트로 변환하고 각 값을 float으로 변환\n",
    "        prediction_list = [float(x) for x in prediction_str.split()]\n",
    "        # 예측값을 리스트에 추가\n",
    "        all_predictions.extend(prediction_list)\n",
    "\n",
    "# MAE 계산\n",
    "mae_score = mean_absolute_error(all_labels, all_predictions)\n",
    "\n",
    "# 1-MAE 출력\n",
    "one_minus_mae = 1 - mae_score\n",
    "print(f\"1-MAE: {one_minus_mae}\")"
   ]
  },
  {
   "cell_type": "markdown",
   "metadata": {},
   "source": [
    "## OCEAN 예측"
   ]
  },
  {
   "cell_type": "code",
   "execution_count": 21,
   "metadata": {},
   "outputs": [],
   "source": [
    "import torch\n",
    "\n",
    "def predict_ocean(transcription, model):\n",
    "    input_text = f\"Instruction: 주어진 대화를 보고, 성격 5요인을 예측하세요. Transcription: {transcription}\"\n",
    "    \n",
    "    # Move model to the correct device (GPU if available, otherwise CPU)\n",
    "    device = \"cuda\" if torch.cuda.is_available() else \"cpu\"\n",
    "    model.to(device)\n",
    "    \n",
    "    # Tokenize input and move input tensors to the same device\n",
    "    inputs = tokenizer(input_text, return_tensors=\"pt\").to(device)\n",
    "\n",
    "    print(inputs)\n",
    "    \n",
    "    # Generate prediction\n",
    "    outputs = model.generate(**inputs)\n",
    "    \n",
    "    # Decode prediction\n",
    "    prediction = tokenizer.decode(outputs[0], skip_special_tokens=True)\n",
    "\n",
    "    return prediction"
   ]
  },
  {
   "cell_type": "code",
   "execution_count": 24,
   "metadata": {},
   "outputs": [
    {
     "name": "stdout",
     "output_type": "stream",
     "text": [
      "{'input_ids': tensor([[21035,    10,     3,     2,     3,     2,     3,     2,     6,     3,\n",
      "             2,   305,     2,     3,     2,     5,  3083,    29, 11830,    10,\n",
      "             3,     2,     3,     2,     3,     2,     3,     2,     1]],\n",
      "       device='cuda:0'), 'attention_mask': tensor([[1, 1, 1, 1, 1, 1, 1, 1, 1, 1, 1, 1, 1, 1, 1, 1, 1, 1, 1, 1, 1, 1, 1, 1,\n",
      "         1, 1, 1, 1, 1]], device='cuda:0')}\n",
      "Predicted OCEAN: 0.6458 0.5208 0.7917 0.6667 0.2292\n"
     ]
    }
   ],
   "source": [
    "# 예측 실행\n",
    "test_sentence = \"빨리 밥부터 먹고 일해야지\"\n",
    "predicted_ocean = predict_ocean(test_sentence, model)\n",
    "print(\"Predicted OCEAN:\", predicted_ocean)"
   ]
  },
  {
   "cell_type": "code",
   "execution_count": 25,
   "metadata": {},
   "outputs": [
    {
     "name": "stdout",
     "output_type": "stream",
     "text": [
      "{'input_ids': tensor([[21035,    10,     3,     2,     3,     2,     3,     2,     6,     3,\n",
      "             2,   305,     2,     3,     2,     5,  3083,    29, 11830,    10,\n",
      "             3,     2,     1]], device='cuda:0'), 'attention_mask': tensor([[1, 1, 1, 1, 1, 1, 1, 1, 1, 1, 1, 1, 1, 1, 1, 1, 1, 1, 1, 1, 1, 1, 1]],\n",
      "       device='cuda:0')}\n",
      "Predicted OCEAN: 0.6458 0.5 0.625 0.4583 0.6042\n"
     ]
    }
   ],
   "source": [
    "# 예측 실행\n",
    "test_sentence = \"안뇽\"\n",
    "predicted_ocean = predict_ocean(test_sentence, model)\n",
    "print(\"Predicted OCEAN:\", predicted_ocean)"
   ]
  },
  {
   "cell_type": "code",
   "execution_count": 26,
   "metadata": {},
   "outputs": [
    {
     "name": "stdout",
     "output_type": "stream",
     "text": [
      "{'input_ids': tensor([[21035,    10,     3,     2,     3,     2,     3,     2,     6,     3,\n",
      "             2,   305,     2,     3,     2,     5,  3083,    29, 11830,    10,\n",
      "             3,     2,     3,     2,     1]], device='cuda:0'), 'attention_mask': tensor([[1, 1, 1, 1, 1, 1, 1, 1, 1, 1, 1, 1, 1, 1, 1, 1, 1, 1, 1, 1, 1, 1, 1, 1,\n",
      "         1]], device='cuda:0')}\n",
      "Predicted OCEAN: 0.6458 0.5208 0.7917 0.6667 0.2292\n"
     ]
    }
   ],
   "source": [
    "# 예측 실행\n",
    "test_sentence = \"날씨 덥다\"\n",
    "predicted_ocean = predict_ocean(test_sentence, model)\n",
    "print(\"Predicted OCEAN:\", predicted_ocean)"
   ]
  },
  {
   "cell_type": "code",
   "execution_count": 27,
   "metadata": {},
   "outputs": [
    {
     "name": "stdout",
     "output_type": "stream",
     "text": [
      "{'input_ids': tensor([[21035,    10,     3,     2,     3,     2,     3,     2,     6,     3,\n",
      "             2,   305,     2,     3,     2,     5,  3083,    29, 11830,    10,\n",
      "             3,     2,     3,     2,     1]], device='cuda:0'), 'attention_mask': tensor([[1, 1, 1, 1, 1, 1, 1, 1, 1, 1, 1, 1, 1, 1, 1, 1, 1, 1, 1, 1, 1, 1, 1, 1,\n",
      "         1]], device='cuda:0')}\n",
      "Predicted OCEAN: 0.6458 0.5208 0.7917 0.6667 0.2292\n"
     ]
    }
   ],
   "source": [
    "# 예측 실행\n",
    "test_sentence = \"짜증나 죽겠어\"\n",
    "predicted_ocean = predict_ocean(test_sentence, model)\n",
    "print(\"Predicted OCEAN:\", predicted_ocean)"
   ]
  },
  {
   "cell_type": "code",
   "execution_count": 33,
   "metadata": {},
   "outputs": [
    {
     "name": "stdout",
     "output_type": "stream",
     "text": [
      "{'input_ids': tensor([[21035,    10,     3,     2,     3,     2,     3,     2,     6,     3,\n",
      "             2,   305,     2,     3,     2,     5,  3083,    29, 11830,    10,\n",
      "             3,     2,     3,     2,     3,     2,     3,     2,     3,     2,\n",
      "             3,     2,     3,     2,     3,     2,     3,     2,     3,     2,\n",
      "           335,     2,     3,     2,     3,     2,     3,     2,     3,     2,\n",
      "             3,     2,     3,     2,     3,     2,     3,     2,     3,     2,\n",
      "             3,     2,     3,     2,     3,     2,     3,     2,     3,     2,\n",
      "             3,     2,     3,     2,     3,     2,     3,     2,     3,     2,\n",
      "             3,     2,     3,     2,     3,     2,     3,     2,     3,     2,\n",
      "             3,     2,     3,     2,     3,     2,     3,     2,     3,     2,\n",
      "             3,     2,     3,     2,     3,     2,     3,     2,     3,     2,\n",
      "             3,     2,     3,     2,     3,     2,     1]], device='cuda:0'), 'attention_mask': tensor([[1, 1, 1, 1, 1, 1, 1, 1, 1, 1, 1, 1, 1, 1, 1, 1, 1, 1, 1, 1, 1, 1, 1, 1,\n",
      "         1, 1, 1, 1, 1, 1, 1, 1, 1, 1, 1, 1, 1, 1, 1, 1, 1, 1, 1, 1, 1, 1, 1, 1,\n",
      "         1, 1, 1, 1, 1, 1, 1, 1, 1, 1, 1, 1, 1, 1, 1, 1, 1, 1, 1, 1, 1, 1, 1, 1,\n",
      "         1, 1, 1, 1, 1, 1, 1, 1, 1, 1, 1, 1, 1, 1, 1, 1, 1, 1, 1, 1, 1, 1, 1, 1,\n",
      "         1, 1, 1, 1, 1, 1, 1, 1, 1, 1, 1, 1, 1, 1, 1, 1, 1, 1, 1, 1, 1]],\n",
      "       device='cuda:0')}\n",
      "Predicted OCEAN: 0.7708 0.7708 0.5833 0.6875 0.5833\n"
     ]
    }
   ],
   "source": [
    "# 예측 실행\n",
    "test_sentence = \"저부터 의견을 좀 드리자면 일단 뭐부터 팔지를 생각을 해보면 아무래도 10월달 계절이 있다 보니까 지금 보니까 뭐 지역 특산물 판매 부스도 따로 있고 음료수나 뭐 이런 저희가 알 만한 곳들은 다 파는 것 같은데 날씨가 좀 이게 저는 쌀쌀해지지 싶으면 붕어빵은 있는데 오뎅 같은 걸 파는 게 없더라고요\"\n",
    "predicted_ocean = predict_ocean(test_sentence, model)\n",
    "print(\"Predicted OCEAN:\", predicted_ocean)"
   ]
  },
  {
   "cell_type": "code",
   "execution_count": 34,
   "metadata": {},
   "outputs": [
    {
     "name": "stdout",
     "output_type": "stream",
     "text": [
      "{'input_ids': tensor([[21035,    10,     3,     2,     3,     2,     3,     2,     6,     3,\n",
      "             2,   305,     2,     3,     2,     5,  3083,    29, 11830,    10,\n",
      "             3,     2,     3,     2,     3,     2,     3,     2,     3,     2,\n",
      "             3,     2,     3,     2,     3,     2,     1]], device='cuda:0'), 'attention_mask': tensor([[1, 1, 1, 1, 1, 1, 1, 1, 1, 1, 1, 1, 1, 1, 1, 1, 1, 1, 1, 1, 1, 1, 1, 1,\n",
      "         1, 1, 1, 1, 1, 1, 1, 1, 1, 1, 1, 1, 1]], device='cuda:0')}\n",
      "Predicted OCEAN: 0.6458 0.6458 0.5208 0.7292 0.625\n"
     ]
    }
   ],
   "source": [
    "# 예측 실행\n",
    "test_sentence = \"붕어빵은 있는데 오뎅 같은 걸 파는 게 없어어요\"\n",
    "predicted_ocean = predict_ocean(test_sentence, model)\n",
    "print(\"Predicted OCEAN:\", predicted_ocean)"
   ]
  }
 ],
 "metadata": {
  "kernelspec": {
   "display_name": "itune",
   "language": "python",
   "name": "python3"
  },
  "language_info": {
   "codemirror_mode": {
    "name": "ipython",
    "version": 3
   },
   "file_extension": ".py",
   "mimetype": "text/x-python",
   "name": "python",
   "nbconvert_exporter": "python",
   "pygments_lexer": "ipython3",
   "version": "3.13.2"
  }
 },
 "nbformat": 4,
 "nbformat_minor": 2
}
