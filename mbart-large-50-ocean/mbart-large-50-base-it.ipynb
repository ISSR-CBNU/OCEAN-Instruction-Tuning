{
 "cells": [
  {
   "cell_type": "markdown",
   "metadata": {},
   "source": [
    "### 최신 버전"
   ]
  },
  {
   "cell_type": "code",
   "execution_count": null,
   "metadata": {},
   "outputs": [],
   "source": [
    "import os\n",
    "import logging\n",
    "os.environ[\"CUDA_VISIBLE_DEVICES\"] = \"2\"  # only use GPU 2\n",
    "logger = logging.getLogger(__name__)\n",
    "logger.setLevel(logging.DEBUG)\n",
    "formatter = logging.Formatter('[%(asctime)s]::%(module)s::%(levelname)s::%(message)s')\n",
    "streamHandler = logging.StreamHandler()\n",
    "streamHandler.setFormatter(formatter)\n",
    "fileHandler = logging.FileHandler('./LOG/basein-tuning.log')\n",
    "fileHandler.setFormatter(formatter)\n",
    "logger.addHandler(streamHandler)\n",
    "logger.addHandler(fileHandler)"
   ]
  },
  {
   "cell_type": "code",
   "execution_count": 2,
   "metadata": {},
   "outputs": [
    {
     "name": "stderr",
     "output_type": "stream",
     "text": [
      "[2025-03-30 01:35:14,413]::3848060699::DEBUG::=============Mbart-large-50 instruction tuning Strat!=============\n"
     ]
    }
   ],
   "source": [
    "import pandas as pd\n",
    "logger.debug('=============Mbart-large-50 instruction tuning Strat!=============')\n",
    "\n",
    "df = pd.read_csv(\"/home/oem/qx/in_tuning/KETI_nopreprocessed_labeled_dropdup+seperate_ver0.3.csv\")"
   ]
  },
  {
   "cell_type": "code",
   "execution_count": 3,
   "metadata": {},
   "outputs": [
    {
     "name": "stdout",
     "output_type": "stream",
     "text": [
      "(11307, 10)\n"
     ]
    }
   ],
   "source": [
    "# 데이터 크기 확인\n",
    "print(df.shape)"
   ]
  },
  {
   "cell_type": "code",
   "execution_count": 5,
   "metadata": {},
   "outputs": [
    {
     "name": "stdout",
     "output_type": "stream",
     "text": [
      "   Unnamed: 0                            id                  transcription  \\\n",
      "0           0  ['BP', 'L04', '004', '0001']  저희가 지금 봐야 되는 게 설치 장소랑 뭘 팔지네요.   \n",
      "1           1  ['BP', 'L04', '004', '0002']            그러니까 계절이 10월이니까 쌀쌀한   \n",
      "2           2  ['BP', 'L01', '001', '0001']                          좀 쌀쌀한   \n",
      "3           3  ['BP', 'L04', '004', '0003']         날씨 그럼 뭐 각자 좀 생각을 해볼까요?   \n",
      "4           4  ['BP', 'L04', '004', '0004']      아니면 그냥 저희끼리 얘기를 하는 게 편하신지   \n",
      "\n",
      "   file  len                                              OCEAN scenario seat  \\\n",
      "0     0    9  [0.39583333333333337, 0.7708333333333333, 0.72...       BP  L04   \n",
      "1     0    4  [0.39583333333333337, 0.7708333333333333, 0.72...       BP  L04   \n",
      "2     0    2  [0.7708333333333333, 0.5416666666666666, 0.770...       BP  L01   \n",
      "3     0    7  [0.39583333333333337, 0.7708333333333333, 0.72...       BP  L04   \n",
      "4     0    7  [0.39583333333333337, 0.7708333333333333, 0.72...       BP  L04   \n",
      "\n",
      "   speaker  num_discourse  \n",
      "0        4              1  \n",
      "1        4              2  \n",
      "2        1              1  \n",
      "3        4              3  \n",
      "4        4              4  \n"
     ]
    }
   ],
   "source": [
    "# 데이터의 첫 몇 개 행 확인\n",
    "print(df.head())"
   ]
  },
  {
   "cell_type": "code",
   "execution_count": 6,
   "metadata": {},
   "outputs": [
    {
     "name": "stdout",
     "output_type": "stream",
     "text": [
      "Unnamed: 0       0\n",
      "id               0\n",
      "transcription    0\n",
      "file             0\n",
      "len              0\n",
      "OCEAN            0\n",
      "scenario         0\n",
      "seat             0\n",
      "speaker          0\n",
      "num_discourse    0\n",
      "dtype: int64\n",
      "         Unnamed: 0          file           len       speaker  num_discourse\n",
      "count  11307.000000  11307.000000  11307.000000  11307.000000   11307.000000\n",
      "mean    5653.000000     22.369594      6.997789     30.791191      43.455470\n",
      "std     3264.194081     13.510086      7.742363     18.447098      33.245178\n",
      "min        0.000000      0.000000      1.000000      1.000000       1.000000\n",
      "25%     2826.500000     10.000000      2.000000     13.000000      17.000000\n",
      "50%     5653.000000     23.000000      5.000000     32.000000      36.000000\n",
      "75%     8479.500000     34.000000      8.000000     47.000000      63.000000\n",
      "max    11306.000000     44.000000    116.000000     60.000000     194.000000\n"
     ]
    }
   ],
   "source": [
    "# 결측치 개수 확인\n",
    "print(df.isnull().sum())\n",
    "\n",
    "# 이상치 탐색 (예: 수치형 변수의 기술 통계 확인)\n",
    "print(df.describe())"
   ]
  },
  {
   "cell_type": "code",
   "execution_count": 7,
   "metadata": {},
   "outputs": [
    {
     "name": "stdout",
     "output_type": "stream",
     "text": [
      "                   transcription  \\\n",
      "0  저희가 지금 봐야 되는 게 설치 장소랑 뭘 팔지네요.   \n",
      "1            그러니까 계절이 10월이니까 쌀쌀한   \n",
      "2                          좀 쌀쌀한   \n",
      "3         날씨 그럼 뭐 각자 좀 생각을 해볼까요?   \n",
      "4      아니면 그냥 저희끼리 얘기를 하는 게 편하신지   \n",
      "\n",
      "                                               OCEAN  \n",
      "0  [0.39583333333333337, 0.7708333333333333, 0.72...  \n",
      "1  [0.39583333333333337, 0.7708333333333333, 0.72...  \n",
      "2  [0.7708333333333333, 0.5416666666666666, 0.770...  \n",
      "3  [0.39583333333333337, 0.7708333333333333, 0.72...  \n",
      "4  [0.39583333333333337, 0.7708333333333333, 0.72...  \n"
     ]
    }
   ],
   "source": [
    "df = df[['transcription', 'OCEAN']]\n",
    "print(df.head())"
   ]
  },
  {
   "cell_type": "code",
   "execution_count": 8,
   "metadata": {},
   "outputs": [],
   "source": [
    "import ast \n",
    "\n",
    "# OCEAN 컬럼을 리스트로 변환 후 소숫점 4자리로 반올림\n",
    "def round_ocean_values(ocean_string):\n",
    "    ocean_list = ast.literal_eval(ocean_string)  # 문자열을 리스트로 변환\n",
    "    return [round(value, 4) for value in ocean_list]  # 각 값을 소숫점 4자리로 반올림"
   ]
  },
  {
   "cell_type": "code",
   "execution_count": 9,
   "metadata": {},
   "outputs": [
    {
     "name": "stdout",
     "output_type": "stream",
     "text": [
      "                   transcription                                     OCEAN\n",
      "0  저희가 지금 봐야 되는 게 설치 장소랑 뭘 팔지네요.  [0.3958, 0.7708, 0.7292, 0.8333, 0.4375]\n",
      "1            그러니까 계절이 10월이니까 쌀쌀한  [0.3958, 0.7708, 0.7292, 0.8333, 0.4375]\n",
      "2                          좀 쌀쌀한  [0.7708, 0.5417, 0.7708, 0.8125, 0.3542]\n",
      "3         날씨 그럼 뭐 각자 좀 생각을 해볼까요?  [0.3958, 0.7708, 0.7292, 0.8333, 0.4375]\n",
      "4      아니면 그냥 저희끼리 얘기를 하는 게 편하신지  [0.3958, 0.7708, 0.7292, 0.8333, 0.4375]\n"
     ]
    }
   ],
   "source": [
    "# OCEAN 값 처리\n",
    "df['OCEAN'] = df['OCEAN'].apply(round_ocean_values)\n",
    "\n",
    "# 확인\n",
    "print(df[['transcription', 'OCEAN']].head())"
   ]
  },
  {
   "cell_type": "code",
   "execution_count": 10,
   "metadata": {},
   "outputs": [
    {
     "name": "stdout",
     "output_type": "stream",
     "text": [
      "                                          input_text  \\\n",
      "0  ### Instruction:\\n주어진 대화를 보고, 성격 5요인을 예측하세요.\\n...   \n",
      "1  ### Instruction:\\n주어진 대화를 보고, 성격 5요인을 예측하세요.\\n...   \n",
      "2  ### Instruction:\\n주어진 대화를 보고, 성격 5요인을 예측하세요.\\n...   \n",
      "3  ### Instruction:\\n주어진 대화를 보고, 성격 5요인을 예측하세요.\\n...   \n",
      "4  ### Instruction:\\n주어진 대화를 보고, 성격 5요인을 예측하세요.\\n...   \n",
      "\n",
      "                                      OCEAN  \n",
      "0  [0.3958, 0.7708, 0.7292, 0.8333, 0.4375]  \n",
      "1  [0.3958, 0.7708, 0.7292, 0.8333, 0.4375]  \n",
      "2  [0.7708, 0.5417, 0.7708, 0.8125, 0.3542]  \n",
      "3  [0.3958, 0.7708, 0.7292, 0.8333, 0.4375]  \n",
      "4  [0.3958, 0.7708, 0.7292, 0.8333, 0.4375]  \n"
     ]
    }
   ],
   "source": [
    "import torch\n",
    "instruction = \"주어진 대화를 보고, 성격 5요인을 예측하세요.\"\n",
    "\n",
    "# Instruction + Transcription 결합\n",
    "df['input_text'] = df['transcription'].apply(\n",
    "    lambda x: f\"### Instruction:\\n{instruction}\\n\\n### Input:\\n{x}\\n\\n### Response:\"\n",
    ")\n",
    "\n",
    "# 필요 없는 컬럼 제거\n",
    "df = df[['input_text', 'OCEAN']]\n",
    "# print(type(df))  # 데이터 확인\n",
    "# df['OCEAN'] = torch.tensor(df[\"OCEAN\"].tolist(), dtype=torch.float32)\n",
    "print(df.head())  # 데이터 확인"
   ]
  },
  {
   "cell_type": "code",
   "execution_count": 11,
   "metadata": {},
   "outputs": [
    {
     "name": "stdout",
     "output_type": "stream",
     "text": [
      "DatasetDict({\n",
      "    train: Dataset({\n",
      "        features: ['input_text', 'OCEAN'],\n",
      "        num_rows: 9045\n",
      "    })\n",
      "    test: Dataset({\n",
      "        features: ['input_text', 'OCEAN'],\n",
      "        num_rows: 2262\n",
      "    })\n",
      "})\n"
     ]
    }
   ],
   "source": [
    "from datasets import Dataset\n",
    "\n",
    "# Hugging Face Dataset으로 변환\n",
    "dataset = Dataset.from_pandas(df)\n",
    "dataset = dataset.shuffle(seed=42)  # 데이터 섞기\n",
    "dataset = dataset.train_test_split(test_size=0.2)  # 80% 학습, 20% 검증\n",
    "\n",
    "# 데이터 확인\n",
    "print(dataset)"
   ]
  },
  {
   "cell_type": "code",
   "execution_count": 12,
   "metadata": {},
   "outputs": [
    {
     "name": "stderr",
     "output_type": "stream",
     "text": [
      "2025-03-30 01:35:18.633932: I tensorflow/core/util/port.cc:153] oneDNN custom operations are on. You may see slightly different numerical results due to floating-point round-off errors from different computation orders. To turn them off, set the environment variable `TF_ENABLE_ONEDNN_OPTS=0`.\n",
      "2025-03-30 01:35:18.637817: I external/local_xla/xla/tsl/cuda/cudart_stub.cc:32] Could not find cuda drivers on your machine, GPU will not be used.\n",
      "2025-03-30 01:35:18.645285: E external/local_xla/xla/stream_executor/cuda/cuda_fft.cc:467] Unable to register cuFFT factory: Attempting to register factory for plugin cuFFT when one has already been registered\n",
      "WARNING: All log messages before absl::InitializeLog() is called are written to STDERR\n",
      "E0000 00:00:1743266118.657692 2983806 cuda_dnn.cc:8579] Unable to register cuDNN factory: Attempting to register factory for plugin cuDNN when one has already been registered\n",
      "E0000 00:00:1743266118.661429 2983806 cuda_blas.cc:1407] Unable to register cuBLAS factory: Attempting to register factory for plugin cuBLAS when one has already been registered\n",
      "W0000 00:00:1743266118.671424 2983806 computation_placer.cc:177] computation placer already registered. Please check linkage and avoid linking the same target more than once.\n",
      "W0000 00:00:1743266118.671435 2983806 computation_placer.cc:177] computation placer already registered. Please check linkage and avoid linking the same target more than once.\n",
      "W0000 00:00:1743266118.671437 2983806 computation_placer.cc:177] computation placer already registered. Please check linkage and avoid linking the same target more than once.\n",
      "W0000 00:00:1743266118.671438 2983806 computation_placer.cc:177] computation placer already registered. Please check linkage and avoid linking the same target more than once.\n",
      "2025-03-30 01:35:18.675196: I tensorflow/core/platform/cpu_feature_guard.cc:210] This TensorFlow binary is optimized to use available CPU instructions in performance-critical operations.\n",
      "To enable the following instructions: AVX2 AVX512F AVX512_VNNI FMA, in other operations, rebuild TensorFlow with the appropriate compiler flags.\n"
     ]
    }
   ],
   "source": [
    "from transformers import AutoModelForSeq2SeqLM, AutoTokenizer\n",
    "\n",
    "# 选择一个 Seq2Seq 的 XLM-R 类似模型（XLM-R 本身没有 Seq2Seq 版本）\n",
    "model_name = \"/home/oem/qx/test_string_and_float/best_model\"\n",
    "tokenizer = AutoTokenizer.from_pretrained(model_name)\n",
    "model = AutoModelForSeq2SeqLM.from_pretrained(model_name).to(\"cuda\")\n",
    "tokenizer.src_lang = \"ko_KR\"\n",
    "tokenizer.tgt_lang = \"ko_KR\""
   ]
  },
  {
   "cell_type": "code",
   "execution_count": null,
   "metadata": {},
   "outputs": [],
   "source": [
    "import torch\n",
    "# 토크나이징 함수 정의\n",
    "def preprocess_data(examples):\n",
    "    inputs = tokenizer(examples[\"input_text\"], padding=\"max_length\", truncation=True, max_length=256)\n",
    "    # OCEAN 값을 문자열로 변환하여 Target 생성\n",
    "    targets = [\" \".join(map(str, ocean)) for ocean in examples[\"OCEAN\"]]\n",
    "    labels = tokenizer(targets, padding=\"max_length\", truncation=True, max_length=256)\n",
    "    \n",
    "    # 반환할 딕셔너리 생성input_ids,attention_mask\n",
    "    inputs[\"labels\"] = labels[\"input_ids\"]\n",
    "  \n",
    "    return inputs"
   ]
  },
  {
   "cell_type": "code",
   "execution_count": 14,
   "metadata": {},
   "outputs": [
    {
     "data": {
      "application/vnd.jupyter.widget-view+json": {
       "model_id": "35dcb65c60df4037a0df752e3f146d50",
       "version_major": 2,
       "version_minor": 0
      },
      "text/plain": [
       "Map:   0%|          | 0/9045 [00:00<?, ? examples/s]"
      ]
     },
     "metadata": {},
     "output_type": "display_data"
    },
    {
     "data": {
      "application/vnd.jupyter.widget-view+json": {
       "model_id": "fcef9eb96f6c49caac29daf931e29825",
       "version_major": 2,
       "version_minor": 0
      },
      "text/plain": [
       "Map:   0%|          | 0/2262 [00:00<?, ? examples/s]"
      ]
     },
     "metadata": {},
     "output_type": "display_data"
    },
    {
     "name": "stdout",
     "output_type": "stream",
     "text": [
      "{'input_text': '### Instruction:\\n주어진 대화를 보고, 성격 5요인을 예측하세요.\\n\\n### Input:\\n첫째 날 이요? 둘째 날 \\n\\n### Response:', 'OCEAN': [0.3125, 0.6042, 0.5625, 0.5208, 0.3958], 'input_ids': [250014, 6, 187284, 72022, 10763, 12, 5837, 2211, 4033, 123541, 688, 30861, 4, 182686, 190, 5144, 1571, 413, 211048, 44476, 5, 6, 187284, 360, 7077, 12, 28185, 79796, 21858, 1504, 5144, 32, 220136, 21858, 6, 187284, 92748, 12, 2, 1, 1, 1, 1, 1, 1, 1, 1, 1, 1, 1, 1, 1, 1, 1, 1, 1, 1, 1, 1, 1, 1, 1, 1, 1, 1, 1, 1, 1, 1, 1, 1, 1, 1, 1, 1, 1, 1, 1, 1, 1, 1, 1, 1, 1, 1, 1, 1, 1, 1, 1, 1, 1, 1, 1, 1, 1, 1, 1, 1, 1, 1, 1, 1, 1, 1, 1, 1, 1, 1, 1, 1, 1, 1, 1, 1, 1, 1, 1, 1, 1, 1, 1, 1, 1, 1, 1, 1, 1, 1, 1, 1, 1, 1, 1, 1, 1, 1, 1, 1, 1, 1, 1, 1, 1, 1, 1, 1, 1, 1, 1, 1, 1, 1, 1, 1, 1, 1, 1, 1, 1, 1, 1, 1, 1, 1, 1, 1, 1, 1, 1, 1, 1, 1, 1, 1, 1, 1, 1, 1, 1, 1, 1, 1, 1, 1, 1, 1, 1, 1, 1, 1, 1, 1, 1, 1, 1, 1, 1, 1, 1, 1, 1, 1, 1, 1, 1, 1, 1, 1, 1, 1, 1, 1, 1, 1, 1, 1, 1, 1, 1, 1, 1, 1, 1, 1, 1, 1, 1, 1, 1, 1, 1, 1, 1, 1, 1, 1, 1, 1, 1, 1, 1, 1, 1, 1, 1, 1, 1, 1, 1, 1, 1, 1, 1, 1, 1], 'attention_mask': [1, 1, 1, 1, 1, 1, 1, 1, 1, 1, 1, 1, 1, 1, 1, 1, 1, 1, 1, 1, 1, 1, 1, 1, 1, 1, 1, 1, 1, 1, 1, 1, 1, 1, 1, 1, 1, 1, 1, 0, 0, 0, 0, 0, 0, 0, 0, 0, 0, 0, 0, 0, 0, 0, 0, 0, 0, 0, 0, 0, 0, 0, 0, 0, 0, 0, 0, 0, 0, 0, 0, 0, 0, 0, 0, 0, 0, 0, 0, 0, 0, 0, 0, 0, 0, 0, 0, 0, 0, 0, 0, 0, 0, 0, 0, 0, 0, 0, 0, 0, 0, 0, 0, 0, 0, 0, 0, 0, 0, 0, 0, 0, 0, 0, 0, 0, 0, 0, 0, 0, 0, 0, 0, 0, 0, 0, 0, 0, 0, 0, 0, 0, 0, 0, 0, 0, 0, 0, 0, 0, 0, 0, 0, 0, 0, 0, 0, 0, 0, 0, 0, 0, 0, 0, 0, 0, 0, 0, 0, 0, 0, 0, 0, 0, 0, 0, 0, 0, 0, 0, 0, 0, 0, 0, 0, 0, 0, 0, 0, 0, 0, 0, 0, 0, 0, 0, 0, 0, 0, 0, 0, 0, 0, 0, 0, 0, 0, 0, 0, 0, 0, 0, 0, 0, 0, 0, 0, 0, 0, 0, 0, 0, 0, 0, 0, 0, 0, 0, 0, 0, 0, 0, 0, 0, 0, 0, 0, 0, 0, 0, 0, 0, 0, 0, 0, 0, 0, 0, 0, 0, 0, 0, 0, 0, 0, 0, 0, 0, 0, 0, 0, 0, 0, 0, 0, 0], 'labels': [250014, 127089, 63652, 757, 5, 4598, 13023, 81730, 910, 2588, 81730, 154782, 127089, 8821, 1019, 2, 1, 1, 1, 1, 1, 1, 1, 1, 1, 1, 1, 1, 1, 1, 1, 1, 1, 1, 1, 1, 1, 1, 1, 1, 1, 1, 1, 1, 1, 1, 1, 1, 1, 1, 1, 1, 1, 1, 1, 1, 1, 1, 1, 1, 1, 1, 1, 1, 1, 1, 1, 1, 1, 1, 1, 1, 1, 1, 1, 1, 1, 1, 1, 1, 1, 1, 1, 1, 1, 1, 1, 1, 1, 1, 1, 1, 1, 1, 1, 1, 1, 1, 1, 1, 1, 1, 1, 1, 1, 1, 1, 1, 1, 1, 1, 1, 1, 1, 1, 1, 1, 1, 1, 1, 1, 1, 1, 1, 1, 1, 1, 1, 1, 1, 1, 1, 1, 1, 1, 1, 1, 1, 1, 1, 1, 1, 1, 1, 1, 1, 1, 1, 1, 1, 1, 1, 1, 1, 1, 1, 1, 1, 1, 1, 1, 1, 1, 1, 1, 1, 1, 1, 1, 1, 1, 1, 1, 1, 1, 1, 1, 1, 1, 1, 1, 1, 1, 1, 1, 1, 1, 1, 1, 1, 1, 1, 1, 1, 1, 1, 1, 1, 1, 1, 1, 1, 1, 1, 1, 1, 1, 1, 1, 1, 1, 1, 1, 1, 1, 1, 1, 1, 1, 1, 1, 1, 1, 1, 1, 1, 1, 1, 1, 1, 1, 1, 1, 1, 1, 1, 1, 1, 1, 1, 1, 1, 1, 1, 1, 1, 1, 1, 1, 1, 1, 1, 1, 1, 1, 1]}\n",
      "Dataset({\n",
      "    features: ['input_text', 'OCEAN', 'input_ids', 'attention_mask', 'labels'],\n",
      "    num_rows: 9045\n",
      "})\n",
      "{'input_text': '### Instruction:\\n주어진 대화를 보고, 성격 5요인을 예측하세요.\\n\\n### Input:\\n케이팝\\n\\n### Response:', 'OCEAN': [0.6458, 0.5208, 0.7917, 0.6667, 0.2292], 'input_ids': [250014, 6, 187284, 72022, 10763, 12, 5837, 2211, 4033, 123541, 688, 30861, 4, 182686, 190, 5144, 1571, 413, 211048, 44476, 5, 6, 187284, 360, 7077, 12, 6, 93225, 176142, 6, 187284, 92748, 12, 2, 1, 1, 1, 1, 1, 1, 1, 1, 1, 1, 1, 1, 1, 1, 1, 1, 1, 1, 1, 1, 1, 1, 1, 1, 1, 1, 1, 1, 1, 1, 1, 1, 1, 1, 1, 1, 1, 1, 1, 1, 1, 1, 1, 1, 1, 1, 1, 1, 1, 1, 1, 1, 1, 1, 1, 1, 1, 1, 1, 1, 1, 1, 1, 1, 1, 1, 1, 1, 1, 1, 1, 1, 1, 1, 1, 1, 1, 1, 1, 1, 1, 1, 1, 1, 1, 1, 1, 1, 1, 1, 1, 1, 1, 1, 1, 1, 1, 1, 1, 1, 1, 1, 1, 1, 1, 1, 1, 1, 1, 1, 1, 1, 1, 1, 1, 1, 1, 1, 1, 1, 1, 1, 1, 1, 1, 1, 1, 1, 1, 1, 1, 1, 1, 1, 1, 1, 1, 1, 1, 1, 1, 1, 1, 1, 1, 1, 1, 1, 1, 1, 1, 1, 1, 1, 1, 1, 1, 1, 1, 1, 1, 1, 1, 1, 1, 1, 1, 1, 1, 1, 1, 1, 1, 1, 1, 1, 1, 1, 1, 1, 1, 1, 1, 1, 1, 1, 1, 1, 1, 1, 1, 1, 1, 1, 1, 1, 1, 1, 1, 1, 1, 1, 1, 1, 1, 1, 1, 1, 1, 1, 1, 1, 1, 1, 1, 1, 1, 1, 1, 1, 1, 1], 'attention_mask': [1, 1, 1, 1, 1, 1, 1, 1, 1, 1, 1, 1, 1, 1, 1, 1, 1, 1, 1, 1, 1, 1, 1, 1, 1, 1, 1, 1, 1, 1, 1, 1, 1, 1, 0, 0, 0, 0, 0, 0, 0, 0, 0, 0, 0, 0, 0, 0, 0, 0, 0, 0, 0, 0, 0, 0, 0, 0, 0, 0, 0, 0, 0, 0, 0, 0, 0, 0, 0, 0, 0, 0, 0, 0, 0, 0, 0, 0, 0, 0, 0, 0, 0, 0, 0, 0, 0, 0, 0, 0, 0, 0, 0, 0, 0, 0, 0, 0, 0, 0, 0, 0, 0, 0, 0, 0, 0, 0, 0, 0, 0, 0, 0, 0, 0, 0, 0, 0, 0, 0, 0, 0, 0, 0, 0, 0, 0, 0, 0, 0, 0, 0, 0, 0, 0, 0, 0, 0, 0, 0, 0, 0, 0, 0, 0, 0, 0, 0, 0, 0, 0, 0, 0, 0, 0, 0, 0, 0, 0, 0, 0, 0, 0, 0, 0, 0, 0, 0, 0, 0, 0, 0, 0, 0, 0, 0, 0, 0, 0, 0, 0, 0, 0, 0, 0, 0, 0, 0, 0, 0, 0, 0, 0, 0, 0, 0, 0, 0, 0, 0, 0, 0, 0, 0, 0, 0, 0, 0, 0, 0, 0, 0, 0, 0, 0, 0, 0, 0, 0, 0, 0, 0, 0, 0, 0, 0, 0, 0, 0, 0, 0, 0, 0, 0, 0, 0, 0, 0, 0, 0, 0, 0, 0, 0, 0, 0, 0, 0, 0, 0, 0, 0, 0, 0, 0, 0], 'labels': [250014, 757, 5, 13307, 10057, 81730, 154782, 757, 5, 22377, 2489, 6, 122887, 142745, 126175, 4235, 304, 2, 1, 1, 1, 1, 1, 1, 1, 1, 1, 1, 1, 1, 1, 1, 1, 1, 1, 1, 1, 1, 1, 1, 1, 1, 1, 1, 1, 1, 1, 1, 1, 1, 1, 1, 1, 1, 1, 1, 1, 1, 1, 1, 1, 1, 1, 1, 1, 1, 1, 1, 1, 1, 1, 1, 1, 1, 1, 1, 1, 1, 1, 1, 1, 1, 1, 1, 1, 1, 1, 1, 1, 1, 1, 1, 1, 1, 1, 1, 1, 1, 1, 1, 1, 1, 1, 1, 1, 1, 1, 1, 1, 1, 1, 1, 1, 1, 1, 1, 1, 1, 1, 1, 1, 1, 1, 1, 1, 1, 1, 1, 1, 1, 1, 1, 1, 1, 1, 1, 1, 1, 1, 1, 1, 1, 1, 1, 1, 1, 1, 1, 1, 1, 1, 1, 1, 1, 1, 1, 1, 1, 1, 1, 1, 1, 1, 1, 1, 1, 1, 1, 1, 1, 1, 1, 1, 1, 1, 1, 1, 1, 1, 1, 1, 1, 1, 1, 1, 1, 1, 1, 1, 1, 1, 1, 1, 1, 1, 1, 1, 1, 1, 1, 1, 1, 1, 1, 1, 1, 1, 1, 1, 1, 1, 1, 1, 1, 1, 1, 1, 1, 1, 1, 1, 1, 1, 1, 1, 1, 1, 1, 1, 1, 1, 1, 1, 1, 1, 1, 1, 1, 1, 1, 1, 1, 1, 1, 1, 1, 1, 1, 1, 1, 1, 1, 1, 1, 1, 1]}\n",
      "Dataset({\n",
      "    features: ['input_text', 'OCEAN', 'input_ids', 'attention_mask', 'labels'],\n",
      "    num_rows: 2262\n",
      "})\n"
     ]
    }
   ],
   "source": [
    "# 데이터셋 전처리 적용\n",
    "train_dataset = dataset[\"train\"].map(preprocess_data, batched=True)\n",
    "eval_dataset = dataset[\"test\"].map(preprocess_data, batched=True)\n",
    "# 학습용 데이터 확인\n",
    "print(train_dataset[0])\n",
    "print(train_dataset)\n",
    "print(eval_dataset[0])\n",
    "print(eval_dataset)"
   ]
  },
  {
   "cell_type": "code",
   "execution_count": 15,
   "metadata": {},
   "outputs": [
    {
     "name": "stdout",
     "output_type": "stream",
     "text": [
      "<class 'float'>\n",
      "Dataset({\n",
      "    features: ['input_text', 'OCEAN', 'input_ids', 'attention_mask', 'labels'],\n",
      "    num_rows: 2262\n",
      "})\n"
     ]
    }
   ],
   "source": [
    "print(type(eval_dataset[0][\"OCEAN\"][0]))\n",
    "print(eval_dataset)"
   ]
  },
  {
   "cell_type": "code",
   "execution_count": 16,
   "metadata": {},
   "outputs": [],
   "source": [
    "import os\n",
    "\n",
    "os.environ[\"NCCL_P2P_DISABLE\"] = \"1\"\n",
    "os.environ[\"NCCL_IB_DISABLE\"] = \"1\""
   ]
  },
  {
   "cell_type": "code",
   "execution_count": null,
   "metadata": {},
   "outputs": [],
   "source": [
    "import torch\n",
    "device = torch.device(\"cuda\" if torch.cuda.is_available() else \"cpu\")\n",
    "def my_collate_fn(batch):\n",
    "    input_texts = [item['input_text'] for item in batch]\n",
    "    labels = torch.stack([torch.tensor(item['OCEAN']) for item in batch])\n",
    "    return {\"input_text\": input_texts, \"OCEAN\": labels}\n",
    "from torch.utils.data import DataLoader\n",
    "eval_dataloader = DataLoader(eval_dataset, batch_size=8,collate_fn=my_collate_fn)"
   ]
  },
  {
   "cell_type": "code",
   "execution_count": null,
   "metadata": {},
   "outputs": [],
   "source": [
    "from tqdm import tqdm\n",
    "def evaluate_ocean(model, tokenizer, eval_dataloader, device):\n",
    "    import re\n",
    "    from sklearn.metrics import mean_absolute_error\n",
    "\n",
    "    model.eval()\n",
    "    all_test_predictions = []\n",
    "    all_test_labels = []\n",
    "    fail_count = 0\n",
    "\n",
    "    for batch in tqdm(eval_dataloader):\n",
    "        test_input_texts = batch['input_text']\n",
    "        test_labels = batch[\"OCEAN\"]\n",
    "        inputs = tokenizer(test_input_texts, return_tensors=\"pt\", padding=True, truncation=True).to(device)\n",
    "        outputs = model.generate(\n",
    "            **inputs,\n",
    "            max_length=64,\n",
    "            temperature=1.2,\n",
    "            top_p=0.9,\n",
    "            repetition_penalty=1.2\n",
    "        )\n",
    "\n",
    "        decoded_preds = tokenizer.batch_decode(outputs, skip_special_tokens=True)\n",
    "\n",
    "        for pred_str, label in zip(decoded_preds, test_labels):\n",
    "            pred_str = re.sub(r\"[^\\d\\.\\,\\s]\", \"\", pred_str)\n",
    "            try:\n",
    "                prediction = list(map(float, re.split(r\"[,\\s]+\", pred_str.strip())))\n",
    "                # print(prediction)\n",
    "                if len(prediction) == 5 and len(label) == 5:\n",
    "                    all_test_predictions.extend(prediction)\n",
    "                    all_test_labels.extend(label.tolist())\n",
    "                else:\n",
    "                    fail_count += 1\n",
    "            except:\n",
    "                fail_count += 1\n",
    "\n",
    "    print(f\"⚠️ Skipped {fail_count} invalid predictions.\")\n",
    "    model.train()\n",
    "\n",
    "    mae_score = mean_absolute_error(all_test_labels, all_test_predictions)\n",
    "    one_minus_mae = 1 - mae_score\n",
    "    logger.debug(f\"\\n🧪 Custom Evaluation — 1 - MAE: {one_minus_mae:.4f}\")\n",
    "\n",
    "    return one_minus_mae"
   ]
  },
  {
   "cell_type": "code",
   "execution_count": null,
   "metadata": {},
   "outputs": [],
   "source": [
    "def my_train_collate_fn(batch):\n",
    "    input_ids = torch.stack([torch.tensor(item['input_ids']) for item in batch])\n",
    "    attention_mask = torch.stack([torch.tensor(item['attention_mask']) for item in batch])\n",
    "    labels = torch.stack([torch.tensor(item['labels']) for item in batch])  # 明确 shape\n",
    "    return {\n",
    "        \"input_ids\": input_ids,\n",
    "        \"attention_mask\": attention_mask,\n",
    "        \"labels\": labels\n",
    "    }"
   ]
  },
  {
   "cell_type": "code",
   "execution_count": null,
   "metadata": {},
   "outputs": [],
   "source": [
    "import shutil\n",
    "from transformers import TrainerCallback, TrainerControl, TrainerState\n",
    "\n",
    "class OceanEvalCallback(TrainerCallback):\n",
    "    def __init__(self, eval_dataloader, tokenizer, device, output_dir=\"best_model\"):\n",
    "        self.eval_dataloader = eval_dataloader\n",
    "        self.tokenizer = tokenizer\n",
    "        self.device = device\n",
    "        self.output_dir = output_dir\n",
    "        self.best_score = -float(\"inf\")\n",
    "\n",
    "    def on_epoch_end(self, args, state: TrainerState, control: TrainerControl, **kwargs):\n",
    "        model = kwargs['model']\n",
    "        print(\"\\n🔍 Running custom evaluation at end of epoch...\")\n",
    "\n",
    "        score = evaluate_ocean(model, self.tokenizer, self.eval_dataloader, self.device)\n",
    "\n",
    "        if score > self.best_score:\n",
    "            self.best_score = score\n",
    "            print(f\"💾 New best model found with score {score:.4f} — saving to {self.output_dir}\")\n",
    "\n",
    "            \n",
    "            if os.path.exists(self.output_dir):\n",
    "                shutil.rmtree(self.output_dir)\n",
    "\n",
    "            # save the best model\n",
    "            model.save_pretrained(self.output_dir)\n",
    "            self.tokenizer.save_pretrained(self.output_dir)"
   ]
  },
  {
   "cell_type": "code",
   "execution_count": null,
   "metadata": {},
   "outputs": [
    {
     "name": "stderr",
     "output_type": "stream",
     "text": [
      "/home/oem/anaconda3/envs/qx/lib/python3.10/site-packages/transformers/training_args.py:1594: FutureWarning: `evaluation_strategy` is deprecated and will be removed in version 4.46 of 🤗 Transformers. Use `eval_strategy` instead\n",
      "  warnings.warn(\n",
      "/tmp/ipykernel_2983806/2487976153.py:24: FutureWarning: `tokenizer` is deprecated and will be removed in version 5.0.0 for `Trainer.__init__`. Use `processing_class` instead.\n",
      "  trainer = Trainer(\n"
     ]
    },
    {
     "name": "stdout",
     "output_type": "stream",
     "text": [
      "Dataset({\n",
      "    features: ['input_text', 'OCEAN', 'input_ids', 'attention_mask', 'labels'],\n",
      "    num_rows: 9045\n",
      "})\n"
     ]
    },
    {
     "data": {
      "text/html": [
       "\n",
       "    <div>\n",
       "      \n",
       "      <progress value='56550' max='56550' style='width:300px; height:20px; vertical-align: middle;'></progress>\n",
       "      [56550/56550 5:32:43, Epoch 50/50]\n",
       "    </div>\n",
       "    <table border=\"1\" class=\"dataframe\">\n",
       "  <thead>\n",
       " <tr style=\"text-align: left;\">\n",
       "      <th>Step</th>\n",
       "      <th>Training Loss</th>\n",
       "    </tr>\n",
       "  </thead>\n",
       "  <tbody>\n",
       "    <tr>\n",
       "      <td>1000</td>\n",
       "      <td>0.017100</td>\n",
       "    </tr>\n",
       "    <tr>\n",
       "      <td>2000</td>\n",
       "      <td>0.016600</td>\n",
       "    </tr>\n",
       "    <tr>\n",
       "      <td>3000</td>\n",
       "      <td>0.016400</td>\n",
       "    </tr>\n",
       "    <tr>\n",
       "      <td>4000</td>\n",
       "      <td>0.022900</td>\n",
       "    </tr>\n",
       "    <tr>\n",
       "      <td>5000</td>\n",
       "      <td>0.016300</td>\n",
       "    </tr>\n",
       "    <tr>\n",
       "      <td>6000</td>\n",
       "      <td>0.016100</td>\n",
       "    </tr>\n",
       "    <tr>\n",
       "      <td>7000</td>\n",
       "      <td>0.016300</td>\n",
       "    </tr>\n",
       "    <tr>\n",
       "      <td>8000</td>\n",
       "      <td>0.021500</td>\n",
       "    </tr>\n",
       "    <tr>\n",
       "      <td>9000</td>\n",
       "      <td>0.015900</td>\n",
       "    </tr>\n",
       "    <tr>\n",
       "      <td>10000</td>\n",
       "      <td>0.015400</td>\n",
       "    </tr>\n",
       "    <tr>\n",
       "      <td>11000</td>\n",
       "      <td>0.015400</td>\n",
       "    </tr>\n",
       "    <tr>\n",
       "      <td>12000</td>\n",
       "      <td>0.015100</td>\n",
       "    </tr>\n",
       "    <tr>\n",
       "      <td>13000</td>\n",
       "      <td>0.014900</td>\n",
       "    </tr>\n",
       "    <tr>\n",
       "      <td>14000</td>\n",
       "      <td>0.014500</td>\n",
       "    </tr>\n",
       "    <tr>\n",
       "      <td>15000</td>\n",
       "      <td>0.014200</td>\n",
       "    </tr>\n",
       "    <tr>\n",
       "      <td>16000</td>\n",
       "      <td>0.022700</td>\n",
       "    </tr>\n",
       "    <tr>\n",
       "      <td>17000</td>\n",
       "      <td>0.013900</td>\n",
       "    </tr>\n",
       "    <tr>\n",
       "      <td>18000</td>\n",
       "      <td>0.013500</td>\n",
       "    </tr>\n",
       "    <tr>\n",
       "      <td>19000</td>\n",
       "      <td>0.013400</td>\n",
       "    </tr>\n",
       "    <tr>\n",
       "      <td>20000</td>\n",
       "      <td>0.013300</td>\n",
       "    </tr>\n",
       "    <tr>\n",
       "      <td>21000</td>\n",
       "      <td>0.013000</td>\n",
       "    </tr>\n",
       "    <tr>\n",
       "      <td>22000</td>\n",
       "      <td>0.012500</td>\n",
       "    </tr>\n",
       "    <tr>\n",
       "      <td>23000</td>\n",
       "      <td>0.012300</td>\n",
       "    </tr>\n",
       "    <tr>\n",
       "      <td>24000</td>\n",
       "      <td>0.012200</td>\n",
       "    </tr>\n",
       "    <tr>\n",
       "      <td>25000</td>\n",
       "      <td>0.011700</td>\n",
       "    </tr>\n",
       "    <tr>\n",
       "      <td>26000</td>\n",
       "      <td>0.011400</td>\n",
       "    </tr>\n",
       "    <tr>\n",
       "      <td>27000</td>\n",
       "      <td>0.011000</td>\n",
       "    </tr>\n",
       "    <tr>\n",
       "      <td>28000</td>\n",
       "      <td>0.010600</td>\n",
       "    </tr>\n",
       "    <tr>\n",
       "      <td>29000</td>\n",
       "      <td>0.010300</td>\n",
       "    </tr>\n",
       "    <tr>\n",
       "      <td>30000</td>\n",
       "      <td>0.009900</td>\n",
       "    </tr>\n",
       "    <tr>\n",
       "      <td>31000</td>\n",
       "      <td>0.009500</td>\n",
       "    </tr>\n",
       "    <tr>\n",
       "      <td>32000</td>\n",
       "      <td>0.009200</td>\n",
       "    </tr>\n",
       "    <tr>\n",
       "      <td>33000</td>\n",
       "      <td>0.008800</td>\n",
       "    </tr>\n",
       "    <tr>\n",
       "      <td>34000</td>\n",
       "      <td>0.008500</td>\n",
       "    </tr>\n",
       "    <tr>\n",
       "      <td>35000</td>\n",
       "      <td>0.008200</td>\n",
       "    </tr>\n",
       "    <tr>\n",
       "      <td>36000</td>\n",
       "      <td>0.007800</td>\n",
       "    </tr>\n",
       "    <tr>\n",
       "      <td>37000</td>\n",
       "      <td>0.007500</td>\n",
       "    </tr>\n",
       "    <tr>\n",
       "      <td>38000</td>\n",
       "      <td>0.007200</td>\n",
       "    </tr>\n",
       "    <tr>\n",
       "      <td>39000</td>\n",
       "      <td>0.006800</td>\n",
       "    </tr>\n",
       "    <tr>\n",
       "      <td>40000</td>\n",
       "      <td>0.006600</td>\n",
       "    </tr>\n",
       "    <tr>\n",
       "      <td>41000</td>\n",
       "      <td>0.006400</td>\n",
       "    </tr>\n",
       "    <tr>\n",
       "      <td>42000</td>\n",
       "      <td>0.006200</td>\n",
       "    </tr>\n",
       "    <tr>\n",
       "      <td>43000</td>\n",
       "      <td>0.005900</td>\n",
       "    </tr>\n",
       "    <tr>\n",
       "      <td>44000</td>\n",
       "      <td>0.005600</td>\n",
       "    </tr>\n",
       "    <tr>\n",
       "      <td>45000</td>\n",
       "      <td>0.005400</td>\n",
       "    </tr>\n",
       "    <tr>\n",
       "      <td>46000</td>\n",
       "      <td>0.005100</td>\n",
       "    </tr>\n",
       "    <tr>\n",
       "      <td>47000</td>\n",
       "      <td>0.005100</td>\n",
       "    </tr>\n",
       "    <tr>\n",
       "      <td>48000</td>\n",
       "      <td>0.004900</td>\n",
       "    </tr>\n",
       "    <tr>\n",
       "      <td>49000</td>\n",
       "      <td>0.004500</td>\n",
       "    </tr>\n",
       "    <tr>\n",
       "      <td>50000</td>\n",
       "      <td>0.004400</td>\n",
       "    </tr>\n",
       "    <tr>\n",
       "      <td>51000</td>\n",
       "      <td>0.004200</td>\n",
       "    </tr>\n",
       "    <tr>\n",
       "      <td>52000</td>\n",
       "      <td>0.004200</td>\n",
       "    </tr>\n",
       "    <tr>\n",
       "      <td>53000</td>\n",
       "      <td>0.003900</td>\n",
       "    </tr>\n",
       "    <tr>\n",
       "      <td>54000</td>\n",
       "      <td>0.003800</td>\n",
       "    </tr>\n",
       "    <tr>\n",
       "      <td>55000</td>\n",
       "      <td>0.003800</td>\n",
       "    </tr>\n",
       "    <tr>\n",
       "      <td>56000</td>\n",
       "      <td>0.003500</td>\n",
       "    </tr>\n",
       "  </tbody>\n",
       "</table><p>"
      ],
      "text/plain": [
       "<IPython.core.display.HTML object>"
      ]
     },
     "metadata": {},
     "output_type": "display_data"
    },
    {
     "name": "stdout",
     "output_type": "stream",
     "text": [
      "\n",
      "🔍 Running custom evaluation at end of epoch...\n"
     ]
    },
    {
     "name": "stderr",
     "output_type": "stream",
     "text": [
      "  0%|          | 0/283 [00:00<?, ?it/s]/home/oem/anaconda3/envs/qx/lib/python3.10/site-packages/transformers/generation/configuration_utils.py:629: UserWarning: `do_sample` is set to `False`. However, `temperature` is set to `1.2` -- this flag is only used in sample-based generation modes. You should set `do_sample=True` or unset `temperature`.\n",
      "  warnings.warn(\n",
      "/home/oem/anaconda3/envs/qx/lib/python3.10/site-packages/transformers/generation/configuration_utils.py:634: UserWarning: `do_sample` is set to `False`. However, `top_p` is set to `0.9` -- this flag is only used in sample-based generation modes. You should set `do_sample=True` or unset `top_p`.\n",
      "  warnings.warn(\n",
      "100%|██████████| 283/283 [01:21<00:00,  3.49it/s]\n",
      "[2025-03-30 01:42:13,259]::1875635423::DEBUG::\n",
      "🧪 Custom Evaluation — 1 - MAE: 0.8598\n"
     ]
    },
    {
     "name": "stdout",
     "output_type": "stream",
     "text": [
      "⚠️ Skipped 0 invalid predictions.\n",
      "💾 New best model found with score 0.8598 — saving to ./basebest_model\n",
      "\n",
      "🔍 Running custom evaluation at end of epoch...\n"
     ]
    },
    {
     "name": "stderr",
     "output_type": "stream",
     "text": [
      "  0%|          | 0/283 [00:00<?, ?it/s]/home/oem/anaconda3/envs/qx/lib/python3.10/site-packages/transformers/generation/configuration_utils.py:629: UserWarning: `do_sample` is set to `False`. However, `temperature` is set to `1.2` -- this flag is only used in sample-based generation modes. You should set `do_sample=True` or unset `temperature`.\n",
      "  warnings.warn(\n",
      "/home/oem/anaconda3/envs/qx/lib/python3.10/site-packages/transformers/generation/configuration_utils.py:634: UserWarning: `do_sample` is set to `False`. However, `top_p` is set to `0.9` -- this flag is only used in sample-based generation modes. You should set `do_sample=True` or unset `top_p`.\n",
      "  warnings.warn(\n",
      "100%|██████████| 283/283 [01:11<00:00,  3.97it/s]\n",
      "[2025-03-30 01:48:52,989]::1875635423::DEBUG::\n",
      "🧪 Custom Evaluation — 1 - MAE: 0.8364\n"
     ]
    },
    {
     "name": "stdout",
     "output_type": "stream",
     "text": [
      "⚠️ Skipped 0 invalid predictions.\n",
      "\n",
      "🔍 Running custom evaluation at end of epoch...\n"
     ]
    },
    {
     "name": "stderr",
     "output_type": "stream",
     "text": [
      "  0%|          | 0/283 [00:00<?, ?it/s]/home/oem/anaconda3/envs/qx/lib/python3.10/site-packages/transformers/generation/configuration_utils.py:629: UserWarning: `do_sample` is set to `False`. However, `temperature` is set to `1.2` -- this flag is only used in sample-based generation modes. You should set `do_sample=True` or unset `temperature`.\n",
      "  warnings.warn(\n",
      "/home/oem/anaconda3/envs/qx/lib/python3.10/site-packages/transformers/generation/configuration_utils.py:634: UserWarning: `do_sample` is set to `False`. However, `top_p` is set to `0.9` -- this flag is only used in sample-based generation modes. You should set `do_sample=True` or unset `top_p`.\n",
      "  warnings.warn(\n",
      "100%|██████████| 283/283 [01:11<00:00,  3.98it/s]\n",
      "[2025-03-30 01:55:29,713]::1875635423::DEBUG::\n",
      "🧪 Custom Evaluation — 1 - MAE: 0.8269\n"
     ]
    },
    {
     "name": "stdout",
     "output_type": "stream",
     "text": [
      "⚠️ Skipped 0 invalid predictions.\n",
      "\n",
      "🔍 Running custom evaluation at end of epoch...\n"
     ]
    },
    {
     "name": "stderr",
     "output_type": "stream",
     "text": [
      "  0%|          | 0/283 [00:00<?, ?it/s]/home/oem/anaconda3/envs/qx/lib/python3.10/site-packages/transformers/generation/configuration_utils.py:629: UserWarning: `do_sample` is set to `False`. However, `temperature` is set to `1.2` -- this flag is only used in sample-based generation modes. You should set `do_sample=True` or unset `temperature`.\n",
      "  warnings.warn(\n",
      "/home/oem/anaconda3/envs/qx/lib/python3.10/site-packages/transformers/generation/configuration_utils.py:634: UserWarning: `do_sample` is set to `False`. However, `top_p` is set to `0.9` -- this flag is only used in sample-based generation modes. You should set `do_sample=True` or unset `top_p`.\n",
      "  warnings.warn(\n",
      "100%|██████████| 283/283 [01:15<00:00,  3.77it/s]\n",
      "[2025-03-30 02:02:10,430]::1875635423::DEBUG::\n",
      "🧪 Custom Evaluation — 1 - MAE: 0.8529\n"
     ]
    },
    {
     "name": "stdout",
     "output_type": "stream",
     "text": [
      "⚠️ Skipped 0 invalid predictions.\n",
      "\n",
      "🔍 Running custom evaluation at end of epoch...\n"
     ]
    },
    {
     "name": "stderr",
     "output_type": "stream",
     "text": [
      "  0%|          | 0/283 [00:00<?, ?it/s]/home/oem/anaconda3/envs/qx/lib/python3.10/site-packages/transformers/generation/configuration_utils.py:629: UserWarning: `do_sample` is set to `False`. However, `temperature` is set to `1.2` -- this flag is only used in sample-based generation modes. You should set `do_sample=True` or unset `temperature`.\n",
      "  warnings.warn(\n",
      "/home/oem/anaconda3/envs/qx/lib/python3.10/site-packages/transformers/generation/configuration_utils.py:634: UserWarning: `do_sample` is set to `False`. However, `top_p` is set to `0.9` -- this flag is only used in sample-based generation modes. You should set `do_sample=True` or unset `top_p`.\n",
      "  warnings.warn(\n",
      "100%|██████████| 283/283 [01:14<00:00,  3.81it/s]\n",
      "[2025-03-30 02:08:50,342]::1875635423::DEBUG::\n",
      "🧪 Custom Evaluation — 1 - MAE: 0.8492\n"
     ]
    },
    {
     "name": "stdout",
     "output_type": "stream",
     "text": [
      "⚠️ Skipped 0 invalid predictions.\n",
      "\n",
      "🔍 Running custom evaluation at end of epoch...\n"
     ]
    },
    {
     "name": "stderr",
     "output_type": "stream",
     "text": [
      "  0%|          | 0/283 [00:00<?, ?it/s]/home/oem/anaconda3/envs/qx/lib/python3.10/site-packages/transformers/generation/configuration_utils.py:629: UserWarning: `do_sample` is set to `False`. However, `temperature` is set to `1.2` -- this flag is only used in sample-based generation modes. You should set `do_sample=True` or unset `temperature`.\n",
      "  warnings.warn(\n",
      "/home/oem/anaconda3/envs/qx/lib/python3.10/site-packages/transformers/generation/configuration_utils.py:634: UserWarning: `do_sample` is set to `False`. However, `top_p` is set to `0.9` -- this flag is only used in sample-based generation modes. You should set `do_sample=True` or unset `top_p`.\n",
      "  warnings.warn(\n",
      "100%|██████████| 283/283 [01:14<00:00,  3.81it/s]\n",
      "[2025-03-30 02:15:30,039]::1875635423::DEBUG::\n",
      "🧪 Custom Evaluation — 1 - MAE: 0.7893\n"
     ]
    },
    {
     "name": "stdout",
     "output_type": "stream",
     "text": [
      "⚠️ Skipped 0 invalid predictions.\n",
      "\n",
      "🔍 Running custom evaluation at end of epoch...\n"
     ]
    },
    {
     "name": "stderr",
     "output_type": "stream",
     "text": [
      "  0%|          | 0/283 [00:00<?, ?it/s]/home/oem/anaconda3/envs/qx/lib/python3.10/site-packages/transformers/generation/configuration_utils.py:629: UserWarning: `do_sample` is set to `False`. However, `temperature` is set to `1.2` -- this flag is only used in sample-based generation modes. You should set `do_sample=True` or unset `temperature`.\n",
      "  warnings.warn(\n",
      "/home/oem/anaconda3/envs/qx/lib/python3.10/site-packages/transformers/generation/configuration_utils.py:634: UserWarning: `do_sample` is set to `False`. However, `top_p` is set to `0.9` -- this flag is only used in sample-based generation modes. You should set `do_sample=True` or unset `top_p`.\n",
      "  warnings.warn(\n",
      "100%|██████████| 283/283 [01:17<00:00,  3.66it/s]\n",
      "[2025-03-30 02:22:13,160]::1875635423::DEBUG::\n",
      "🧪 Custom Evaluation — 1 - MAE: 0.7865\n"
     ]
    },
    {
     "name": "stdout",
     "output_type": "stream",
     "text": [
      "⚠️ Skipped 0 invalid predictions.\n",
      "\n",
      "🔍 Running custom evaluation at end of epoch...\n"
     ]
    },
    {
     "name": "stderr",
     "output_type": "stream",
     "text": [
      "  0%|          | 0/283 [00:00<?, ?it/s]/home/oem/anaconda3/envs/qx/lib/python3.10/site-packages/transformers/generation/configuration_utils.py:629: UserWarning: `do_sample` is set to `False`. However, `temperature` is set to `1.2` -- this flag is only used in sample-based generation modes. You should set `do_sample=True` or unset `temperature`.\n",
      "  warnings.warn(\n",
      "/home/oem/anaconda3/envs/qx/lib/python3.10/site-packages/transformers/generation/configuration_utils.py:634: UserWarning: `do_sample` is set to `False`. However, `top_p` is set to `0.9` -- this flag is only used in sample-based generation modes. You should set `do_sample=True` or unset `top_p`.\n",
      "  warnings.warn(\n",
      "100%|██████████| 283/283 [01:12<00:00,  3.92it/s]\n",
      "[2025-03-30 02:28:51,618]::1875635423::DEBUG::\n",
      "🧪 Custom Evaluation — 1 - MAE: 0.8048\n"
     ]
    },
    {
     "name": "stdout",
     "output_type": "stream",
     "text": [
      "⚠️ Skipped 0 invalid predictions.\n",
      "\n",
      "🔍 Running custom evaluation at end of epoch...\n"
     ]
    },
    {
     "name": "stderr",
     "output_type": "stream",
     "text": [
      "  0%|          | 0/283 [00:00<?, ?it/s]/home/oem/anaconda3/envs/qx/lib/python3.10/site-packages/transformers/generation/configuration_utils.py:629: UserWarning: `do_sample` is set to `False`. However, `temperature` is set to `1.2` -- this flag is only used in sample-based generation modes. You should set `do_sample=True` or unset `temperature`.\n",
      "  warnings.warn(\n",
      "/home/oem/anaconda3/envs/qx/lib/python3.10/site-packages/transformers/generation/configuration_utils.py:634: UserWarning: `do_sample` is set to `False`. However, `top_p` is set to `0.9` -- this flag is only used in sample-based generation modes. You should set `do_sample=True` or unset `top_p`.\n",
      "  warnings.warn(\n",
      "100%|██████████| 283/283 [01:11<00:00,  3.93it/s]\n",
      "[2025-03-30 02:35:29,778]::1875635423::DEBUG::\n",
      "🧪 Custom Evaluation — 1 - MAE: 0.8147\n"
     ]
    },
    {
     "name": "stdout",
     "output_type": "stream",
     "text": [
      "⚠️ Skipped 0 invalid predictions.\n",
      "\n",
      "🔍 Running custom evaluation at end of epoch...\n"
     ]
    },
    {
     "name": "stderr",
     "output_type": "stream",
     "text": [
      "  0%|          | 0/283 [00:00<?, ?it/s]/home/oem/anaconda3/envs/qx/lib/python3.10/site-packages/transformers/generation/configuration_utils.py:629: UserWarning: `do_sample` is set to `False`. However, `temperature` is set to `1.2` -- this flag is only used in sample-based generation modes. You should set `do_sample=True` or unset `temperature`.\n",
      "  warnings.warn(\n",
      "/home/oem/anaconda3/envs/qx/lib/python3.10/site-packages/transformers/generation/configuration_utils.py:634: UserWarning: `do_sample` is set to `False`. However, `top_p` is set to `0.9` -- this flag is only used in sample-based generation modes. You should set `do_sample=True` or unset `top_p`.\n",
      "  warnings.warn(\n",
      "100%|██████████| 283/283 [01:15<00:00,  3.73it/s]\n",
      "[2025-03-30 02:42:12,137]::1875635423::DEBUG::\n",
      "🧪 Custom Evaluation — 1 - MAE: 0.8379\n"
     ]
    },
    {
     "name": "stdout",
     "output_type": "stream",
     "text": [
      "⚠️ Skipped 0 invalid predictions.\n",
      "\n",
      "🔍 Running custom evaluation at end of epoch...\n"
     ]
    },
    {
     "name": "stderr",
     "output_type": "stream",
     "text": [
      "  0%|          | 0/283 [00:00<?, ?it/s]/home/oem/anaconda3/envs/qx/lib/python3.10/site-packages/transformers/generation/configuration_utils.py:629: UserWarning: `do_sample` is set to `False`. However, `temperature` is set to `1.2` -- this flag is only used in sample-based generation modes. You should set `do_sample=True` or unset `temperature`.\n",
      "  warnings.warn(\n",
      "/home/oem/anaconda3/envs/qx/lib/python3.10/site-packages/transformers/generation/configuration_utils.py:634: UserWarning: `do_sample` is set to `False`. However, `top_p` is set to `0.9` -- this flag is only used in sample-based generation modes. You should set `do_sample=True` or unset `top_p`.\n",
      "  warnings.warn(\n",
      "100%|██████████| 283/283 [01:17<00:00,  3.65it/s]\n",
      "[2025-03-30 02:48:55,809]::1875635423::DEBUG::\n",
      "🧪 Custom Evaluation — 1 - MAE: 0.8118\n"
     ]
    },
    {
     "name": "stdout",
     "output_type": "stream",
     "text": [
      "⚠️ Skipped 0 invalid predictions.\n",
      "\n",
      "🔍 Running custom evaluation at end of epoch...\n"
     ]
    },
    {
     "name": "stderr",
     "output_type": "stream",
     "text": [
      "  0%|          | 0/283 [00:00<?, ?it/s]/home/oem/anaconda3/envs/qx/lib/python3.10/site-packages/transformers/generation/configuration_utils.py:629: UserWarning: `do_sample` is set to `False`. However, `temperature` is set to `1.2` -- this flag is only used in sample-based generation modes. You should set `do_sample=True` or unset `temperature`.\n",
      "  warnings.warn(\n",
      "/home/oem/anaconda3/envs/qx/lib/python3.10/site-packages/transformers/generation/configuration_utils.py:634: UserWarning: `do_sample` is set to `False`. However, `top_p` is set to `0.9` -- this flag is only used in sample-based generation modes. You should set `do_sample=True` or unset `top_p`.\n",
      "  warnings.warn(\n",
      "100%|██████████| 283/283 [01:19<00:00,  3.56it/s]\n",
      "[2025-03-30 02:55:41,929]::1875635423::DEBUG::\n",
      "🧪 Custom Evaluation — 1 - MAE: 0.8127\n"
     ]
    },
    {
     "name": "stdout",
     "output_type": "stream",
     "text": [
      "⚠️ Skipped 0 invalid predictions.\n",
      "\n",
      "🔍 Running custom evaluation at end of epoch...\n"
     ]
    },
    {
     "name": "stderr",
     "output_type": "stream",
     "text": [
      "  0%|          | 0/283 [00:00<?, ?it/s]/home/oem/anaconda3/envs/qx/lib/python3.10/site-packages/transformers/generation/configuration_utils.py:629: UserWarning: `do_sample` is set to `False`. However, `temperature` is set to `1.2` -- this flag is only used in sample-based generation modes. You should set `do_sample=True` or unset `temperature`.\n",
      "  warnings.warn(\n",
      "/home/oem/anaconda3/envs/qx/lib/python3.10/site-packages/transformers/generation/configuration_utils.py:634: UserWarning: `do_sample` is set to `False`. However, `top_p` is set to `0.9` -- this flag is only used in sample-based generation modes. You should set `do_sample=True` or unset `top_p`.\n",
      "  warnings.warn(\n",
      "100%|██████████| 283/283 [01:17<00:00,  3.67it/s]\n",
      "[2025-03-30 03:02:25,397]::1875635423::DEBUG::\n",
      "🧪 Custom Evaluation — 1 - MAE: 0.8380\n"
     ]
    },
    {
     "name": "stdout",
     "output_type": "stream",
     "text": [
      "⚠️ Skipped 0 invalid predictions.\n",
      "\n",
      "🔍 Running custom evaluation at end of epoch...\n"
     ]
    },
    {
     "name": "stderr",
     "output_type": "stream",
     "text": [
      "  0%|          | 0/283 [00:00<?, ?it/s]/home/oem/anaconda3/envs/qx/lib/python3.10/site-packages/transformers/generation/configuration_utils.py:629: UserWarning: `do_sample` is set to `False`. However, `temperature` is set to `1.2` -- this flag is only used in sample-based generation modes. You should set `do_sample=True` or unset `temperature`.\n",
      "  warnings.warn(\n",
      "/home/oem/anaconda3/envs/qx/lib/python3.10/site-packages/transformers/generation/configuration_utils.py:634: UserWarning: `do_sample` is set to `False`. However, `top_p` is set to `0.9` -- this flag is only used in sample-based generation modes. You should set `do_sample=True` or unset `top_p`.\n",
      "  warnings.warn(\n",
      "100%|██████████| 283/283 [01:14<00:00,  3.81it/s]\n",
      "[2025-03-30 03:09:05,870]::1875635423::DEBUG::\n",
      "🧪 Custom Evaluation — 1 - MAE: 0.8056\n"
     ]
    },
    {
     "name": "stdout",
     "output_type": "stream",
     "text": [
      "⚠️ Skipped 0 invalid predictions.\n",
      "\n",
      "🔍 Running custom evaluation at end of epoch...\n"
     ]
    },
    {
     "name": "stderr",
     "output_type": "stream",
     "text": [
      "  0%|          | 0/283 [00:00<?, ?it/s]/home/oem/anaconda3/envs/qx/lib/python3.10/site-packages/transformers/generation/configuration_utils.py:629: UserWarning: `do_sample` is set to `False`. However, `temperature` is set to `1.2` -- this flag is only used in sample-based generation modes. You should set `do_sample=True` or unset `temperature`.\n",
      "  warnings.warn(\n",
      "/home/oem/anaconda3/envs/qx/lib/python3.10/site-packages/transformers/generation/configuration_utils.py:634: UserWarning: `do_sample` is set to `False`. However, `top_p` is set to `0.9` -- this flag is only used in sample-based generation modes. You should set `do_sample=True` or unset `top_p`.\n",
      "  warnings.warn(\n",
      "100%|██████████| 283/283 [01:13<00:00,  3.83it/s]\n",
      "[2025-03-30 03:15:45,931]::1875635423::DEBUG::\n",
      "🧪 Custom Evaluation — 1 - MAE: 0.8083\n"
     ]
    },
    {
     "name": "stdout",
     "output_type": "stream",
     "text": [
      "⚠️ Skipped 0 invalid predictions.\n",
      "\n",
      "🔍 Running custom evaluation at end of epoch...\n"
     ]
    },
    {
     "name": "stderr",
     "output_type": "stream",
     "text": [
      "  0%|          | 0/283 [00:00<?, ?it/s]/home/oem/anaconda3/envs/qx/lib/python3.10/site-packages/transformers/generation/configuration_utils.py:629: UserWarning: `do_sample` is set to `False`. However, `temperature` is set to `1.2` -- this flag is only used in sample-based generation modes. You should set `do_sample=True` or unset `temperature`.\n",
      "  warnings.warn(\n",
      "/home/oem/anaconda3/envs/qx/lib/python3.10/site-packages/transformers/generation/configuration_utils.py:634: UserWarning: `do_sample` is set to `False`. However, `top_p` is set to `0.9` -- this flag is only used in sample-based generation modes. You should set `do_sample=True` or unset `top_p`.\n",
      "  warnings.warn(\n",
      "100%|██████████| 283/283 [01:13<00:00,  3.85it/s]\n",
      "[2025-03-30 03:22:25,550]::1875635423::DEBUG::\n",
      "🧪 Custom Evaluation — 1 - MAE: 0.8167\n"
     ]
    },
    {
     "name": "stdout",
     "output_type": "stream",
     "text": [
      "⚠️ Skipped 0 invalid predictions.\n",
      "\n",
      "🔍 Running custom evaluation at end of epoch...\n"
     ]
    },
    {
     "name": "stderr",
     "output_type": "stream",
     "text": [
      "  0%|          | 0/283 [00:00<?, ?it/s]/home/oem/anaconda3/envs/qx/lib/python3.10/site-packages/transformers/generation/configuration_utils.py:629: UserWarning: `do_sample` is set to `False`. However, `temperature` is set to `1.2` -- this flag is only used in sample-based generation modes. You should set `do_sample=True` or unset `temperature`.\n",
      "  warnings.warn(\n",
      "/home/oem/anaconda3/envs/qx/lib/python3.10/site-packages/transformers/generation/configuration_utils.py:634: UserWarning: `do_sample` is set to `False`. However, `top_p` is set to `0.9` -- this flag is only used in sample-based generation modes. You should set `do_sample=True` or unset `top_p`.\n",
      "  warnings.warn(\n",
      "100%|██████████| 283/283 [01:15<00:00,  3.76it/s]\n",
      "[2025-03-30 03:29:07,194]::1875635423::DEBUG::\n",
      "🧪 Custom Evaluation — 1 - MAE: 0.8070\n"
     ]
    },
    {
     "name": "stdout",
     "output_type": "stream",
     "text": [
      "⚠️ Skipped 0 invalid predictions.\n",
      "\n",
      "🔍 Running custom evaluation at end of epoch...\n"
     ]
    },
    {
     "name": "stderr",
     "output_type": "stream",
     "text": [
      "  0%|          | 0/283 [00:00<?, ?it/s]/home/oem/anaconda3/envs/qx/lib/python3.10/site-packages/transformers/generation/configuration_utils.py:629: UserWarning: `do_sample` is set to `False`. However, `temperature` is set to `1.2` -- this flag is only used in sample-based generation modes. You should set `do_sample=True` or unset `temperature`.\n",
      "  warnings.warn(\n",
      "/home/oem/anaconda3/envs/qx/lib/python3.10/site-packages/transformers/generation/configuration_utils.py:634: UserWarning: `do_sample` is set to `False`. However, `top_p` is set to `0.9` -- this flag is only used in sample-based generation modes. You should set `do_sample=True` or unset `top_p`.\n",
      "  warnings.warn(\n",
      "100%|██████████| 283/283 [01:17<00:00,  3.67it/s]\n",
      "[2025-03-30 03:35:50,766]::1875635423::DEBUG::\n",
      "🧪 Custom Evaluation — 1 - MAE: 0.8268\n"
     ]
    },
    {
     "name": "stdout",
     "output_type": "stream",
     "text": [
      "⚠️ Skipped 0 invalid predictions.\n",
      "\n",
      "🔍 Running custom evaluation at end of epoch...\n"
     ]
    },
    {
     "name": "stderr",
     "output_type": "stream",
     "text": [
      "  0%|          | 0/283 [00:00<?, ?it/s]/home/oem/anaconda3/envs/qx/lib/python3.10/site-packages/transformers/generation/configuration_utils.py:629: UserWarning: `do_sample` is set to `False`. However, `temperature` is set to `1.2` -- this flag is only used in sample-based generation modes. You should set `do_sample=True` or unset `temperature`.\n",
      "  warnings.warn(\n",
      "/home/oem/anaconda3/envs/qx/lib/python3.10/site-packages/transformers/generation/configuration_utils.py:634: UserWarning: `do_sample` is set to `False`. However, `top_p` is set to `0.9` -- this flag is only used in sample-based generation modes. You should set `do_sample=True` or unset `top_p`.\n",
      "  warnings.warn(\n",
      "100%|██████████| 283/283 [01:14<00:00,  3.78it/s]\n",
      "[2025-03-30 03:42:32,125]::1875635423::DEBUG::\n",
      "🧪 Custom Evaluation — 1 - MAE: 0.8285\n"
     ]
    },
    {
     "name": "stdout",
     "output_type": "stream",
     "text": [
      "⚠️ Skipped 0 invalid predictions.\n",
      "\n",
      "🔍 Running custom evaluation at end of epoch...\n"
     ]
    },
    {
     "name": "stderr",
     "output_type": "stream",
     "text": [
      "  0%|          | 0/283 [00:00<?, ?it/s]/home/oem/anaconda3/envs/qx/lib/python3.10/site-packages/transformers/generation/configuration_utils.py:629: UserWarning: `do_sample` is set to `False`. However, `temperature` is set to `1.2` -- this flag is only used in sample-based generation modes. You should set `do_sample=True` or unset `temperature`.\n",
      "  warnings.warn(\n",
      "/home/oem/anaconda3/envs/qx/lib/python3.10/site-packages/transformers/generation/configuration_utils.py:634: UserWarning: `do_sample` is set to `False`. However, `top_p` is set to `0.9` -- this flag is only used in sample-based generation modes. You should set `do_sample=True` or unset `top_p`.\n",
      "  warnings.warn(\n",
      "100%|██████████| 283/283 [01:15<00:00,  3.74it/s]\n",
      "[2025-03-30 03:49:14,175]::1875635423::DEBUG::\n",
      "🧪 Custom Evaluation — 1 - MAE: 0.2915\n"
     ]
    },
    {
     "name": "stdout",
     "output_type": "stream",
     "text": [
      "⚠️ Skipped 0 invalid predictions.\n",
      "\n",
      "🔍 Running custom evaluation at end of epoch...\n"
     ]
    },
    {
     "name": "stderr",
     "output_type": "stream",
     "text": [
      "  0%|          | 0/283 [00:00<?, ?it/s]/home/oem/anaconda3/envs/qx/lib/python3.10/site-packages/transformers/generation/configuration_utils.py:629: UserWarning: `do_sample` is set to `False`. However, `temperature` is set to `1.2` -- this flag is only used in sample-based generation modes. You should set `do_sample=True` or unset `temperature`.\n",
      "  warnings.warn(\n",
      "/home/oem/anaconda3/envs/qx/lib/python3.10/site-packages/transformers/generation/configuration_utils.py:634: UserWarning: `do_sample` is set to `False`. However, `top_p` is set to `0.9` -- this flag is only used in sample-based generation modes. You should set `do_sample=True` or unset `top_p`.\n",
      "  warnings.warn(\n",
      "100%|██████████| 283/283 [01:16<00:00,  3.70it/s]\n",
      "[2025-03-30 03:55:57,152]::1875635423::DEBUG::\n",
      "🧪 Custom Evaluation — 1 - MAE: 0.8307\n"
     ]
    },
    {
     "name": "stdout",
     "output_type": "stream",
     "text": [
      "⚠️ Skipped 0 invalid predictions.\n",
      "\n",
      "🔍 Running custom evaluation at end of epoch...\n"
     ]
    },
    {
     "name": "stderr",
     "output_type": "stream",
     "text": [
      "  0%|          | 0/283 [00:00<?, ?it/s]/home/oem/anaconda3/envs/qx/lib/python3.10/site-packages/transformers/generation/configuration_utils.py:629: UserWarning: `do_sample` is set to `False`. However, `temperature` is set to `1.2` -- this flag is only used in sample-based generation modes. You should set `do_sample=True` or unset `temperature`.\n",
      "  warnings.warn(\n",
      "/home/oem/anaconda3/envs/qx/lib/python3.10/site-packages/transformers/generation/configuration_utils.py:634: UserWarning: `do_sample` is set to `False`. However, `top_p` is set to `0.9` -- this flag is only used in sample-based generation modes. You should set `do_sample=True` or unset `top_p`.\n",
      "  warnings.warn(\n",
      "100%|██████████| 283/283 [01:16<00:00,  3.70it/s]\n",
      "[2025-03-30 04:02:40,118]::1875635423::DEBUG::\n",
      "🧪 Custom Evaluation — 1 - MAE: 0.8260\n"
     ]
    },
    {
     "name": "stdout",
     "output_type": "stream",
     "text": [
      "⚠️ Skipped 0 invalid predictions.\n",
      "\n",
      "🔍 Running custom evaluation at end of epoch...\n"
     ]
    },
    {
     "name": "stderr",
     "output_type": "stream",
     "text": [
      "  0%|          | 0/283 [00:00<?, ?it/s]/home/oem/anaconda3/envs/qx/lib/python3.10/site-packages/transformers/generation/configuration_utils.py:629: UserWarning: `do_sample` is set to `False`. However, `temperature` is set to `1.2` -- this flag is only used in sample-based generation modes. You should set `do_sample=True` or unset `temperature`.\n",
      "  warnings.warn(\n",
      "/home/oem/anaconda3/envs/qx/lib/python3.10/site-packages/transformers/generation/configuration_utils.py:634: UserWarning: `do_sample` is set to `False`. However, `top_p` is set to `0.9` -- this flag is only used in sample-based generation modes. You should set `do_sample=True` or unset `top_p`.\n",
      "  warnings.warn(\n",
      "100%|██████████| 283/283 [01:14<00:00,  3.79it/s]\n",
      "[2025-03-30 04:09:20,458]::1875635423::DEBUG::\n",
      "🧪 Custom Evaluation — 1 - MAE: 0.8305\n"
     ]
    },
    {
     "name": "stdout",
     "output_type": "stream",
     "text": [
      "⚠️ Skipped 0 invalid predictions.\n",
      "\n",
      "🔍 Running custom evaluation at end of epoch...\n"
     ]
    },
    {
     "name": "stderr",
     "output_type": "stream",
     "text": [
      "  0%|          | 0/283 [00:00<?, ?it/s]/home/oem/anaconda3/envs/qx/lib/python3.10/site-packages/transformers/generation/configuration_utils.py:629: UserWarning: `do_sample` is set to `False`. However, `temperature` is set to `1.2` -- this flag is only used in sample-based generation modes. You should set `do_sample=True` or unset `temperature`.\n",
      "  warnings.warn(\n",
      "/home/oem/anaconda3/envs/qx/lib/python3.10/site-packages/transformers/generation/configuration_utils.py:634: UserWarning: `do_sample` is set to `False`. However, `top_p` is set to `0.9` -- this flag is only used in sample-based generation modes. You should set `do_sample=True` or unset `top_p`.\n",
      "  warnings.warn(\n",
      "100%|██████████| 283/283 [01:15<00:00,  3.75it/s]\n",
      "[2025-03-30 04:16:01,444]::1875635423::DEBUG::\n",
      "🧪 Custom Evaluation — 1 - MAE: 0.8341\n"
     ]
    },
    {
     "name": "stdout",
     "output_type": "stream",
     "text": [
      "⚠️ Skipped 0 invalid predictions.\n",
      "\n",
      "🔍 Running custom evaluation at end of epoch...\n"
     ]
    },
    {
     "name": "stderr",
     "output_type": "stream",
     "text": [
      "  0%|          | 0/283 [00:00<?, ?it/s]/home/oem/anaconda3/envs/qx/lib/python3.10/site-packages/transformers/generation/configuration_utils.py:629: UserWarning: `do_sample` is set to `False`. However, `temperature` is set to `1.2` -- this flag is only used in sample-based generation modes. You should set `do_sample=True` or unset `temperature`.\n",
      "  warnings.warn(\n",
      "/home/oem/anaconda3/envs/qx/lib/python3.10/site-packages/transformers/generation/configuration_utils.py:634: UserWarning: `do_sample` is set to `False`. However, `top_p` is set to `0.9` -- this flag is only used in sample-based generation modes. You should set `do_sample=True` or unset `top_p`.\n",
      "  warnings.warn(\n",
      "100%|██████████| 283/283 [01:13<00:00,  3.87it/s]\n",
      "[2025-03-30 04:22:39,492]::1875635423::DEBUG::\n",
      "🧪 Custom Evaluation — 1 - MAE: 0.8312\n"
     ]
    },
    {
     "name": "stdout",
     "output_type": "stream",
     "text": [
      "⚠️ Skipped 0 invalid predictions.\n",
      "\n",
      "🔍 Running custom evaluation at end of epoch...\n"
     ]
    },
    {
     "name": "stderr",
     "output_type": "stream",
     "text": [
      "  0%|          | 0/283 [00:00<?, ?it/s]/home/oem/anaconda3/envs/qx/lib/python3.10/site-packages/transformers/generation/configuration_utils.py:629: UserWarning: `do_sample` is set to `False`. However, `temperature` is set to `1.2` -- this flag is only used in sample-based generation modes. You should set `do_sample=True` or unset `temperature`.\n",
      "  warnings.warn(\n",
      "/home/oem/anaconda3/envs/qx/lib/python3.10/site-packages/transformers/generation/configuration_utils.py:634: UserWarning: `do_sample` is set to `False`. However, `top_p` is set to `0.9` -- this flag is only used in sample-based generation modes. You should set `do_sample=True` or unset `top_p`.\n",
      "  warnings.warn(\n",
      "100%|██████████| 283/283 [01:12<00:00,  3.88it/s]\n",
      "[2025-03-30 04:29:16,125]::1875635423::DEBUG::\n",
      "🧪 Custom Evaluation — 1 - MAE: 0.2946\n"
     ]
    },
    {
     "name": "stdout",
     "output_type": "stream",
     "text": [
      "⚠️ Skipped 0 invalid predictions.\n",
      "\n",
      "🔍 Running custom evaluation at end of epoch...\n"
     ]
    },
    {
     "name": "stderr",
     "output_type": "stream",
     "text": [
      "  0%|          | 0/283 [00:00<?, ?it/s]/home/oem/anaconda3/envs/qx/lib/python3.10/site-packages/transformers/generation/configuration_utils.py:629: UserWarning: `do_sample` is set to `False`. However, `temperature` is set to `1.2` -- this flag is only used in sample-based generation modes. You should set `do_sample=True` or unset `temperature`.\n",
      "  warnings.warn(\n",
      "/home/oem/anaconda3/envs/qx/lib/python3.10/site-packages/transformers/generation/configuration_utils.py:634: UserWarning: `do_sample` is set to `False`. However, `top_p` is set to `0.9` -- this flag is only used in sample-based generation modes. You should set `do_sample=True` or unset `top_p`.\n",
      "  warnings.warn(\n",
      "100%|██████████| 283/283 [01:13<00:00,  3.87it/s]\n",
      "[2025-03-30 04:35:53,307]::1875635423::DEBUG::\n",
      "🧪 Custom Evaluation — 1 - MAE: 0.8296\n"
     ]
    },
    {
     "name": "stdout",
     "output_type": "stream",
     "text": [
      "⚠️ Skipped 0 invalid predictions.\n",
      "\n",
      "🔍 Running custom evaluation at end of epoch...\n"
     ]
    },
    {
     "name": "stderr",
     "output_type": "stream",
     "text": [
      "  0%|          | 0/283 [00:00<?, ?it/s]/home/oem/anaconda3/envs/qx/lib/python3.10/site-packages/transformers/generation/configuration_utils.py:629: UserWarning: `do_sample` is set to `False`. However, `temperature` is set to `1.2` -- this flag is only used in sample-based generation modes. You should set `do_sample=True` or unset `temperature`.\n",
      "  warnings.warn(\n",
      "/home/oem/anaconda3/envs/qx/lib/python3.10/site-packages/transformers/generation/configuration_utils.py:634: UserWarning: `do_sample` is set to `False`. However, `top_p` is set to `0.9` -- this flag is only used in sample-based generation modes. You should set `do_sample=True` or unset `top_p`.\n",
      "  warnings.warn(\n",
      "100%|██████████| 283/283 [01:12<00:00,  3.89it/s]\n",
      "[2025-03-30 04:42:29,808]::1875635423::DEBUG::\n",
      "🧪 Custom Evaluation — 1 - MAE: 0.8283\n"
     ]
    },
    {
     "name": "stdout",
     "output_type": "stream",
     "text": [
      "⚠️ Skipped 0 invalid predictions.\n",
      "\n",
      "🔍 Running custom evaluation at end of epoch...\n"
     ]
    },
    {
     "name": "stderr",
     "output_type": "stream",
     "text": [
      "  0%|          | 0/283 [00:00<?, ?it/s]/home/oem/anaconda3/envs/qx/lib/python3.10/site-packages/transformers/generation/configuration_utils.py:629: UserWarning: `do_sample` is set to `False`. However, `temperature` is set to `1.2` -- this flag is only used in sample-based generation modes. You should set `do_sample=True` or unset `temperature`.\n",
      "  warnings.warn(\n",
      "/home/oem/anaconda3/envs/qx/lib/python3.10/site-packages/transformers/generation/configuration_utils.py:634: UserWarning: `do_sample` is set to `False`. However, `top_p` is set to `0.9` -- this flag is only used in sample-based generation modes. You should set `do_sample=True` or unset `top_p`.\n",
      "  warnings.warn(\n",
      "100%|██████████| 283/283 [01:13<00:00,  3.87it/s]\n",
      "[2025-03-30 04:49:06,641]::1875635423::DEBUG::\n",
      "🧪 Custom Evaluation — 1 - MAE: 0.8317\n"
     ]
    },
    {
     "name": "stdout",
     "output_type": "stream",
     "text": [
      "⚠️ Skipped 0 invalid predictions.\n",
      "\n",
      "🔍 Running custom evaluation at end of epoch...\n"
     ]
    },
    {
     "name": "stderr",
     "output_type": "stream",
     "text": [
      "  0%|          | 0/283 [00:00<?, ?it/s]/home/oem/anaconda3/envs/qx/lib/python3.10/site-packages/transformers/generation/configuration_utils.py:629: UserWarning: `do_sample` is set to `False`. However, `temperature` is set to `1.2` -- this flag is only used in sample-based generation modes. You should set `do_sample=True` or unset `temperature`.\n",
      "  warnings.warn(\n",
      "/home/oem/anaconda3/envs/qx/lib/python3.10/site-packages/transformers/generation/configuration_utils.py:634: UserWarning: `do_sample` is set to `False`. However, `top_p` is set to `0.9` -- this flag is only used in sample-based generation modes. You should set `do_sample=True` or unset `top_p`.\n",
      "  warnings.warn(\n",
      "100%|██████████| 283/283 [01:12<00:00,  3.88it/s]\n",
      "[2025-03-30 04:55:43,237]::1875635423::DEBUG::\n",
      "🧪 Custom Evaluation — 1 - MAE: 0.8296\n"
     ]
    },
    {
     "name": "stdout",
     "output_type": "stream",
     "text": [
      "⚠️ Skipped 0 invalid predictions.\n",
      "\n",
      "🔍 Running custom evaluation at end of epoch...\n"
     ]
    },
    {
     "name": "stderr",
     "output_type": "stream",
     "text": [
      "  0%|          | 0/283 [00:00<?, ?it/s]/home/oem/anaconda3/envs/qx/lib/python3.10/site-packages/transformers/generation/configuration_utils.py:629: UserWarning: `do_sample` is set to `False`. However, `temperature` is set to `1.2` -- this flag is only used in sample-based generation modes. You should set `do_sample=True` or unset `temperature`.\n",
      "  warnings.warn(\n",
      "/home/oem/anaconda3/envs/qx/lib/python3.10/site-packages/transformers/generation/configuration_utils.py:634: UserWarning: `do_sample` is set to `False`. However, `top_p` is set to `0.9` -- this flag is only used in sample-based generation modes. You should set `do_sample=True` or unset `top_p`.\n",
      "  warnings.warn(\n",
      "100%|██████████| 283/283 [01:12<00:00,  3.89it/s]\n",
      "[2025-03-30 05:02:19,836]::1875635423::DEBUG::\n",
      "🧪 Custom Evaluation — 1 - MAE: 0.8381\n"
     ]
    },
    {
     "name": "stdout",
     "output_type": "stream",
     "text": [
      "⚠️ Skipped 0 invalid predictions.\n",
      "\n",
      "🔍 Running custom evaluation at end of epoch...\n"
     ]
    },
    {
     "name": "stderr",
     "output_type": "stream",
     "text": [
      "  0%|          | 0/283 [00:00<?, ?it/s]/home/oem/anaconda3/envs/qx/lib/python3.10/site-packages/transformers/generation/configuration_utils.py:629: UserWarning: `do_sample` is set to `False`. However, `temperature` is set to `1.2` -- this flag is only used in sample-based generation modes. You should set `do_sample=True` or unset `temperature`.\n",
      "  warnings.warn(\n",
      "/home/oem/anaconda3/envs/qx/lib/python3.10/site-packages/transformers/generation/configuration_utils.py:634: UserWarning: `do_sample` is set to `False`. However, `top_p` is set to `0.9` -- this flag is only used in sample-based generation modes. You should set `do_sample=True` or unset `top_p`.\n",
      "  warnings.warn(\n",
      "100%|██████████| 283/283 [01:12<00:00,  3.89it/s]\n",
      "[2025-03-30 05:08:56,365]::1875635423::DEBUG::\n",
      "🧪 Custom Evaluation — 1 - MAE: 0.8314\n"
     ]
    },
    {
     "name": "stdout",
     "output_type": "stream",
     "text": [
      "⚠️ Skipped 0 invalid predictions.\n",
      "\n",
      "🔍 Running custom evaluation at end of epoch...\n"
     ]
    },
    {
     "name": "stderr",
     "output_type": "stream",
     "text": [
      "  0%|          | 0/283 [00:00<?, ?it/s]/home/oem/anaconda3/envs/qx/lib/python3.10/site-packages/transformers/generation/configuration_utils.py:629: UserWarning: `do_sample` is set to `False`. However, `temperature` is set to `1.2` -- this flag is only used in sample-based generation modes. You should set `do_sample=True` or unset `temperature`.\n",
      "  warnings.warn(\n",
      "/home/oem/anaconda3/envs/qx/lib/python3.10/site-packages/transformers/generation/configuration_utils.py:634: UserWarning: `do_sample` is set to `False`. However, `top_p` is set to `0.9` -- this flag is only used in sample-based generation modes. You should set `do_sample=True` or unset `top_p`.\n",
      "  warnings.warn(\n",
      "100%|██████████| 283/283 [01:12<00:00,  3.89it/s]\n",
      "[2025-03-30 05:15:32,741]::1875635423::DEBUG::\n",
      "🧪 Custom Evaluation — 1 - MAE: 0.8345\n"
     ]
    },
    {
     "name": "stdout",
     "output_type": "stream",
     "text": [
      "⚠️ Skipped 0 invalid predictions.\n",
      "\n",
      "🔍 Running custom evaluation at end of epoch...\n"
     ]
    },
    {
     "name": "stderr",
     "output_type": "stream",
     "text": [
      "  0%|          | 0/283 [00:00<?, ?it/s]/home/oem/anaconda3/envs/qx/lib/python3.10/site-packages/transformers/generation/configuration_utils.py:629: UserWarning: `do_sample` is set to `False`. However, `temperature` is set to `1.2` -- this flag is only used in sample-based generation modes. You should set `do_sample=True` or unset `temperature`.\n",
      "  warnings.warn(\n",
      "/home/oem/anaconda3/envs/qx/lib/python3.10/site-packages/transformers/generation/configuration_utils.py:634: UserWarning: `do_sample` is set to `False`. However, `top_p` is set to `0.9` -- this flag is only used in sample-based generation modes. You should set `do_sample=True` or unset `top_p`.\n",
      "  warnings.warn(\n",
      "100%|██████████| 283/283 [01:12<00:00,  3.90it/s]\n",
      "[2025-03-30 05:22:09,321]::1875635423::DEBUG::\n",
      "🧪 Custom Evaluation — 1 - MAE: 0.8388\n"
     ]
    },
    {
     "name": "stdout",
     "output_type": "stream",
     "text": [
      "⚠️ Skipped 1 invalid predictions.\n",
      "\n",
      "🔍 Running custom evaluation at end of epoch...\n"
     ]
    },
    {
     "name": "stderr",
     "output_type": "stream",
     "text": [
      "  0%|          | 0/283 [00:00<?, ?it/s]/home/oem/anaconda3/envs/qx/lib/python3.10/site-packages/transformers/generation/configuration_utils.py:629: UserWarning: `do_sample` is set to `False`. However, `temperature` is set to `1.2` -- this flag is only used in sample-based generation modes. You should set `do_sample=True` or unset `temperature`.\n",
      "  warnings.warn(\n",
      "/home/oem/anaconda3/envs/qx/lib/python3.10/site-packages/transformers/generation/configuration_utils.py:634: UserWarning: `do_sample` is set to `False`. However, `top_p` is set to `0.9` -- this flag is only used in sample-based generation modes. You should set `do_sample=True` or unset `top_p`.\n",
      "  warnings.warn(\n",
      "100%|██████████| 283/283 [01:13<00:00,  3.84it/s]\n",
      "[2025-03-30 05:28:46,885]::1875635423::DEBUG::\n",
      "🧪 Custom Evaluation — 1 - MAE: 0.8378\n"
     ]
    },
    {
     "name": "stdout",
     "output_type": "stream",
     "text": [
      "⚠️ Skipped 2 invalid predictions.\n",
      "\n",
      "🔍 Running custom evaluation at end of epoch...\n"
     ]
    },
    {
     "name": "stderr",
     "output_type": "stream",
     "text": [
      "  0%|          | 0/283 [00:00<?, ?it/s]/home/oem/anaconda3/envs/qx/lib/python3.10/site-packages/transformers/generation/configuration_utils.py:629: UserWarning: `do_sample` is set to `False`. However, `temperature` is set to `1.2` -- this flag is only used in sample-based generation modes. You should set `do_sample=True` or unset `temperature`.\n",
      "  warnings.warn(\n",
      "/home/oem/anaconda3/envs/qx/lib/python3.10/site-packages/transformers/generation/configuration_utils.py:634: UserWarning: `do_sample` is set to `False`. However, `top_p` is set to `0.9` -- this flag is only used in sample-based generation modes. You should set `do_sample=True` or unset `top_p`.\n",
      "  warnings.warn(\n",
      "100%|██████████| 283/283 [01:13<00:00,  3.86it/s]\n",
      "[2025-03-30 05:35:23,905]::1875635423::DEBUG::\n",
      "🧪 Custom Evaluation — 1 - MAE: 0.8384\n"
     ]
    },
    {
     "name": "stdout",
     "output_type": "stream",
     "text": [
      "⚠️ Skipped 0 invalid predictions.\n",
      "\n",
      "🔍 Running custom evaluation at end of epoch...\n"
     ]
    },
    {
     "name": "stderr",
     "output_type": "stream",
     "text": [
      "  0%|          | 0/283 [00:00<?, ?it/s]/home/oem/anaconda3/envs/qx/lib/python3.10/site-packages/transformers/generation/configuration_utils.py:629: UserWarning: `do_sample` is set to `False`. However, `temperature` is set to `1.2` -- this flag is only used in sample-based generation modes. You should set `do_sample=True` or unset `temperature`.\n",
      "  warnings.warn(\n",
      "/home/oem/anaconda3/envs/qx/lib/python3.10/site-packages/transformers/generation/configuration_utils.py:634: UserWarning: `do_sample` is set to `False`. However, `top_p` is set to `0.9` -- this flag is only used in sample-based generation modes. You should set `do_sample=True` or unset `top_p`.\n",
      "  warnings.warn(\n",
      "100%|██████████| 283/283 [01:13<00:00,  3.83it/s]\n",
      "[2025-03-30 05:42:01,845]::1875635423::DEBUG::\n",
      "🧪 Custom Evaluation — 1 - MAE: 0.3057\n"
     ]
    },
    {
     "name": "stdout",
     "output_type": "stream",
     "text": [
      "⚠️ Skipped 1 invalid predictions.\n",
      "\n",
      "🔍 Running custom evaluation at end of epoch...\n"
     ]
    },
    {
     "name": "stderr",
     "output_type": "stream",
     "text": [
      "  0%|          | 0/283 [00:00<?, ?it/s]/home/oem/anaconda3/envs/qx/lib/python3.10/site-packages/transformers/generation/configuration_utils.py:629: UserWarning: `do_sample` is set to `False`. However, `temperature` is set to `1.2` -- this flag is only used in sample-based generation modes. You should set `do_sample=True` or unset `temperature`.\n",
      "  warnings.warn(\n",
      "/home/oem/anaconda3/envs/qx/lib/python3.10/site-packages/transformers/generation/configuration_utils.py:634: UserWarning: `do_sample` is set to `False`. However, `top_p` is set to `0.9` -- this flag is only used in sample-based generation modes. You should set `do_sample=True` or unset `top_p`.\n",
      "  warnings.warn(\n",
      "100%|██████████| 283/283 [01:14<00:00,  3.81it/s]\n",
      "[2025-03-30 05:48:39,577]::1875635423::DEBUG::\n",
      "🧪 Custom Evaluation — 1 - MAE: 0.8373\n"
     ]
    },
    {
     "name": "stdout",
     "output_type": "stream",
     "text": [
      "⚠️ Skipped 3 invalid predictions.\n",
      "\n",
      "🔍 Running custom evaluation at end of epoch...\n"
     ]
    },
    {
     "name": "stderr",
     "output_type": "stream",
     "text": [
      "  0%|          | 0/283 [00:00<?, ?it/s]/home/oem/anaconda3/envs/qx/lib/python3.10/site-packages/transformers/generation/configuration_utils.py:629: UserWarning: `do_sample` is set to `False`. However, `temperature` is set to `1.2` -- this flag is only used in sample-based generation modes. You should set `do_sample=True` or unset `temperature`.\n",
      "  warnings.warn(\n",
      "/home/oem/anaconda3/envs/qx/lib/python3.10/site-packages/transformers/generation/configuration_utils.py:634: UserWarning: `do_sample` is set to `False`. However, `top_p` is set to `0.9` -- this flag is only used in sample-based generation modes. You should set `do_sample=True` or unset `top_p`.\n",
      "  warnings.warn(\n",
      "100%|██████████| 283/283 [01:14<00:00,  3.82it/s]\n",
      "[2025-03-30 05:55:17,905]::1875635423::DEBUG::\n",
      "🧪 Custom Evaluation — 1 - MAE: 0.8415\n"
     ]
    },
    {
     "name": "stdout",
     "output_type": "stream",
     "text": [
      "⚠️ Skipped 1 invalid predictions.\n",
      "\n",
      "🔍 Running custom evaluation at end of epoch...\n"
     ]
    },
    {
     "name": "stderr",
     "output_type": "stream",
     "text": [
      "  0%|          | 0/283 [00:00<?, ?it/s]/home/oem/anaconda3/envs/qx/lib/python3.10/site-packages/transformers/generation/configuration_utils.py:629: UserWarning: `do_sample` is set to `False`. However, `temperature` is set to `1.2` -- this flag is only used in sample-based generation modes. You should set `do_sample=True` or unset `temperature`.\n",
      "  warnings.warn(\n",
      "/home/oem/anaconda3/envs/qx/lib/python3.10/site-packages/transformers/generation/configuration_utils.py:634: UserWarning: `do_sample` is set to `False`. However, `top_p` is set to `0.9` -- this flag is only used in sample-based generation modes. You should set `do_sample=True` or unset `top_p`.\n",
      "  warnings.warn(\n",
      "100%|██████████| 283/283 [01:13<00:00,  3.84it/s]\n",
      "[2025-03-30 06:01:55,218]::1875635423::DEBUG::\n",
      "🧪 Custom Evaluation — 1 - MAE: 0.8365\n"
     ]
    },
    {
     "name": "stdout",
     "output_type": "stream",
     "text": [
      "⚠️ Skipped 1 invalid predictions.\n",
      "\n",
      "🔍 Running custom evaluation at end of epoch...\n"
     ]
    },
    {
     "name": "stderr",
     "output_type": "stream",
     "text": [
      "  0%|          | 0/283 [00:00<?, ?it/s]/home/oem/anaconda3/envs/qx/lib/python3.10/site-packages/transformers/generation/configuration_utils.py:629: UserWarning: `do_sample` is set to `False`. However, `temperature` is set to `1.2` -- this flag is only used in sample-based generation modes. You should set `do_sample=True` or unset `temperature`.\n",
      "  warnings.warn(\n",
      "/home/oem/anaconda3/envs/qx/lib/python3.10/site-packages/transformers/generation/configuration_utils.py:634: UserWarning: `do_sample` is set to `False`. However, `top_p` is set to `0.9` -- this flag is only used in sample-based generation modes. You should set `do_sample=True` or unset `top_p`.\n",
      "  warnings.warn(\n",
      "100%|██████████| 283/283 [01:14<00:00,  3.81it/s]\n",
      "[2025-03-30 06:08:33,264]::1875635423::DEBUG::\n",
      "🧪 Custom Evaluation — 1 - MAE: 0.3034\n"
     ]
    },
    {
     "name": "stdout",
     "output_type": "stream",
     "text": [
      "⚠️ Skipped 2 invalid predictions.\n",
      "\n",
      "🔍 Running custom evaluation at end of epoch...\n"
     ]
    },
    {
     "name": "stderr",
     "output_type": "stream",
     "text": [
      "  0%|          | 0/283 [00:00<?, ?it/s]/home/oem/anaconda3/envs/qx/lib/python3.10/site-packages/transformers/generation/configuration_utils.py:629: UserWarning: `do_sample` is set to `False`. However, `temperature` is set to `1.2` -- this flag is only used in sample-based generation modes. You should set `do_sample=True` or unset `temperature`.\n",
      "  warnings.warn(\n",
      "/home/oem/anaconda3/envs/qx/lib/python3.10/site-packages/transformers/generation/configuration_utils.py:634: UserWarning: `do_sample` is set to `False`. However, `top_p` is set to `0.9` -- this flag is only used in sample-based generation modes. You should set `do_sample=True` or unset `top_p`.\n",
      "  warnings.warn(\n",
      "100%|██████████| 283/283 [01:14<00:00,  3.82it/s]\n",
      "[2025-03-30 06:15:11,151]::1875635423::DEBUG::\n",
      "🧪 Custom Evaluation — 1 - MAE: -0.6226\n"
     ]
    },
    {
     "name": "stdout",
     "output_type": "stream",
     "text": [
      "⚠️ Skipped 3 invalid predictions.\n",
      "\n",
      "🔍 Running custom evaluation at end of epoch...\n"
     ]
    },
    {
     "name": "stderr",
     "output_type": "stream",
     "text": [
      "  0%|          | 0/283 [00:00<?, ?it/s]/home/oem/anaconda3/envs/qx/lib/python3.10/site-packages/transformers/generation/configuration_utils.py:629: UserWarning: `do_sample` is set to `False`. However, `temperature` is set to `1.2` -- this flag is only used in sample-based generation modes. You should set `do_sample=True` or unset `temperature`.\n",
      "  warnings.warn(\n",
      "/home/oem/anaconda3/envs/qx/lib/python3.10/site-packages/transformers/generation/configuration_utils.py:634: UserWarning: `do_sample` is set to `False`. However, `top_p` is set to `0.9` -- this flag is only used in sample-based generation modes. You should set `do_sample=True` or unset `top_p`.\n",
      "  warnings.warn(\n",
      "100%|██████████| 283/283 [01:14<00:00,  3.80it/s]\n",
      "[2025-03-30 06:21:49,351]::1875635423::DEBUG::\n",
      "🧪 Custom Evaluation — 1 - MAE: -1.2989\n"
     ]
    },
    {
     "name": "stdout",
     "output_type": "stream",
     "text": [
      "⚠️ Skipped 3 invalid predictions.\n",
      "\n",
      "🔍 Running custom evaluation at end of epoch...\n"
     ]
    },
    {
     "name": "stderr",
     "output_type": "stream",
     "text": [
      "  0%|          | 0/283 [00:00<?, ?it/s]/home/oem/anaconda3/envs/qx/lib/python3.10/site-packages/transformers/generation/configuration_utils.py:629: UserWarning: `do_sample` is set to `False`. However, `temperature` is set to `1.2` -- this flag is only used in sample-based generation modes. You should set `do_sample=True` or unset `temperature`.\n",
      "  warnings.warn(\n",
      "/home/oem/anaconda3/envs/qx/lib/python3.10/site-packages/transformers/generation/configuration_utils.py:634: UserWarning: `do_sample` is set to `False`. However, `top_p` is set to `0.9` -- this flag is only used in sample-based generation modes. You should set `do_sample=True` or unset `top_p`.\n",
      "  warnings.warn(\n",
      "100%|██████████| 283/283 [01:13<00:00,  3.87it/s]\n",
      "[2025-03-30 06:28:26,274]::1875635423::DEBUG::\n",
      "🧪 Custom Evaluation — 1 - MAE: 0.3032\n"
     ]
    },
    {
     "name": "stdout",
     "output_type": "stream",
     "text": [
      "⚠️ Skipped 2 invalid predictions.\n",
      "\n",
      "🔍 Running custom evaluation at end of epoch...\n"
     ]
    },
    {
     "name": "stderr",
     "output_type": "stream",
     "text": [
      "  0%|          | 0/283 [00:00<?, ?it/s]/home/oem/anaconda3/envs/qx/lib/python3.10/site-packages/transformers/generation/configuration_utils.py:629: UserWarning: `do_sample` is set to `False`. However, `temperature` is set to `1.2` -- this flag is only used in sample-based generation modes. You should set `do_sample=True` or unset `temperature`.\n",
      "  warnings.warn(\n",
      "/home/oem/anaconda3/envs/qx/lib/python3.10/site-packages/transformers/generation/configuration_utils.py:634: UserWarning: `do_sample` is set to `False`. However, `top_p` is set to `0.9` -- this flag is only used in sample-based generation modes. You should set `do_sample=True` or unset `top_p`.\n",
      "  warnings.warn(\n",
      "100%|██████████| 283/283 [01:13<00:00,  3.84it/s]\n",
      "[2025-03-30 06:35:03,743]::1875635423::DEBUG::\n",
      "🧪 Custom Evaluation — 1 - MAE: -0.7613\n"
     ]
    },
    {
     "name": "stdout",
     "output_type": "stream",
     "text": [
      "⚠️ Skipped 0 invalid predictions.\n",
      "\n",
      "🔍 Running custom evaluation at end of epoch...\n"
     ]
    },
    {
     "name": "stderr",
     "output_type": "stream",
     "text": [
      "  0%|          | 0/283 [00:00<?, ?it/s]/home/oem/anaconda3/envs/qx/lib/python3.10/site-packages/transformers/generation/configuration_utils.py:629: UserWarning: `do_sample` is set to `False`. However, `temperature` is set to `1.2` -- this flag is only used in sample-based generation modes. You should set `do_sample=True` or unset `temperature`.\n",
      "  warnings.warn(\n",
      "/home/oem/anaconda3/envs/qx/lib/python3.10/site-packages/transformers/generation/configuration_utils.py:634: UserWarning: `do_sample` is set to `False`. However, `top_p` is set to `0.9` -- this flag is only used in sample-based generation modes. You should set `do_sample=True` or unset `top_p`.\n",
      "  warnings.warn(\n",
      "100%|██████████| 283/283 [01:13<00:00,  3.86it/s]\n",
      "[2025-03-30 06:41:40,868]::1875635423::DEBUG::\n",
      "🧪 Custom Evaluation — 1 - MAE: 0.8394\n"
     ]
    },
    {
     "name": "stdout",
     "output_type": "stream",
     "text": [
      "⚠️ Skipped 2 invalid predictions.\n",
      "\n",
      "🔍 Running custom evaluation at end of epoch...\n"
     ]
    },
    {
     "name": "stderr",
     "output_type": "stream",
     "text": [
      "  0%|          | 0/283 [00:00<?, ?it/s]/home/oem/anaconda3/envs/qx/lib/python3.10/site-packages/transformers/generation/configuration_utils.py:629: UserWarning: `do_sample` is set to `False`. However, `temperature` is set to `1.2` -- this flag is only used in sample-based generation modes. You should set `do_sample=True` or unset `temperature`.\n",
      "  warnings.warn(\n",
      "/home/oem/anaconda3/envs/qx/lib/python3.10/site-packages/transformers/generation/configuration_utils.py:634: UserWarning: `do_sample` is set to `False`. However, `top_p` is set to `0.9` -- this flag is only used in sample-based generation modes. You should set `do_sample=True` or unset `top_p`.\n",
      "  warnings.warn(\n",
      "100%|██████████| 283/283 [01:13<00:00,  3.84it/s]\n",
      "[2025-03-30 06:48:18,257]::1875635423::DEBUG::\n",
      "🧪 Custom Evaluation — 1 - MAE: 0.8391\n"
     ]
    },
    {
     "name": "stdout",
     "output_type": "stream",
     "text": [
      "⚠️ Skipped 1 invalid predictions.\n",
      "\n",
      "🔍 Running custom evaluation at end of epoch...\n"
     ]
    },
    {
     "name": "stderr",
     "output_type": "stream",
     "text": [
      "  0%|          | 0/283 [00:00<?, ?it/s]/home/oem/anaconda3/envs/qx/lib/python3.10/site-packages/transformers/generation/configuration_utils.py:629: UserWarning: `do_sample` is set to `False`. However, `temperature` is set to `1.2` -- this flag is only used in sample-based generation modes. You should set `do_sample=True` or unset `temperature`.\n",
      "  warnings.warn(\n",
      "/home/oem/anaconda3/envs/qx/lib/python3.10/site-packages/transformers/generation/configuration_utils.py:634: UserWarning: `do_sample` is set to `False`. However, `top_p` is set to `0.9` -- this flag is only used in sample-based generation modes. You should set `do_sample=True` or unset `top_p`.\n",
      "  warnings.warn(\n",
      "100%|██████████| 283/283 [01:13<00:00,  3.83it/s]\n",
      "[2025-03-30 06:54:55,706]::1875635423::DEBUG::\n",
      "🧪 Custom Evaluation — 1 - MAE: -0.2284\n"
     ]
    },
    {
     "name": "stdout",
     "output_type": "stream",
     "text": [
      "⚠️ Skipped 0 invalid predictions.\n",
      "\n",
      "🔍 Running custom evaluation at end of epoch...\n"
     ]
    },
    {
     "name": "stderr",
     "output_type": "stream",
     "text": [
      "  0%|          | 0/283 [00:00<?, ?it/s]/home/oem/anaconda3/envs/qx/lib/python3.10/site-packages/transformers/generation/configuration_utils.py:629: UserWarning: `do_sample` is set to `False`. However, `temperature` is set to `1.2` -- this flag is only used in sample-based generation modes. You should set `do_sample=True` or unset `temperature`.\n",
      "  warnings.warn(\n",
      "/home/oem/anaconda3/envs/qx/lib/python3.10/site-packages/transformers/generation/configuration_utils.py:634: UserWarning: `do_sample` is set to `False`. However, `top_p` is set to `0.9` -- this flag is only used in sample-based generation modes. You should set `do_sample=True` or unset `top_p`.\n",
      "  warnings.warn(\n",
      "100%|██████████| 283/283 [01:13<00:00,  3.83it/s]\n",
      "[2025-03-30 07:01:33,667]::1875635423::DEBUG::\n",
      "🧪 Custom Evaluation — 1 - MAE: -1.2996\n"
     ]
    },
    {
     "name": "stdout",
     "output_type": "stream",
     "text": [
      "⚠️ Skipped 2 invalid predictions.\n",
      "\n",
      "🔍 Running custom evaluation at end of epoch...\n"
     ]
    },
    {
     "name": "stderr",
     "output_type": "stream",
     "text": [
      "  0%|          | 0/283 [00:00<?, ?it/s]/home/oem/anaconda3/envs/qx/lib/python3.10/site-packages/transformers/generation/configuration_utils.py:629: UserWarning: `do_sample` is set to `False`. However, `temperature` is set to `1.2` -- this flag is only used in sample-based generation modes. You should set `do_sample=True` or unset `temperature`.\n",
      "  warnings.warn(\n",
      "/home/oem/anaconda3/envs/qx/lib/python3.10/site-packages/transformers/generation/configuration_utils.py:634: UserWarning: `do_sample` is set to `False`. However, `top_p` is set to `0.9` -- this flag is only used in sample-based generation modes. You should set `do_sample=True` or unset `top_p`.\n",
      "  warnings.warn(\n",
      "100%|██████████| 283/283 [01:13<00:00,  3.86it/s]\n",
      "[2025-03-30 07:08:10,645]::1875635423::DEBUG::\n",
      "🧪 Custom Evaluation — 1 - MAE: -1.2980\n"
     ]
    },
    {
     "name": "stdout",
     "output_type": "stream",
     "text": [
      "⚠️ Skipped 2 invalid predictions.\n"
     ]
    },
    {
     "data": {
      "text/plain": [
       "('./basembart-large-50-float/epoch100/tokenizer_config.json',\n",
       " './basembart-large-50-float/epoch100/special_tokens_map.json',\n",
       " './basembart-large-50-float/epoch100/sentencepiece.bpe.model',\n",
       " './basembart-large-50-float/epoch100/added_tokens.json',\n",
       " './basembart-large-50-float/epoch100/tokenizer.json')"
      ]
     },
     "execution_count": 22,
     "metadata": {},
     "output_type": "execute_result"
    }
   ],
   "source": [
    "from transformers import TrainingArguments, Trainer, EarlyStoppingCallback\n",
    "\n",
    "# 학습 설정\n",
    "training_args = TrainingArguments(\n",
    "    output_dir=\"./baseresults\",\n",
    "    num_train_epochs=50,\n",
    "    per_device_train_batch_size=8,\n",
    "    per_device_eval_batch_size=8,\n",
    "    evaluation_strategy=\"no\",  \n",
    "    save_strategy=\"no\",\n",
    "    logging_strategy=\"steps\",\n",
    "    logging_steps=1000,\n",
    "    save_total_limit=2,\n",
    "    load_best_model_at_end=False\n",
    "    # fp16=True\n",
    ")\n",
    "\n",
    "callback = OceanEvalCallback(\n",
    "    eval_dataloader=eval_dataloader,\n",
    "    tokenizer=tokenizer,\n",
    "    device=device,\n",
    "    output_dir=\"./basebest_model\"\n",
    ")\n",
    "trainer = Trainer(\n",
    "    model=model,\n",
    "    args=training_args,\n",
    "    train_dataset=train_dataset,\n",
    "    tokenizer=tokenizer,\n",
    "    callbacks=[callback],\n",
    "    data_collator=my_train_collate_fn\n",
    ")\n",
    "print(train_dataset)\n",
    "# 모델 학습 시작\n",
    "trainer.train()\n",
    "# 모델 저장\n",
    "savefile = \"./basembart-large-50-float/epoch100\"\n",
    "trainer.save_model(savefile)\n",
    "tokenizer.save_pretrained(savefile)"
   ]
  }
 ],
 "metadata": {
  "kernelspec": {
   "display_name": "qx",
   "language": "python",
   "name": "python3"
  },
  "language_info": {
   "codemirror_mode": {
    "name": "ipython",
    "version": 3
   },
   "file_extension": ".py",
   "mimetype": "text/x-python",
   "name": "python",
   "nbconvert_exporter": "python",
   "pygments_lexer": "ipython3",
   "version": "3.10.13"
  }
 },
 "nbformat": 4,
 "nbformat_minor": 2
}
